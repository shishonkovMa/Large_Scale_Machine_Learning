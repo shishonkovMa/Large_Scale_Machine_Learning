{
 "cells": [
  {
   "cell_type": "markdown",
   "metadata": {},
   "source": [
    "<a target=\"_blank\" href=\"../cluster\" style=\"font-size:20px\">All Applications (YARN)</a>"
   ]
  },
  {
   "cell_type": "markdown",
   "metadata": {},
   "source": [
    "# Spark configuration\n",
    "\n",
    "https://spark.apache.org/docs/latest/configuration.html\n",
    "\n",
    "https://spark.apache.org/docs/latest/running-on-yarn.html"
   ]
  },
  {
   "cell_type": "markdown",
   "metadata": {},
   "source": [
    "RAM usage (in MB):\n",
    "- Driver / Application Master: 512 + 384 = 896\n",
    "- Executor: 512 + 576 = 1088\n",
    "- Total: 896 + 1088 * 2 = 3072 (yarn limit)"
   ]
  },
  {
   "cell_type": "code",
   "execution_count": 15,
   "metadata": {
    "tags": []
   },
   "outputs": [
    {
     "name": "stdout",
     "output_type": "stream",
     "text": [
      "# https://spark.apache.org/docs/latest/running-on-yarn.html\n",
      "# https://spark.apache.org/docs/latest/configuration.html\n",
      "spark.default.parallelism 32\n",
      "spark.master yarn\n",
      "spark.driver.memory 512m\n",
      "spark.driver.memoryOverhead 384\n",
      "spark.executor.instances 2\n",
      "spark.executor.memory 512m\n",
      "spark.python.worker.memory 320m\n",
      "spark.executor.memoryOverhead 576\n",
      "spark.yarn.max.executor.failures 1000"
     ]
    }
   ],
   "source": [
    "! cat $SPARK_HOME/conf/spark-defaults.conf"
   ]
  },
  {
   "cell_type": "markdown",
   "metadata": {},
   "source": [
    "# Create SparkContext\n",
    "https://spark.apache.org/docs/latest/rdd-programming-guide.html"
   ]
  },
  {
   "cell_type": "code",
   "execution_count": 19,
   "metadata": {
    "tags": []
   },
   "outputs": [
    {
     "ename": "Py4JJavaError",
     "evalue": "An error occurred while calling None.org.apache.spark.api.java.JavaSparkContext.\n: org.apache.spark.SparkException: Only one SparkContext should be running in this JVM (see SPARK-2243).The currently running SparkContext was created at:\norg.apache.spark.api.java.JavaSparkContext.<init>(JavaSparkContext.scala:58)\nsun.reflect.NativeConstructorAccessorImpl.newInstance0(Native Method)\nsun.reflect.NativeConstructorAccessorImpl.newInstance(NativeConstructorAccessorImpl.java:62)\nsun.reflect.DelegatingConstructorAccessorImpl.newInstance(DelegatingConstructorAccessorImpl.java:45)\njava.lang.reflect.Constructor.newInstance(Constructor.java:423)\npy4j.reflection.MethodInvoker.invoke(MethodInvoker.java:247)\npy4j.reflection.ReflectionEngine.invoke(ReflectionEngine.java:357)\npy4j.Gateway.invoke(Gateway.java:238)\npy4j.commands.ConstructorCommand.invokeConstructor(ConstructorCommand.java:80)\npy4j.commands.ConstructorCommand.execute(ConstructorCommand.java:69)\npy4j.ClientServerConnection.waitForCommands(ClientServerConnection.java:182)\npy4j.ClientServerConnection.run(ClientServerConnection.java:106)\njava.lang.Thread.run(Thread.java:750)\n\tat org.apache.spark.SparkContext$.$anonfun$assertNoOtherContextIsRunning$2(SparkContext.scala:2647)\n\tat scala.Option.foreach(Option.scala:407)\n\tat org.apache.spark.SparkContext$.assertNoOtherContextIsRunning(SparkContext.scala:2644)\n\tat org.apache.spark.SparkContext$.markPartiallyConstructed(SparkContext.scala:2734)\n\tat org.apache.spark.SparkContext.<init>(SparkContext.scala:95)\n\tat org.apache.spark.api.java.JavaSparkContext.<init>(JavaSparkContext.scala:58)\n\tat sun.reflect.NativeConstructorAccessorImpl.newInstance0(Native Method)\n\tat sun.reflect.NativeConstructorAccessorImpl.newInstance(NativeConstructorAccessorImpl.java:62)\n\tat sun.reflect.DelegatingConstructorAccessorImpl.newInstance(DelegatingConstructorAccessorImpl.java:45)\n\tat java.lang.reflect.Constructor.newInstance(Constructor.java:423)\n\tat py4j.reflection.MethodInvoker.invoke(MethodInvoker.java:247)\n\tat py4j.reflection.ReflectionEngine.invoke(ReflectionEngine.java:357)\n\tat py4j.Gateway.invoke(Gateway.java:238)\n\tat py4j.commands.ConstructorCommand.invokeConstructor(ConstructorCommand.java:80)\n\tat py4j.commands.ConstructorCommand.execute(ConstructorCommand.java:69)\n\tat py4j.ClientServerConnection.waitForCommands(ClientServerConnection.java:182)\n\tat py4j.ClientServerConnection.run(ClientServerConnection.java:106)\n\tat java.lang.Thread.run(Thread.java:750)\n",
     "output_type": "error",
     "traceback": [
      "\u001b[0;31m---------------------------------------------------------------------------\u001b[0m",
      "\u001b[0;31mPy4JJavaError\u001b[0m                             Traceback (most recent call last)",
      "Cell \u001b[0;32mIn[19], line 5\u001b[0m\n\u001b[1;32m      2\u001b[0m findspark\u001b[38;5;241m.\u001b[39minit()\n\u001b[1;32m      4\u001b[0m \u001b[38;5;28;01mimport\u001b[39;00m \u001b[38;5;21;01mpyspark\u001b[39;00m\n\u001b[0;32m----> 5\u001b[0m sc \u001b[38;5;241m=\u001b[39m \u001b[43mpyspark\u001b[49m\u001b[38;5;241;43m.\u001b[39;49m\u001b[43mSparkContext\u001b[49m\u001b[43m(\u001b[49m\u001b[43mappName\u001b[49m\u001b[38;5;241;43m=\u001b[39;49m\u001b[38;5;124;43m'\u001b[39;49m\u001b[38;5;124;43mjupyter\u001b[39;49m\u001b[38;5;124;43m'\u001b[39;49m\u001b[43m)\u001b[49m\n",
      "File \u001b[0;32m/usr/local/spark/python/pyspark/context.py:146\u001b[0m, in \u001b[0;36mSparkContext.__init__\u001b[0;34m(self, master, appName, sparkHome, pyFiles, environment, batchSize, serializer, conf, gateway, jsc, profiler_cls)\u001b[0m\n\u001b[1;32m    144\u001b[0m SparkContext\u001b[38;5;241m.\u001b[39m_ensure_initialized(\u001b[38;5;28mself\u001b[39m, gateway\u001b[38;5;241m=\u001b[39mgateway, conf\u001b[38;5;241m=\u001b[39mconf)\n\u001b[1;32m    145\u001b[0m \u001b[38;5;28;01mtry\u001b[39;00m:\n\u001b[0;32m--> 146\u001b[0m     \u001b[38;5;28;43mself\u001b[39;49m\u001b[38;5;241;43m.\u001b[39;49m\u001b[43m_do_init\u001b[49m\u001b[43m(\u001b[49m\u001b[43mmaster\u001b[49m\u001b[43m,\u001b[49m\u001b[43m \u001b[49m\u001b[43mappName\u001b[49m\u001b[43m,\u001b[49m\u001b[43m \u001b[49m\u001b[43msparkHome\u001b[49m\u001b[43m,\u001b[49m\u001b[43m \u001b[49m\u001b[43mpyFiles\u001b[49m\u001b[43m,\u001b[49m\u001b[43m \u001b[49m\u001b[43menvironment\u001b[49m\u001b[43m,\u001b[49m\u001b[43m \u001b[49m\u001b[43mbatchSize\u001b[49m\u001b[43m,\u001b[49m\u001b[43m \u001b[49m\u001b[43mserializer\u001b[49m\u001b[43m,\u001b[49m\n\u001b[1;32m    147\u001b[0m \u001b[43m                  \u001b[49m\u001b[43mconf\u001b[49m\u001b[43m,\u001b[49m\u001b[43m \u001b[49m\u001b[43mjsc\u001b[49m\u001b[43m,\u001b[49m\u001b[43m \u001b[49m\u001b[43mprofiler_cls\u001b[49m\u001b[43m)\u001b[49m\n\u001b[1;32m    148\u001b[0m \u001b[38;5;28;01mexcept\u001b[39;00m:\n\u001b[1;32m    149\u001b[0m     \u001b[38;5;66;03m# If an error occurs, clean up in order to allow future SparkContext creation:\u001b[39;00m\n\u001b[1;32m    150\u001b[0m     \u001b[38;5;28mself\u001b[39m\u001b[38;5;241m.\u001b[39mstop()\n",
      "File \u001b[0;32m/usr/local/spark/python/pyspark/context.py:209\u001b[0m, in \u001b[0;36mSparkContext._do_init\u001b[0;34m(self, master, appName, sparkHome, pyFiles, environment, batchSize, serializer, conf, jsc, profiler_cls)\u001b[0m\n\u001b[1;32m    206\u001b[0m \u001b[38;5;28mself\u001b[39m\u001b[38;5;241m.\u001b[39menvironment[\u001b[38;5;124m\"\u001b[39m\u001b[38;5;124mPYTHONHASHSEED\u001b[39m\u001b[38;5;124m\"\u001b[39m] \u001b[38;5;241m=\u001b[39m os\u001b[38;5;241m.\u001b[39menviron\u001b[38;5;241m.\u001b[39mget(\u001b[38;5;124m\"\u001b[39m\u001b[38;5;124mPYTHONHASHSEED\u001b[39m\u001b[38;5;124m\"\u001b[39m, \u001b[38;5;124m\"\u001b[39m\u001b[38;5;124m0\u001b[39m\u001b[38;5;124m\"\u001b[39m)\n\u001b[1;32m    208\u001b[0m \u001b[38;5;66;03m# Create the Java SparkContext through Py4J\u001b[39;00m\n\u001b[0;32m--> 209\u001b[0m \u001b[38;5;28mself\u001b[39m\u001b[38;5;241m.\u001b[39m_jsc \u001b[38;5;241m=\u001b[39m jsc \u001b[38;5;129;01mor\u001b[39;00m \u001b[38;5;28;43mself\u001b[39;49m\u001b[38;5;241;43m.\u001b[39;49m\u001b[43m_initialize_context\u001b[49m\u001b[43m(\u001b[49m\u001b[38;5;28;43mself\u001b[39;49m\u001b[38;5;241;43m.\u001b[39;49m\u001b[43m_conf\u001b[49m\u001b[38;5;241;43m.\u001b[39;49m\u001b[43m_jconf\u001b[49m\u001b[43m)\u001b[49m\n\u001b[1;32m    210\u001b[0m \u001b[38;5;66;03m# Reset the SparkConf to the one actually used by the SparkContext in JVM.\u001b[39;00m\n\u001b[1;32m    211\u001b[0m \u001b[38;5;28mself\u001b[39m\u001b[38;5;241m.\u001b[39m_conf \u001b[38;5;241m=\u001b[39m SparkConf(_jconf\u001b[38;5;241m=\u001b[39m\u001b[38;5;28mself\u001b[39m\u001b[38;5;241m.\u001b[39m_jsc\u001b[38;5;241m.\u001b[39msc()\u001b[38;5;241m.\u001b[39mconf())\n",
      "File \u001b[0;32m/usr/local/spark/python/pyspark/context.py:329\u001b[0m, in \u001b[0;36mSparkContext._initialize_context\u001b[0;34m(self, jconf)\u001b[0m\n\u001b[1;32m    325\u001b[0m \u001b[38;5;28;01mdef\u001b[39;00m \u001b[38;5;21m_initialize_context\u001b[39m(\u001b[38;5;28mself\u001b[39m, jconf):\n\u001b[1;32m    326\u001b[0m \u001b[38;5;250m    \u001b[39m\u001b[38;5;124;03m\"\"\"\u001b[39;00m\n\u001b[1;32m    327\u001b[0m \u001b[38;5;124;03m    Initialize SparkContext in function to allow subclass specific initialization\u001b[39;00m\n\u001b[1;32m    328\u001b[0m \u001b[38;5;124;03m    \"\"\"\u001b[39;00m\n\u001b[0;32m--> 329\u001b[0m     \u001b[38;5;28;01mreturn\u001b[39;00m \u001b[38;5;28;43mself\u001b[39;49m\u001b[38;5;241;43m.\u001b[39;49m\u001b[43m_jvm\u001b[49m\u001b[38;5;241;43m.\u001b[39;49m\u001b[43mJavaSparkContext\u001b[49m\u001b[43m(\u001b[49m\u001b[43mjconf\u001b[49m\u001b[43m)\u001b[49m\n",
      "File \u001b[0;32m/usr/local/spark/python/lib/py4j-0.10.9.5-src.zip/py4j/java_gateway.py:1585\u001b[0m, in \u001b[0;36mJavaClass.__call__\u001b[0;34m(self, *args)\u001b[0m\n\u001b[1;32m   1579\u001b[0m command \u001b[38;5;241m=\u001b[39m proto\u001b[38;5;241m.\u001b[39mCONSTRUCTOR_COMMAND_NAME \u001b[38;5;241m+\u001b[39m\\\n\u001b[1;32m   1580\u001b[0m     \u001b[38;5;28mself\u001b[39m\u001b[38;5;241m.\u001b[39m_command_header \u001b[38;5;241m+\u001b[39m\\\n\u001b[1;32m   1581\u001b[0m     args_command \u001b[38;5;241m+\u001b[39m\\\n\u001b[1;32m   1582\u001b[0m     proto\u001b[38;5;241m.\u001b[39mEND_COMMAND_PART\n\u001b[1;32m   1584\u001b[0m answer \u001b[38;5;241m=\u001b[39m \u001b[38;5;28mself\u001b[39m\u001b[38;5;241m.\u001b[39m_gateway_client\u001b[38;5;241m.\u001b[39msend_command(command)\n\u001b[0;32m-> 1585\u001b[0m return_value \u001b[38;5;241m=\u001b[39m \u001b[43mget_return_value\u001b[49m\u001b[43m(\u001b[49m\n\u001b[1;32m   1586\u001b[0m \u001b[43m    \u001b[49m\u001b[43manswer\u001b[49m\u001b[43m,\u001b[49m\u001b[43m \u001b[49m\u001b[38;5;28;43mself\u001b[39;49m\u001b[38;5;241;43m.\u001b[39;49m\u001b[43m_gateway_client\u001b[49m\u001b[43m,\u001b[49m\u001b[43m \u001b[49m\u001b[38;5;28;43;01mNone\u001b[39;49;00m\u001b[43m,\u001b[49m\u001b[43m \u001b[49m\u001b[38;5;28;43mself\u001b[39;49m\u001b[38;5;241;43m.\u001b[39;49m\u001b[43m_fqn\u001b[49m\u001b[43m)\u001b[49m\n\u001b[1;32m   1588\u001b[0m \u001b[38;5;28;01mfor\u001b[39;00m temp_arg \u001b[38;5;129;01min\u001b[39;00m temp_args:\n\u001b[1;32m   1589\u001b[0m     temp_arg\u001b[38;5;241m.\u001b[39m_detach()\n",
      "File \u001b[0;32m/usr/local/spark/python/lib/py4j-0.10.9.5-src.zip/py4j/protocol.py:326\u001b[0m, in \u001b[0;36mget_return_value\u001b[0;34m(answer, gateway_client, target_id, name)\u001b[0m\n\u001b[1;32m    324\u001b[0m value \u001b[38;5;241m=\u001b[39m OUTPUT_CONVERTER[\u001b[38;5;28mtype\u001b[39m](answer[\u001b[38;5;241m2\u001b[39m:], gateway_client)\n\u001b[1;32m    325\u001b[0m \u001b[38;5;28;01mif\u001b[39;00m answer[\u001b[38;5;241m1\u001b[39m] \u001b[38;5;241m==\u001b[39m REFERENCE_TYPE:\n\u001b[0;32m--> 326\u001b[0m     \u001b[38;5;28;01mraise\u001b[39;00m Py4JJavaError(\n\u001b[1;32m    327\u001b[0m         \u001b[38;5;124m\"\u001b[39m\u001b[38;5;124mAn error occurred while calling \u001b[39m\u001b[38;5;132;01m{0}\u001b[39;00m\u001b[38;5;132;01m{1}\u001b[39;00m\u001b[38;5;132;01m{2}\u001b[39;00m\u001b[38;5;124m.\u001b[39m\u001b[38;5;130;01m\\n\u001b[39;00m\u001b[38;5;124m\"\u001b[39m\u001b[38;5;241m.\u001b[39m\n\u001b[1;32m    328\u001b[0m         \u001b[38;5;28mformat\u001b[39m(target_id, \u001b[38;5;124m\"\u001b[39m\u001b[38;5;124m.\u001b[39m\u001b[38;5;124m\"\u001b[39m, name), value)\n\u001b[1;32m    329\u001b[0m \u001b[38;5;28;01melse\u001b[39;00m:\n\u001b[1;32m    330\u001b[0m     \u001b[38;5;28;01mraise\u001b[39;00m Py4JError(\n\u001b[1;32m    331\u001b[0m         \u001b[38;5;124m\"\u001b[39m\u001b[38;5;124mAn error occurred while calling \u001b[39m\u001b[38;5;132;01m{0}\u001b[39;00m\u001b[38;5;132;01m{1}\u001b[39;00m\u001b[38;5;132;01m{2}\u001b[39;00m\u001b[38;5;124m. Trace:\u001b[39m\u001b[38;5;130;01m\\n\u001b[39;00m\u001b[38;5;132;01m{3}\u001b[39;00m\u001b[38;5;130;01m\\n\u001b[39;00m\u001b[38;5;124m\"\u001b[39m\u001b[38;5;241m.\u001b[39m\n\u001b[1;32m    332\u001b[0m         \u001b[38;5;28mformat\u001b[39m(target_id, \u001b[38;5;124m\"\u001b[39m\u001b[38;5;124m.\u001b[39m\u001b[38;5;124m\"\u001b[39m, name, value))\n",
      "\u001b[0;31mPy4JJavaError\u001b[0m: An error occurred while calling None.org.apache.spark.api.java.JavaSparkContext.\n: org.apache.spark.SparkException: Only one SparkContext should be running in this JVM (see SPARK-2243).The currently running SparkContext was created at:\norg.apache.spark.api.java.JavaSparkContext.<init>(JavaSparkContext.scala:58)\nsun.reflect.NativeConstructorAccessorImpl.newInstance0(Native Method)\nsun.reflect.NativeConstructorAccessorImpl.newInstance(NativeConstructorAccessorImpl.java:62)\nsun.reflect.DelegatingConstructorAccessorImpl.newInstance(DelegatingConstructorAccessorImpl.java:45)\njava.lang.reflect.Constructor.newInstance(Constructor.java:423)\npy4j.reflection.MethodInvoker.invoke(MethodInvoker.java:247)\npy4j.reflection.ReflectionEngine.invoke(ReflectionEngine.java:357)\npy4j.Gateway.invoke(Gateway.java:238)\npy4j.commands.ConstructorCommand.invokeConstructor(ConstructorCommand.java:80)\npy4j.commands.ConstructorCommand.execute(ConstructorCommand.java:69)\npy4j.ClientServerConnection.waitForCommands(ClientServerConnection.java:182)\npy4j.ClientServerConnection.run(ClientServerConnection.java:106)\njava.lang.Thread.run(Thread.java:750)\n\tat org.apache.spark.SparkContext$.$anonfun$assertNoOtherContextIsRunning$2(SparkContext.scala:2647)\n\tat scala.Option.foreach(Option.scala:407)\n\tat org.apache.spark.SparkContext$.assertNoOtherContextIsRunning(SparkContext.scala:2644)\n\tat org.apache.spark.SparkContext$.markPartiallyConstructed(SparkContext.scala:2734)\n\tat org.apache.spark.SparkContext.<init>(SparkContext.scala:95)\n\tat org.apache.spark.api.java.JavaSparkContext.<init>(JavaSparkContext.scala:58)\n\tat sun.reflect.NativeConstructorAccessorImpl.newInstance0(Native Method)\n\tat sun.reflect.NativeConstructorAccessorImpl.newInstance(NativeConstructorAccessorImpl.java:62)\n\tat sun.reflect.DelegatingConstructorAccessorImpl.newInstance(DelegatingConstructorAccessorImpl.java:45)\n\tat java.lang.reflect.Constructor.newInstance(Constructor.java:423)\n\tat py4j.reflection.MethodInvoker.invoke(MethodInvoker.java:247)\n\tat py4j.reflection.ReflectionEngine.invoke(ReflectionEngine.java:357)\n\tat py4j.Gateway.invoke(Gateway.java:238)\n\tat py4j.commands.ConstructorCommand.invokeConstructor(ConstructorCommand.java:80)\n\tat py4j.commands.ConstructorCommand.execute(ConstructorCommand.java:69)\n\tat py4j.ClientServerConnection.waitForCommands(ClientServerConnection.java:182)\n\tat py4j.ClientServerConnection.run(ClientServerConnection.java:106)\n\tat java.lang.Thread.run(Thread.java:750)\n"
     ]
    }
   ],
   "source": [
    "import findspark\n",
    "findspark.init()\n",
    "\n",
    "import pyspark\n",
    "sc = pyspark.SparkContext(appName='jupyter')"
   ]
  },
  {
   "cell_type": "code",
   "execution_count": 17,
   "metadata": {
    "tags": []
   },
   "outputs": [],
   "source": [
    "import json"
   ]
  },
  {
   "cell_type": "markdown",
   "metadata": {},
   "source": [
    "# Wikipedia dataset"
   ]
  },
  {
   "cell_type": "code",
   "execution_count": 20,
   "metadata": {
    "tags": []
   },
   "outputs": [
    {
     "name": "stdout",
     "output_type": "stream",
     "text": [
      "total 208M\n",
      "-rw-rw-r-- 1 jovyan root  61M Mar 16 19:30 categories.jsonl\n",
      "-rw-rw-r-- 1 jovyan root  387 Oct 13  2022 README.txt\n",
      "-rw-r--r-- 1 jovyan root 2.9M Apr 19 15:25 sample.jsonl\n",
      "-rw-rw-r-- 1 jovyan root 144M Mar 16 19:30 wiki.jsonl\n"
     ]
    }
   ],
   "source": [
    "! ls -lh wiki"
   ]
  },
  {
   "cell_type": "code",
   "execution_count": 21,
   "metadata": {
    "tags": []
   },
   "outputs": [
    {
     "name": "stdout",
     "output_type": "stream",
     "text": [
      "{\"title\": \"April\", \"text\": \"April\\n\\nApril is the fourth month of the year, and comes between March and May. It is one of four months to have 30 days.\\n\\nApril always begins on the same day of week as July, and additionally, January in leap years. April always ends on the same day of the week as December.\\n\\nApril's flowers are the Sweet Pea and Daisy. Its birthstone is the diamond. The meaning of the diamond is innocence.\\n\\nApril comes between March and May, making it the fourth month of the year. It also comes first in the year out of the four months that have 30 days, as June, September and November are later in the year.\\n\\nApril begins on the same day of the week as July every year and on the same day of the week as January in leap years. April ends on the same day of the week as December every year, as each other's last days are exactly 35 weeks (245 days) apart.\\n\\nIn common years, April starts on the same day of the week as October of the previous year, and in leap years, May of the previous year. In common years, April finishes on the same day of the week as July of the previous year, and in leap years, February and October of the previous year. In common years immediately after other common years, April starts on the same day of the week as January of the previous year, and in leap years and years immediately after that, April finishes on the same day of the week as January of the previous year.\\n\\nIn years immediately before common years, April starts on the same day of the week as September and December of the following year, and in years immediately before leap years, June of the following year. In years immediately before common years, April finishes on the same day of the week as September of the following year, and in years immediately before leap years, March and June of the following year.\\n\\nApril is a spring month in the Northern Hemisphere and an autumn/fall month in the Southern Hemisphere. In each hemisphere, it is the seasonal equivalent of October in the other.\\n\\nIt is unclear as to where April got its name. A common theory is that it comes from the Latin word \\\"aperire\\\", meaning \\\"to open\\\", referring to flowers opening in spring. Another theory is that the name could come from Aphrodite, the Greek goddess of love. It was originally the second month in the old Roman Calendar, before the start of the new year was put to January 1.\\n\\nQuite a few festivals are held in this month. In many Southeast Asian cultures, new year is celebrated in this month (including Songkran). In Western Christianity, Easter can be celebrated on a Sunday between March 22 and April 25. In Orthodox Christianity, it can fall between April 4 and May 8. At the end of the month, Central and Northern European cultures celebrate Walpurgis Night on April 30, marking the transition from winter into summer.\\n\\nPoets use \\\"April\\\" to mean the end of winter. For example: \\\"April showers bring May flowers.\\\"\\n\\n\\n\", \"url\": \"https://simple.wikipedia.org/wiki?curid=1\", \"id\": \"1\"}\n"
     ]
    }
   ],
   "source": [
    "! head -n 1 wiki/wiki.jsonl"
   ]
  },
  {
   "cell_type": "code",
   "execution_count": 9,
   "metadata": {
    "tags": []
   },
   "outputs": [],
   "source": [
    "# make a sample\n",
    "! head -n 1000 wiki/wiki.jsonl > wiki/sample.jsonl"
   ]
  },
  {
   "cell_type": "markdown",
   "metadata": {},
   "source": [
    "# Copy files to HDFS"
   ]
  },
  {
   "cell_type": "code",
   "execution_count": 10,
   "metadata": {
    "tags": []
   },
   "outputs": [],
   "source": [
    "! hadoop fs -copyFromLocal wiki /"
   ]
  },
  {
   "cell_type": "code",
   "execution_count": 11,
   "metadata": {
    "tags": []
   },
   "outputs": [
    {
     "name": "stdout",
     "output_type": "stream",
     "text": [
      "Found 4 items\n",
      "-rw-r--r--   1 jovyan supergroup        387 2023-04-19 15:26 /wiki/README.txt\n",
      "-rw-r--r--   1 jovyan supergroup     60.9 M 2023-04-19 15:26 /wiki/categories.jsonl\n",
      "-rw-r--r--   1 jovyan supergroup      2.9 M 2023-04-19 15:26 /wiki/sample.jsonl\n",
      "-rw-r--r--   1 jovyan supergroup    143.4 M 2023-04-19 15:26 /wiki/wiki.jsonl\n"
     ]
    }
   ],
   "source": [
    "! hadoop fs -ls -h /wiki"
   ]
  },
  {
   "cell_type": "markdown",
   "metadata": {},
   "source": [
    "# Create RDD\n",
    "https://spark.apache.org/docs/latest/rdd-programming-guide.html#resilient-distributed-datasets-rdds"
   ]
  },
  {
   "cell_type": "code",
   "execution_count": 12,
   "metadata": {
    "tags": []
   },
   "outputs": [
    {
     "ename": "NameError",
     "evalue": "name 'sc' is not defined",
     "output_type": "error",
     "traceback": [
      "\u001b[0;31m---------------------------------------------------------------------------\u001b[0m",
      "\u001b[0;31mNameError\u001b[0m                                 Traceback (most recent call last)",
      "Cell \u001b[0;32mIn[12], line 1\u001b[0m\n\u001b[0;32m----> 1\u001b[0m rdd \u001b[38;5;241m=\u001b[39m \u001b[43msc\u001b[49m\u001b[38;5;241m.\u001b[39mparallelize(\u001b[38;5;28mrange\u001b[39m(\u001b[38;5;241m5\u001b[39m))\n\u001b[1;32m      2\u001b[0m rdd\n",
      "\u001b[0;31mNameError\u001b[0m: name 'sc' is not defined"
     ]
    }
   ],
   "source": [
    "rdd = sc.parallelize(range(5))\n",
    "rdd"
   ]
  },
  {
   "cell_type": "code",
   "execution_count": 10,
   "metadata": {},
   "outputs": [
    {
     "data": {
      "text/plain": [
       "hdfs:///wiki/wiki.jsonl MapPartitionsRDD[3] at textFile at NativeMethodAccessorImpl.java:0"
      ]
     },
     "execution_count": 10,
     "metadata": {},
     "output_type": "execute_result"
    }
   ],
   "source": [
    "rdd = sc.textFile(\"hdfs:///wiki/wiki.jsonl\")\n",
    "rdd"
   ]
  },
  {
   "cell_type": "markdown",
   "metadata": {},
   "source": [
    "# Actions on RDD\n",
    "https://spark.apache.org/docs/latest/rdd-programming-guide.html#actions"
   ]
  },
  {
   "cell_type": "code",
   "execution_count": 11,
   "metadata": {},
   "outputs": [],
   "source": [
    "rdd = sc.parallelize(range(5))"
   ]
  },
  {
   "cell_type": "code",
   "execution_count": 12,
   "metadata": {},
   "outputs": [
    {
     "data": {
      "text/plain": [
       "[0, 1, 2, 3, 4]"
      ]
     },
     "execution_count": 12,
     "metadata": {},
     "output_type": "execute_result"
    }
   ],
   "source": [
    "rdd.collect()"
   ]
  },
  {
   "cell_type": "code",
   "execution_count": 13,
   "metadata": {},
   "outputs": [
    {
     "data": {
      "text/plain": [
       "5"
      ]
     },
     "execution_count": 13,
     "metadata": {},
     "output_type": "execute_result"
    }
   ],
   "source": [
    "rdd.count()"
   ]
  },
  {
   "cell_type": "code",
   "execution_count": 14,
   "metadata": {},
   "outputs": [
    {
     "data": {
      "text/plain": [
       "0"
      ]
     },
     "execution_count": 14,
     "metadata": {},
     "output_type": "execute_result"
    }
   ],
   "source": [
    "rdd.first()"
   ]
  },
  {
   "cell_type": "code",
   "execution_count": 15,
   "metadata": {},
   "outputs": [
    {
     "data": {
      "text/plain": [
       "2.0"
      ]
     },
     "execution_count": 15,
     "metadata": {},
     "output_type": "execute_result"
    }
   ],
   "source": [
    "rdd.mean()"
   ]
  },
  {
   "cell_type": "code",
   "execution_count": 16,
   "metadata": {},
   "outputs": [
    {
     "data": {
      "text/plain": [
       "[0, 1]"
      ]
     },
     "execution_count": 16,
     "metadata": {},
     "output_type": "execute_result"
    }
   ],
   "source": [
    "rdd.take(2)"
   ]
  },
  {
   "cell_type": "code",
   "execution_count": 17,
   "metadata": {},
   "outputs": [],
   "source": [
    "rdd = sc.parallelize([\"one\", \"two\"])"
   ]
  },
  {
   "cell_type": "code",
   "execution_count": 18,
   "metadata": {},
   "outputs": [],
   "source": [
    "rdd.saveAsTextFile(\"hdfs:///spark.txt\")"
   ]
  },
  {
   "cell_type": "code",
   "execution_count": 19,
   "metadata": {},
   "outputs": [
    {
     "name": "stdout",
     "output_type": "stream",
     "text": [
      "one\n",
      "two\n"
     ]
    }
   ],
   "source": [
    "! hadoop fs -cat \"/spark.txt/*\""
   ]
  },
  {
   "cell_type": "markdown",
   "metadata": {},
   "source": [
    "# RDD transformations\n",
    "https://spark.apache.org/docs/latest/rdd-programming-guide.html#transformations"
   ]
  },
  {
   "cell_type": "code",
   "execution_count": 20,
   "metadata": {},
   "outputs": [],
   "source": [
    "rdd = sc.textFile(\"hdfs:///wiki/wiki.jsonl\")"
   ]
  },
  {
   "cell_type": "code",
   "execution_count": 21,
   "metadata": {},
   "outputs": [
    {
     "data": {
      "text/plain": [
       "['{\"title\": \"Grand unification theory\", \"text\": \"Grand unification theory\\\\n\\\\nGrand unification theory or GUT is a model that tries to describe the universe. It was formed by combining three forces - electromagnetic, weak and strong forces. These are three of the fundamental four forces of nature, which are responsible for all of the pushes and pulls in the universe. If gravity is also combined with these forces, then the GUT will become the proposed Theory of Everything.\\\\n\\\\nBecause GUT models have more dimensions than currently known, there has not been a single GUT. Particle accelerators, like the Large Hadron Collider have been built to test these GUTs indirectly, as it is too complex to observe effects on particles without them.\\\\n\\\\nGUT was first proposed by researchers from CERN in the 1970s. The discovery of the Higgs Boson and other such recent discoveries will get scientists closer to knowing which GUT is correct, and ultimately know the Theory of Everything. This theory was given by Pakistani scientist Abdus Salam, who shared the Noble Prize with Weinberg and Glashow for it in 1979.\\\\n\", \"url\": \"https://simple.wikipedia.org/wiki?curid=14623\", \"id\": \"14623\"}',\n",
       " '{\"title\": \"Emmet D. Boyle\", \"text\": \"Emmet D. Boyle\\\\n\\\\nEmmet Derby Boyle (July 26, 1879 - January 3, 1926) was a Governor of Nevada. He was a Democrat.\\\\n\\\\nBoyle was born in Virginia City, Nevada in 1879. He was a mining engineer, and was the Governor between 1915 and 1923. He died in 1926 at the age of 46.\\\\n\", \"url\": \"https://simple.wikipedia.org/wiki?curid=15255\", \"id\": \"15255\"}',\n",
       " '{\"title\": \"Eugene McCarthy\", \"text\": \"Eugene McCarthy\\\\n\\\\nEugene Joseph \\\\\"Gene\\\\\" McCarthy (March 29, 1916 – December 10, 2005) was a United States senator from Minnesota. He ran for President of the United States five times. He died from Parkinson\\'s disease.\\\\n\\\\n\", \"url\": \"https://simple.wikipedia.org/wiki?curid=17465\", \"id\": \"17465\"}',\n",
       " '{\"title\": \"Album\", \"text\": \"Album\\\\n\\\\nAn album is a collection of sound recordings. It is usually made by a musician, and is sold in stores to people. Albums today mainly come in the form of compact discs, although many artists also release their albums on vinyl records.\\\\n\\\\nThere are two main types of albums, studio albums and live albums. Studio albums are recorded at a recording studio. Live albums are normally recorded while the musicians are performing for an audience. Live albums are usually recorded at concerts. \\\\n\\\\nOther types of albums include:\\\\n\\\\nAlbums are normally separated into \\\\\"Tracks\\\\\". Each track is a part of the album which has one song in it. The term is often used to mean a specific song on the album by number. For example, the \\\\\"fourth track\\\\\" or \\\\\"track four\\\\\" from an album is the fourth song on the album when it is played from the beginning.\\\\n\\\\n\", \"url\": \"https://simple.wikipedia.org/wiki?curid=18202\", \"id\": \"18202\"}',\n",
       " '{\"title\": \"Pontiac Silverdome\", \"text\": \"Pontiac Silverdome\\\\n\\\\nThe Pontiac Silverdome is a domed stadium in the town of Pontiac, Michigan, near Detroit. It opened in 1975 and closed in 2007. The largest crowds to come to the stadium were for WrestleMania III on March 29, 1987, where the main event was a match between Hulk Hogan and André the Giant. The crowd attendance for that night reached 93,173, which is also the record for indoor attendance. The Detroit Lions NFL team played at the stadium from 1975 until 2001.\\\\n\", \"url\": \"https://simple.wikipedia.org/wiki?curid=28784\", \"id\": \"28784\"}',\n",
       " '{\"title\": \"Electronic Arts\", \"text\": \"Electronic Arts\\\\n\\\\nElectronic Arts, Inc. (EA) is a large company which makes computer and video games all over the world. They made famous games such as The Sims, Madden NFL and Medal of Honor. They also made the Need for Speed series. EAs most popular products are the games which are sold under the EA Sports label.\\\\n\\\\nThe company was started in February 1982 by Trip Hawkins. They first shipped their games in May 1983.\\\\nThey have since then produced video games every year.\\\\n\\\\nEA owns other smaller game companies which they call \\'studios\\'.\\\\n\\\\nA few of these include Maxis (creators of The Sims), Bullfrog (creators of Theme Park and Theme Hospital), and BioWare (makers of Mass Effect).\\\\n\\\\n\", \"url\": \"https://simple.wikipedia.org/wiki?curid=33031\", \"id\": \"33031\"}',\n",
       " '{\"title\": \"Cow Belles\", \"text\": \"Cow Belles\\\\n\\\\nCow Belles is an American produced Disney Channel original movie. It was shown on television on March 26, 2006. This movie stars Aly and AJ of Aly & AJ.\\\\n\\\\nTwo spoiled sisters (Aly & AJ) are rich, but their father and the family have many losses, forcing the girls to do dairy and farm work. Courtney (AJ) still saves party money enough to save the family. Taylor (Aly) decides to give up the money after she was told not to just to save the family. Soon the girls learn a lesson about friendship, sisterhood, and love, and that it is better to choose brains of bronze.\\\\n\", \"url\": \"https://simple.wikipedia.org/wiki?curid=36272\", \"id\": \"36272\"}',\n",
       " '{\"title\": \"Warwick Castle\", \"text\": \"Warwick Castle\\\\n\\\\nWarwick Castle (pron. \\'Worrick\\') is a large castle in Warwickshire, England. It is near the town of Warwick. The castle was once the family home of the Earls of Warwick. \\\\n\\\\nThere are many rooms in the castle. Some of the rooms have mannequins in them that look like real people. These are dressed in [ costume]. They are used to show how people might have lived in the castle hundreds of years ago. Warwick Castle has a dungeon. One part of the castle is said to be haunted. Actors play the part of the ghost and the servant who killed him in a dramatic \\\\\"Spook Experience\\\\\". Lights and sounds are used to add to the effect.\\\\n\\\\nThe castle has a very high wall walk. It can be explored, so that visitors can see from where the guards looked for enemies. A long, steep flight of steps leads up to the highest part of the castle where the flagpole is. \\\\n\\\\nThere are many paintings in the castle. There are portraits of English Kings and Queens as well as of members of the family who owned the castle. It is possible to see the private chambers, or bedrooms, where the family and their most important guests slept.\\\\n\\\\n\", \"url\": \"https://simple.wikipedia.org/wiki?curid=42759\", \"id\": \"42759\"}',\n",
       " '{\"title\": \"Coffs Harbour, New South Wales\", \"text\": \"Coffs Harbour, New South Wales\\\\n\\\\nCoffs Harbour is a city on the north coast of New South Wales, Australia. It is 540km north of Sydney and 440km south of Brisbane. Coffs Harbour is famous for its bananas (and home of the Big Banana) and is also an important diving spot. It also has a campus of the Southern Cross University.\\\\n\", \"url\": \"https://simple.wikipedia.org/wiki?curid=43537\", \"id\": \"43537\"}',\n",
       " '{\"title\": \"Tiananmen Square\", \"text\": \"Tiananmen Square\\\\n\\\\nTian\\'anmen Square (Tian\\'anmen Guangchang) is a large plaza near the center of Beijing, China. It is named after the Tian\\'anmen (\\\\\"Gate of Heavenly Peace\\\\\") which sits to its north, separating it from the Forbidden City (Zijincheng). Outside of China, the square is well known for the Tian\\'anmen Square protests of 1989.\\\\n\\\\nThe square is 880 meters south to north and 500 meters east to west, a total area of 440,000 square meters. It is the largest open-urban square in the world.\\\\n\", \"url\": \"https://simple.wikipedia.org/wiki?curid=49151\", \"id\": \"49151\"}',\n",
       " '{\"title\": \"Bar chart\", \"text\": \"Bar chart\\\\n\\\\nA bar chart is a type of chart which shows the values of different categories of data as rectangular bars with different lengths. A histogram is a bar chart that shows how data is spread over its categories.\\\\n\\\\nIt is another one dimensional diagram also known as pillar diagram or column graph. These bars do not have any specific width but the height of the bar is proportionally to the value of an element. When the variations are small this method is very efficient. \\\\n<div class=\\\\\"boilerplate metadata plainlinks\\\\\" id=\\\\\"stub\\\\\"> \\\\\"This can be made longer. You can help Wikipedia by [ adding to it]\\\\\".</div >\\\\n\", \"url\": \"https://simple.wikipedia.org/wiki?curid=58976\", \"id\": \"58976\"}',\n",
       " '{\"title\": \"Secularism\", \"text\": \"Secularism\\\\n\\\\nSecularism, also called Secularity, is the idea of something being not religious or not connected to a church or other religious organization. An example of this is the government, which is independent of any religion in many states. In some countries, such as Pakistan, England (though not the rest of the UK), Greece, Iran or Saudi Arabia, there is a state religion. In that case, the government follows the state religion. In contrast, India, South Africa or the United States have laws that religion and government should stay separate.\\\\n\\\\nIn a theocracy like the Vatican City and Iran, the priests of religion are the rulers of the country.\\\\n\\\\n\", \"url\": \"https://simple.wikipedia.org/wiki?curid=61498\", \"id\": \"61498\"}',\n",
       " '{\"title\": \"Qajar dynasty\", \"text\": \"Qajar dynasty\\\\n\\\\nThe Qajar dynasty (, - or دودمان قاجار - \\\\\"Qâjâr\\\\\") was a ruling Turkic dynasty of Iran from 1781 to 1925.\\\\n\\\\nSoltan Ahmad Shah Qajar (1909-1925) was the last ruling Shah. Among many other members of the Qajar family are\\\\n\", \"url\": \"https://simple.wikipedia.org/wiki?curid=63152\", \"id\": \"63152\"}',\n",
       " '{\"title\": \"Port Dover Composite School\", \"text\": \"Port Dover Composite School\\\\n\\\\nPort Dover Composite School was a public high school in Port Dover, Ontario, Canada. The high school was open to both men and women. There were no school uniforms and it is free for Canadian citizens to attend from ages 14 to 21 years of age. In the past, the school hosted a dinosaur music party in French as well as other special events.\\\\n\\\\nThis high school was officially closed on January 31, 2013 due to an increasing amount of elderly people in the area and a decreasing amount of children and young people.\\\\n\", \"url\": \"https://simple.wikipedia.org/wiki?curid=64737\", \"id\": \"64737\"}',\n",
       " '{\"title\": \"Juan Crisóstomo de Arriaga\", \"text\": \"Juan Crisóstomo de Arriaga\\\\n\\\\nJuan Crisóstomo de Arriaga y Balzola (born Bilbao 27 January 1806; died Paris 17 January 1826) was an early 19th-century Spanish composer. He was still only 19 years old when he died. Like Mozart, he was a child prodigy and he might have become one of the world’s most famous composers if he had lived.\\\\n\\\\nJuan Crisóstomo Arriaga was born in Bilbao, in the Basque Country in Spain. His father and older brother first taught him music. He started to compose when he was 11 years old, and by the time he was 15 he had already written 20 works. Many of these are now lost. He may have thrown them away, thinking that they were not very good. In 1921 he went to Paris where he studied the violin with Pierre Baillot, and counterpoint and harmony with François-Joseph Fétis at the Paris Conservatoire. He was so good that by 1824 he had become a teaching assistant in Fétis\\'s class. \\\\n\\\\nArriaga died in Paris at the age of nineteen, probably of a lung disease and exhaustion.\\\\n\\\\nArriaga has been called “The Spanish Mozart”. His music, however, does not sound particularly Spanish. It has a more general European character, based on the style of Mozart and Beethoven. He wrote a symphony which sounds at times like Schubert. He also wrote an opera \\\\\"Los esclavos felices\\\\\" (\\\\\"The Happy Slaves\\\\\"), and three string quartets. The string quartets were the only works that were published while he was still alive.\\\\n\", \"url\": \"https://simple.wikipedia.org/wiki?curid=69543\", \"id\": \"69543\"}',\n",
       " '{\"title\": \"Interstate 95\", \"text\": \"Interstate 95\\\\n\\\\nInterstate 95 (usually called I-95) is an important Interstate highway that runs north to south in the eastern part of the United States. It is about long. Its southern end is at U.S. Route 1 in Miami, Florida and its northern end is at the Canadian border in Maine. It connects many major cities in the eastern half of the United States.\\\\n\\\\nPortions of the highway have or used to have tolls. Many parts of I-95 were made up of various toll roads that had already been constructed or planned, particularly in the northeast. Many of these routes still exist today, but some have removed their tolls.\\\\n\\\\nMany notable bridges and tunnels along I-95 were also tolled. The Fuller Warren Bridge, spanning the St. Johns River in Jacksonville, Florida, was tolled until the 1980s and was replaced in 2002. The Fort McHenry Tunnel is underneath the harbor of Baltimore, Maryland and was opened in 1985. The George Washington Bridge, opened in 1931, carries I-95, US 1, US 9, and US 46 (latter is officially considered to end at the NY state line) across the Hudson River between New Jersey and Upper Manhattan.\\\\n\\\\nA study that could lead to the imposition of tolls on I-95 in North Carolina is under way as of March 2010.\\\\n\\\\nFederal legislation has identified I-95 through Connecticut as High Priority Corridor 65. A long-term multibillion-dollar program to upgrade the entire length of I-95 through Connecticut has been underway since the mid-1990s and is expected to continue through at least 2020. Several miles of I-95 through Bridgeport were recently widened and brought up to Interstate standards. Work has shifted to reconstructing and widening of I-95 through New Haven, which includes replacing the Pearl Harbor Memorial Bridge. Environmental studies for reconstructing and widening of I-95 from New Haven to the Rhode Island state line are also progressing.\\\\n\\\\nThere are plans to expand the I-95 corridor from Petersburg, Virginia, to Florida through a U.S. multi-state agreement to study how to improve the corridor through widening and reconstruction, with the goal of reducing congestion and improving overall safety for years to come.\\\\n\\\\nFlorida continues to complete widening projects. As of December 2010, I-95 from the South Carolina–Georgia line south to Jacksonville, Florida has been upgraded to six lanes. The section from Jacksonville to the I-4 junction in Daytona Beach was expanded to six lanes in 2005. As of 2009, widening projects continue in Brevard County from the SR\\xa0528 junction in Cocoa to Palm Bay, as well as in northern Palm Beach County.\\\\n\\\\nIn 2009, state legislators representing Maine\\'s Aroostook County proposed using federal economic stimulus funds to extend I-95 north to Maine\\'s northernmost border community of Fort Kent via Caribou and Presque Isle. The proposed route would parallel New Brunswick\\'s four-lane, limited access Trans-Canada Highway on the U.S. side of the Canada–United States border. Legislators argued that extension of the Interstate would promote economic growth in the region.\\\\n\\\\n\\\\n\", \"url\": \"https://simple.wikipedia.org/wiki?curid=69757\", \"id\": \"69757\"}',\n",
       " '{\"title\": \"Adrar des Ifoghas\", \"text\": \"Adrar des Ifoghas\\\\n\\\\nThe Adrar des Ifoghas is a sandstone high area in the Kidal Region of Mali. Is has an area of about 250,000 km².\\\\n\\\\nThere are wide, shallow valleys, and many granite rocks. The Tamesna Plain is to the east. The Telemsi Fosse is to the west The low, western part of the Azaouak Valley is to the south. Tanezrouft is to the north. Kidal, Aguel\\'hoc, Boughessa, Essouk and Tessalit are cities in this area.\\\\n\\\\nThe Adrar des Ifoghas is called \\\\\"Adagh\\\\\" in the local language. \\\\\"\\\\\" is the Berber word for mountain, and \\\\\"Ifogha\\\\\" is the short name of a rich Tuareg family. This family (the \\\\\"Kel Ifoghas\\\\\") has been very powerful in this area for a long time. They are nomads and they eat and sell camels, goats and sheep.\\\\n\\\\nThe area has many old archaeological places. The rock drawings showing men hunting, farming, and looking after cows are very important. Asselar Man\\'s bones were also found here by Théodore Monod. Recently, the Adrar des Ifoghas has become popular for hiking.\\\\n\", \"url\": \"https://simple.wikipedia.org/wiki?curid=76015\", \"id\": \"76015\"}',\n",
       " '{\"title\": \"Wild Weasel\", \"text\": \"Wild Weasel\\\\n\\\\nA Wild Weasel is a nickname for an aircraft in the United States Air Force that is supposed to destroy enemy anti-aircraft guns, surface-to-air missiles, and other ground attack weapons by seeking them out with radar and destroying them with missiles.\\\\n\\\\nThe idea was first thought of in 1965 during the Vietnam War, because North Vietnamese surface-to-air missiles, or \\\\\"SAMs\\\\\" were destroying American aircraft. The first Wild Weasel airplane was the F-100 Super Sabre, a variant of the F-86 Sabre. In 1966, the F-105 Thunderchief took the job.\\\\n\\\\nAfter that, a new kind of F-4 Phantom IIs, the \\\\\"G\\\\\" model was used as a Wild Weasel. During the Gulf War of 1991, Wild Weasel missions were done by the F4-G and not theF-16 Fighting Falcon, a light fighter-bomber that can also battle enemy fighter aircraft. Currently, the F-16CJ does this. They were being used in the Iraq War.\\\\n\\\\nIn the Vietnam War, the main missile used by Wild Weasels was the AGM-45 Shrike. Currently, some of the weapons used by the Wild Weasel planes includes the AGM-88 HARM and the AGM-65 Maverick air-to-ground missiles. They can also have ALQ-131 and ALQ-184 pods that can mess up enemy radar.\\\\n\", \"url\": \"https://simple.wikipedia.org/wiki?curid=77434\", \"id\": \"77434\"}',\n",
       " '{\"title\": \"Antisexuality\", \"text\": \"Antisexuality\\\\n\\\\nAntisexualism, sex-negativity or antisexuality is opposition or hostility towards sexual behavior and sexuality.\\\\n\\\\nSome forms of early ascetic Gnosticism held all matter to be evil, and that unnecessary gratifications of the physical senses were to be avoided. Married couples were encouraged to be celibate. The Skoptsys were a radical sect of the Russian Orthodox Church that practiced castration and amputation of sexual organs. The Skoptsy believed that Christ had been castrated during his crucifixion, and it was this castration that brought about salvation. \\\\n\\\\nThe Shakers was a radical Protestant sect that opposed procreation and all sexual activity. The Shakers were more opposed to pregnancy than anything else.\\\\nJohn Harvey Kellogg, the inventor of corn flakes breakfast cereal, was opposed to all forms of sexual activity, especially masturbation. \\\\\"The Road to Wellville\\\\\" satirized his life and practices. Father Divine, founder of the International Peace Mission Movement, advocated religious abstinence from sex and marriage and taught that sexual objectification is a root cause of undesirable social and political conditions.\\\\n\\\\nThe Anti-Flirt Club, set up in the United States during the interwar period, was set up in order to protect women from unwanted advances from men.\\\\n\\\\nA popular venue of antisexuals is the Antisex.info (Antisexual Stronghold) website founded by Yuri Nesterenko. He launched a FidoNet-based antisexual community in 1995. While putting forward the slogan \\\\\"Say No to sex\\\\\", the spokesmen said that no sexual urges are so violent that they may not be deterred through mental reason, or else transformed through abstinence. Some members of the IAM say they have successfully overcome the desire for sex.\\\\n\\\\n\\\\n\", \"url\": \"https://simple.wikipedia.org/wiki?curid=85237\", \"id\": \"85237\"}',\n",
       " '{\"title\": \"Walker (tool)\", \"text\": \"Walker (tool)\\\\n\\\\nA walker or walking frame is a tool for disabled people who need help to support and keep balance while walking. The rollator/walker is from Sweden. These are popular items in the mobility aid field.\\\\n\\\\nGenerally there are three or four wheel rollators. Most have some type of pouch or basket to carry items. Rollators are often used for long trips or when a person does not want to be slowed down by their mobility equipment. Rollators are often viewed as easier to use than a walker due to their ability to just be pushed instead of lifted.\\\\n\", \"url\": \"https://simple.wikipedia.org/wiki?curid=106990\", \"id\": \"106990\"}',\n",
       " '{\"title\": \"Chemical relaxer\", \"text\": \"Chemical relaxer\\\\n\\\\nA chemical relaxer is used to straighten hair or loosen tight curls by use of chemicals to break the disulphide bonds the hair. It may have side effects such as burns and bald spots if used wrong.\\\\n\", \"url\": \"https://simple.wikipedia.org/wiki?curid=110202\", \"id\": \"110202\"}',\n",
       " '{\"title\": \"1983–84 NHL season\", \"text\": \"1983–84 NHL season\\\\n\\\\nThe 1983–84 NHL season was the 67th season of the National Hockey League. Twenty-one teams each played 80 games. The Edmonton Oilers beat the four-time defending Stanley Cup champion New York Islanders four games to one in the Cup finals.\\\\n\\\\n\\\\\"Note: GP = Games played; W = Wins; L = Losses; T = Ties; GF = Goals for; GA = Goals against; Pts = Points; PIM = Penalties in minutes\\\\\"\\\\n\\\\n\\\\\"Note: GP = Games played; G = Goals; A = Assists; Pts = Points\\\\\"\\\\n\\\\nEdmonton wins series 4–1 and Stanley Cup\\\\n\\\\nMark Messier (Edmonton) wins Conn Smythe Trophy\\\\n\\\\nThe following is a list of players of note who played their first NHL game in 1983–84 (listed with their first team, stars(*) mark start in playoffs):\\\\n\\\\nThe following is a list of players of note that played their last game in the NHL in 1983–84 (listed with their last team):\\\\n\\\\n\", \"url\": \"https://simple.wikipedia.org/wiki?curid=117789\", \"id\": \"117789\"}',\n",
       " '{\"title\": \"Conciliar movement\", \"text\": \"Conciliar movement\\\\n\\\\nThe Conciliar Movement was a Christian reform movement in the 14th and 15th centuries in the Roman Catholic Church which held that final authority in spiritual matters resided with the Church as a corporation of Christians, embodied by a general church council, not with the Pope. This movement occurred in Western Europe.\\\\nConciliarism was started by Pope Innocent III and is still used today in France. \\\\n\", \"url\": \"https://simple.wikipedia.org/wiki?curid=125915\", \"id\": \"125915\"}',\n",
       " '{\"title\": \"Saint-Brice, Mayenne\", \"text\": \"Saint-Brice, Mayenne\\\\n\\\\nSaint-Brice is a commune of 487 people (2004). It is found in the region Pays de la Loire in the Mayenne department in the northwest of France.\\\\n\", \"url\": \"https://simple.wikipedia.org/wiki?curid=129412\", \"id\": \"129412\"}',\n",
       " '{\"title\": \"KSpread\", \"text\": \"KSpread\\\\n\\\\nKSpread is a free software spreadsheet program that is part of KOffice, an office suite for the KDE Desktop Environment.\\\\n\\\\nAmong KSpread features are multiple sheets per document, assorted formatting possibilities, support for more than 100 built-in functions, templates, chart, spell-check, hyperlinks, data sorting and scripting with Python, Ruby and Javascript.\\\\n\\\\nKSpread native format is XML, compressed with ZIP. However, KSpread has the ability to import several different spreadsheet formats, including those from Microsoft Excel, Applix Spreadsheet, Quattro Pro, CSV and OpenOffice.org Calc.\\\\n\\\\n\\\\n\", \"url\": \"https://simple.wikipedia.org/wiki?curid=129802\", \"id\": \"129802\"}',\n",
       " '{\"title\": \"Plant cutting\", \"text\": \"Plant cutting\\\\n\\\\nPlant cutting, also known as striking/cloning, is a technique for vegetatively (asexually) propagating plants. With this method, a piece of the source plant containing at least one stem cell is placed in a suitable medium such as moist soil, potting mix, coir or rock wool. The cutting then grows new roots, stems, or both, and becomes a new plant independent of the parent.\\\\n\", \"url\": \"https://simple.wikipedia.org/wiki?curid=136810\", \"id\": \"136810\"}',\n",
       " '{\"title\": \"Key schedule\", \"text\": \"Key schedule\\\\n\\\\nIn cryptography, the so-called product ciphers are a certain kind of ciphers, where the decryption of data is done in \\\\\"\\\\\"rounds\\\\\"\\\\\". The general setup of each \\\\\"round\\\\\" is the same, except for some hard-coded parameters and a part of the cipher key, called a subkey. A key schedule is an algorithm that, given the key, calculates the subkeys for these \\\\\"rounds\\\\\". \\\\n\\\\n\\\\n\\\\n\\\\nKnudsen and Mathiassen (2004) give some experimental evidence that indicate that the key schedule plays a part in providing strength against linear and differential cryptanalysis. For toy Feistel ciphers, it was observed that those with complex and well-designed key schedules can reach a uniform distribution for the probabilities of differentials and linear hulls faster than those with poorly-designed key schedules.\\\\n\\\\n\", \"url\": \"https://simple.wikipedia.org/wiki?curid=137652\", \"id\": \"137652\"}',\n",
       " '{\"title\": \"Phetchabun Province\", \"text\": \"Phetchabun Province\\\\n\\\\nPhetchabun () is one of the northern provinces (\\\\\"changwat\\\\\") of Thailand. As of 2000, 965,784 people live there, and has an area of 12,668.4km². The Governor is Direk Thuengfang.\\\\n\\\\nThe province has 11 districts (\\\\\"amphoe\\\\\"); 117 subdistricts (\\\\\"tambon\\\\\") and 1261 villages (\\\\\"muban\\\\\").\\\\n\", \"url\": \"https://simple.wikipedia.org/wiki?curid=140624\", \"id\": \"140624\"}',\n",
       " '{\"title\": \"Jiban Thekey Neya\", \"text\": \"Jiban Thekey Neya\\\\n\\\\nJibon Theke Neya () is a Bengali movie by Bangladeshi filmmaker Zahir Raihan.\\\\n\\\\nThe movie is a political satire based on the Bengali Language Movement, and stars Shaukat Akbar, Anwar Hossain, Khan Ataur Rahman and Rosy Samad.\\\\n\\\\nJibon Theke Neya has been described as an example of \\\\\"national cinema\\\\\", using discrete local traditions to build a representation of the Bangladeshi national identity.\\\\n\\\\n\\\\n\", \"url\": \"https://simple.wikipedia.org/wiki?curid=141345\", \"id\": \"141345\"}',\n",
       " '{\"title\": \"Folkestone\", \"text\": \"Folkestone\\\\n\\\\nFolkestone is a seaside town in Kent, England, United Kingdom. It has a Eurostar train terminal near it, in Ashford. But the channel tunnel is in Folkestone. It is has a pebble beach and sandy beach and there are cliffs.\\\\n\", \"url\": \"https://simple.wikipedia.org/wiki?curid=146563\", \"id\": \"146563\"}',\n",
       " '{\"title\": \"Châteauneuf-Grasse\", \"text\": \"Châteauneuf-Grasse\\\\n\\\\nChâteauneuf-Grasse is a commune. It is found in the Provence-Alpes-Côte d\\'Azur region in the Alpes-Maritimes department in the south of France.\\\\n\", \"url\": \"https://simple.wikipedia.org/wiki?curid=150551\", \"id\": \"150551\"}',\n",
       " '{\"title\": \"Chéraute\", \"text\": \"Chéraute\\\\n\\\\nChéraute is a commune of the Pyrénées-Atlantiques \\\\\"département\\\\\" in the southwestern part of France.\\\\n\", \"url\": \"https://simple.wikipedia.org/wiki?curid=151931\", \"id\": \"151931\"}',\n",
       " '{\"title\": \"L\\'Épine-aux-Bois\", \"text\": \"L\\'Épine-aux-Bois\\\\n\\\\nL\\'Épine-aux-Bois is a commune. It is found in the region Picardie in the Aisne department in the north of France.\\\\n\", \"url\": \"https://simple.wikipedia.org/wiki?curid=153403\", \"id\": \"153403\"}',\n",
       " '{\"title\": \"Pargny-les-Bois\", \"text\": \"Pargny-les-Bois\\\\n\\\\nPargny-les-Bois is a commune. It is found in the region Picardie in the Aisne department in the north of France.\\\\n\", \"url\": \"https://simple.wikipedia.org/wiki?curid=153619\", \"id\": \"153619\"}',\n",
       " '{\"title\": \"Harrow &amp; Wealdstone station\", \"text\": \"Harrow &amp; Wealdstone station\\\\n\\\\nHarrow & Wealdstone station is a station on the Bakerloo Line. The Bakerloo line is a line on London Underground. The station opened for underground trains 1917. It was closed for underground services 1982 but reopened in 1984. It is in travelcard zone 5, so it is near the edge of London. The next stop southbound on the Bakerloo Line is Kenton.\\\\n\\\\nThe station is served by London Overground, London Midland and Southern. On 8 October 1952, the station was the site of a big train crash where lots of people died.\\\\n\\\\nBus routes 140 (24 hour), 182, 186, 258, 340, H9, H10 and night bus route N18 serve various stops beside or near the station. All the buses that serve the station also serve Harrow on the Hill station but not all as direct services.\\\\n\\\\n\", \"url\": \"https://simple.wikipedia.org/wiki?curid=165886\", \"id\": \"165886\"}',\n",
       " '{\"title\": \"Cyperaceae\", \"text\": \"Cyperaceae\\\\n\\\\nThe family Cyperaceae, or the sedges, is a taxon of flowering plants that superficially resemble grasses or rushes.\\\\n\\\\nThe family is large, with some 5,500 species described in about 109 genera. The largest is the \\\\\"Carex\\\\\" genus of \\\\\"true sedges\\\\\", with over 2,000 species.\\\\n\\\\nSedges include many wild marsh and grassland plants, and some cultivated ones such as water chestnut (\\\\\"Eleocharis dulcis\\\\\") and papyrus sedge (\\\\\"Cyperus papyrus\\\\\"). These species are widely distributed, with many in tropical Asia and tropical South America. Sedges may be found growing in almost all environments. Many are wetlands, or have poor soils. Ecological communities dominated by sedges are known as sedgelands.\\\\n\\\\nFeatures distinguishing members of the sedge family from grasses or rushes are stems with triangular cross-sections (with occasional exceptions) and leaves that are spirally arranged in three ranks (grasses have alternate leaves forming two ranks).\\\\n\", \"url\": \"https://simple.wikipedia.org/wiki?curid=168631\", \"id\": \"168631\"}',\n",
       " '{\"title\": \"The Fox and the Hound (book)\", \"text\": \"The Fox and the Hound (book)\\\\n\\\\nThe Fox and the Hound is a 1967 book by Daniel Pratt Mannix IV. It is about the lives of two canines, a hound dog named Copper and a red fox named Tod. The book is Mannix\\'s best-known work, and was later made into a movie of the same name from Walt Disney Productions.\\\\n\\\\nThe book follows Tod from his first contact with humans as a kit and Copper from his first encounter with Tod. They are living in a changing world; the wilderness present at the beginning of the book gradually gives way to a more urbanized setting, causing problems for Copper, his Master, and Tod.\\\\n\\\\nIt changes between Tod and Copper\\'s point of view. Of the ten chapters in the book, four are from Copper\\'s point of view and six are from Tod\\'s. Both of the animals are presented as smart if not on a level with humans, and the book constantly emphasizes the point that both are creatures who rely on their sense of smell as much as humans rely on sight, particularly Copper.\\\\n\\\\nCopper\\'s chapters focus on his relationship with the Master as he assists him in hunting, mostly for Tod, who killed the Master\\'s new dog, Chief, earlier in the book. Tod\\'s chapters focus on his life as a wild fox, avoiding death both natural and man-made while attempting to father kits. \\\\n\", \"url\": \"https://simple.wikipedia.org/wiki?curid=172704\", \"id\": \"172704\"}',\n",
       " '{\"title\": \"Slash (punctuation)\", \"text\": \"Slash (punctuation)\\\\n\\\\nA slash (/) is a punctuation mark used for various purposes. Other names for it are: stroke, virgule, diagonal, right-leaning stroke, oblique dash, solidus, slant, separatrix, slake and whack, forward slash. A mark in the reverse direction (\\\\\\\\) is called a reverse slash or backslash. \\\\n\\\\nExample: to show how many kilograms of barley are left out of your total supply of barley; 1999/2000. \\\\n\\\\nA slash can also be interpreted as \\\\\"and\\\\\". For example, \\\\\"He is enrolling in the JBA program at Harvard\\\\\". It can also be interpreted as \\\\\"or\\\\\". For example, \\\\\"Each employee must bring his/her Photo ID\\\\\". There, the slash (/) means \\\\\"or\\\\\". \\\\n<div class=\\\\\"boilerplate metadata plainlinks\\\\\" id=\\\\\"stub\\\\\"> \\\\\"This can be made longer. You can help Wikipedia by [ adding to it]\\\\\".</div >\\\\n\", \"url\": \"https://simple.wikipedia.org/wiki?curid=177047\", \"id\": \"177047\"}',\n",
       " '{\"title\": \"Colloquialism\", \"text\": \"Colloquialism\\\\n\\\\nA colloquialism is a word that is not used in formal speech, writing or paralinguistics. Colloquialisms are also sometimes referred to collectively as \\\\\"colloquial language\\\\\". Colloquialisms or \\\\\"colloquial language\\\\\" is considered to be characteristic of or only appropriate for casual, ordinary, familiar, or informal conversation rather than formal speech or writing. Dictionaries often mark colloquial words and phrases with the abbreviation \\\\\"colloq.\\\\\" as an identifier.\\\\n\\\\n<div class=\\\\\"boilerplate metadata plainlinks\\\\\" id=\\\\\"stub\\\\\"> \\\\\"This can be made longer. You can help Wikipedia by [ adding to it]\\\\\".</div >\\\\n\", \"url\": \"https://simple.wikipedia.org/wiki?curid=181267\", \"id\": \"181267\"}',\n",
       " '{\"title\": \"Kikuyu\", \"text\": \"Kikuyu\\\\n\\\\nKikuyu is the largest tribe in Kenya. They are 22% of Kenya\\'s population and are of Bantu ethnicity.\\\\n\\\\nThere are two theories explaining where the Kikuyu came from. First, it is believed the Kikuyus came from Central Africa, where all the Bantus once lived. They then moved south towards present day Tanzania where the migrating group separated again and the Kikuyus moved towards Mount Kenya, where they settled. The second theory is that they came from a mythical place called Shungwaya, which is present day Somalia. \\\\n\\\\nAccording to Kikuyu creation stories, Ngai (their God) made a man, called Gikuyu, and his wife, Mumbi, and settled them on Mount Kenya. Gikuyu and Mumbi had nine daughters who form the major groups of the Kikuyu people. Due to the fertile soil on Mount Kenya and the hard work of the Kikuyu people, they grew more than they needed and started trading with their neighbours, the Maasai (a Nilotic tribe). The Kikuyus swapped their farm produce and crops for the animal products from the Maasai, who kept livestock. It is also believed that the Maasai are the ones who married the nine daughters of Gikuyu and Mumbi.\\\\n\\\\nMembers of the Kikuyu tribe speak the Kikuyu language. The Kikuyu greeting is \\\\\"Wi mwega?\\\\\" which means \\\\\"Are you fine?\\\\\". There are a few Kikuyu dialects depending on region. Kikuyus from Nyeri, for instance, have other forms of greeting including: \\\\\"Wakia Maitu\\\\\" greeting an elderly female, \\\\\"Wakia Awa\\\\\" greeting an elderly male, and \\\\\"Wanyua\\\\\" for agemates.\\\\n\\\\nThe Kikuyu language is also similar to other languages like Meru, Mbeere, and Embu which are believed to have been once part of the Kikuyu tribe but moved away and formed their own tribes. Even though English and Kiswahili are the main languages spoken in Kenya across tribes, the Kikuyu language is still spoken a lot today as a sense of cultural pride.\\\\n\\\\nFamous people from this tribe include: Jomo Kenyatta (the first president of Kenya), Mwai Kibaki (the third president of Kenya), Uhuru Kenyatta (current president) and Wangari Maathai (the first African female Nobel Peace Prize winner.)\\\\n\\\\n\", \"url\": \"https://simple.wikipedia.org/wiki?curid=185995\", \"id\": \"185995\"}',\n",
       " '{\"title\": \"Kacchu\", \"text\": \"Kacchu\\\\n\\\\nKacchu is a Japanese traditional armor. Japanese swords and scabbards are higher quality than swords from other countries. Therefore, Kacchu also needed to develop to protect the body from attack. \\\\\"Kacchu\\\\\" was also made to be worn by horses. It was made of leather, bronze and iron.\\\\n\\\\nAmong the \\\\\"samurai\\\\\" it was used only for protection. \\\\\"Kacchu\\\\\" is now often used in feasts, entertainment and festivals. It has become colorful, simple and luxurious. Because Japanese people are becoming interested in the samurai, \\\\\"kacchu\\\\\" is becoming more popular. \\\\\"Kacchu\\\\\" has a high popularity among couples on the birth of the boy. In marriage, a bridegroom wears a tuxedo or \\\\\"hakama\\\\\" but, recently there have been more men wearing \\\\\"Kacchu\\\\\". \\\\\"Kanetsugu Naoe\\\\\"’s (直江 兼続) \\\\\"Kacchu\\\\\" is especially popular. He was a strategist in the Warring State Period in Japan. He is also called the general \\\\\"Kanetsugu Naoe\\\\\" of Uesugi. \\\\\"Kanetsugu Naoe\\\\\" only loved one woman, \\\\\"Osen\\\\\"(お船) and did not have another wife in time of polygamy. Therefore, couples think they swear to love forever by wearing his \\\\\"Kacchu\\\\\". In fact, the \\\\\"Kanji\\\\\" for \\\\\"love\\\\\"(愛)\\u3000sticks out from his helmet. This \\\\\"Kanji\\\\\" has four different meanings: “personal grace of love”(仁徳愛), “people of love”(民衆愛), “\\\\\"Aizenmyouou\\\\\"”(愛染明王), and “\\\\\"Atagoshinkou\\\\\"”(愛宕信仰). “\\\\\"Aizenmyouou\\\\\"” means the hero who realizes sexual desires and “\\\\\"Atagoshinkou\\\\\"” means the religion of gods from Atago temple. \\\\n\\\\nWhen a boy is born, \\\\\"Kacchu\\\\\" is decorated on “\\\\\"Tango no sekku\\\\\"”(端午の節句), called “Children’s day”, is the festival which celebrates boy’s growing and children’s health. As charms, \\\\\"Kacchu\\\\\" and \\\\\"Katana\\\\\"(刀) are decorated on the inside with symbols which are meant to protect a boy’s body and soul.\\\\n\\\\n\", \"url\": \"https://simple.wikipedia.org/wiki?curid=186988\", \"id\": \"186988\"}',\n",
       " '{\"title\": \"The Planets\", \"text\": \"The Planets\\\\n\\\\nThe Planets Op. 32 is a seven-movement orchestral musical series by the British composer Gustav Holst, written between 1914 and 1916. The first complete public performance happened during World War I on 10 October 1918 in Birmingham, with Appleby Matthews directing the orchestra. However, an earlier premiere for only a small group of people was held on 29 September 1918 in the Queen\\'s Hall in London, with the orchestra directed by Adrian Boult.\\\\n\", \"url\": \"https://simple.wikipedia.org/wiki?curid=193482\", \"id\": \"193482\"}',\n",
       " '{\"title\": \"Nuclear deterrent\", \"text\": \"Nuclear deterrent\\\\n\\\\nA nuclear deterrent is a phrase that means a country\\'s nuclear weapons arsenal. It means that other countries do not attack the country with the \\\\\"deterrent\\\\\" because they might be attacked back.\\\\n\", \"url\": \"https://simple.wikipedia.org/wiki?curid=193987\", \"id\": \"193987\"}',\n",
       " '{\"title\": \"Vâlcea County\", \"text\": \"Vâlcea County\\\\n\\\\nVâlcea (also spelt \\\\\"Vîlcea\\\\\"; ) is a county (judeţ) of Romania. It can be found in the historical regions of Oltenia and Muntenia (both regions are split apart by the Olt River). The capital of Vâlcea County is Râmnicu Vâlcea.\\\\n\\\\nVâlcea County has an area of 5,765\\xa0km².\\\\n\\\\nVâlcea County has 2 municipalities, 9 towns and 78 communes.\\\\n\\\\n\\\\n\", \"url\": \"https://simple.wikipedia.org/wiki?curid=194321\", \"id\": \"194321\"}',\n",
       " '{\"title\": \"Takuya Kokeguchi\", \"text\": \"Takuya Kokeguchi\\\\n\\\\nTakuya Kokeguchi (born 13 July 1985) is a Japanese football player. He plays for Kataller Toyama.\\\\n\", \"url\": \"https://simple.wikipedia.org/wiki?curid=213746\", \"id\": \"213746\"}',\n",
       " '{\"title\": \"Epistle of James\", \"text\": \"Epistle of James\\\\n\\\\nThe Epistle of James is a book inclused in the Christian Bible, the twentieth in the New Testament. \\\\n\\\\nAccording to its opening verse, this epistle was written by James (often identified with the “brother of the Lord” who leaded the Jerusalem Church about 20 years and was killed around 62 AD). \\\\n\\\\nThe title “servant of God and of the Lord Jesus Christ” (which suggest a Church official), the courage to address “the twelve tribes in the Dispersion” (i.e. Jewish Christian communities outside Palestine, or all faithful living in a non-Christian environment), and the tone of authority throughout the letter, all indicate someone well known and respected. \\\\n\\\\nThe writer appears concerned in clarifying Paul’s teaching on faith/action, against Christians who deform it. This indicates that the letter was written after those of Paul had begun to circulate diffusely, in the last decades of the 1st century.\\\\n\\\\nThis late dating, together with the quite elegant Greek style and the lack of any real emphasis on the Jewish legalism which was part of James’ approach to religion, have persuaded a growing majority of contemporary scholars that a Christian versed in both Hellenism and Judaism wrote using James’ name. \\\\n\\\\nMay be early tradition stemming from James was updated and published by an unknown Christian teacher of a later generation: possibly this is why the letter was not universally accepted by the Churches until near the end of the 4th century.\\\\n\\\\nThe author’s two chief sources are OT Wisdom books and the teaching found in the Gospels, though he hardly ever uses direct quotations. \\\\n\\\\nReflecting Jewish Christian assemblies, he rethinks OT sayings in the light of Jesus’ teachings and re-presents them in an original way. \\\\n\\\\nThe epistle consists of a long series of exhortations, mostly brief and loosely connected, some developed at length. \\\\n\\\\nThe one common trait, which gives the letter its distinctive quality, is a concern that the faith be implemented in every aspect of life; otherwise it is useless. \\\\n\\\\nThe author takes for granted Jesus\\' saving work, but is especially interested in Christians\\' moral life. So, there is no real contradiction between Paul\\'s and James\\' teachings, for Paul was speaking of the impossibility of earning salvation by one\\'s own efforts, not of the works of charity and justice to which the Christians are called. \\\\n\\\\nJames used a friendly way of addressing his readers on the day-to-day problems we also meet and in which we must follow faith and love for others: community life, prejudice or discrimination, care for poor, widows and orphans, jealousy and selfish ambition, controlling the tongue, community concern for the sick, matters of justice, speaking evil against each other. He said in effect: “Love first and it will prove your faith”. \\\\n\\\\nThe central theme is the true wisdom that comes from God as opposed to false wisdom. The moral teaching revealed from on high, is not human but divine wisdom. Humans can only analyse it, enter into it more deeply and put it into practice. It is an objective ethics needed to see life in its proper perspective and to be guided in action. Earthly wisdom, on the contrary, is a permanent temptation in people who want to decide for themselves what is right and what is wrong, only to end in justifying wicked behaviour.\\\\n\\\\nThe other main theme is God’s preference for the lowly: so in this manifesto for social justice the author praises the poor and threatens the rich. Respect for the dignity of every person is fundamental especially that of the poor, exposed to contempt by the powerful. This evidently takes up the task undertaken by the prophets, but it also refers to Christ, whose glory guarantees the dignity of everyone redeemed by his blood, and excludes every kind of favouritism. \\\\n\\\\nJames insists much on bridling the tongue: in this respect, teachers have a special responsibility within the Church since their instructions (and their writings) can create dissent and division in her. Those with a strong influence on public also have a similar responsibility.\\\\n\\\\nMore in detail, we read:\\\\n\\\\nJas 1:1-18: A series of short exhortations, linked together more by word connections than by concept, introduces topics to be developed in the letter.\\\\n\\\\nJas 1:19-27: The Word in which we were given birth by God must be heard: any obstacles must be removed so to put it into practice.\\\\nJas 2:1-13: This explanation of the previous exhortations is a warning against partiality and leads to a fuller consideration of the poor in community.\\\\n\\\\nJas 2:14-26: This part is unique for its unified and relatively long development of a single theme: that faith without works is dead i.e. cannot save anyone for eternal life. This is the heart of the letter, giving the theoretical basis for the practical exhortations. Yet, the appearance of a contradiction of Paul’s teaching on justification by faith has given excessive prominence to this section. It was largely because of it that M. Luther wished to exclude this letter from the Bible.\\\\n\\\\nJas 3:1-4:12: These are two clearly defined, closely developed sections. Since faults of tongue and false wisdom lead to strife in the community, James considers the root causes and remedies thereof, concluding with a consideration of law and judgment.\\\\n\\\\nJas 4:13-5:6: These two passages are parallel in that each is introduced identically and employs direct address. The first is against mercantile arrogance, the second is a severe denunciation of unjust rich similar to those of OT prophets. It is a useful warning to the faithful of the terrible fate of those who abuse riches.\\\\n\\\\nJas 5:7-20: After an exhortation to patiently waiting for the Lord’s coming, the letter ends with three topics: oaths, prayer and converting the sinners. In the midst, James proclaims the anointing of the sick by Church leaders which is one of the seven sacraments.\\\\n\\\\n\", \"url\": \"https://simple.wikipedia.org/wiki?curid=216119\", \"id\": \"216119\"}',\n",
       " '{\"title\": \"History of the alphabet\", \"text\": \"History of the alphabet\\\\n\\\\nThe history of the alphabet begins in Ancient Egypt, more than a millennium into the history of writing. The first pure alphabet emerged around 2000 BCE to represent the language of Semitic workers in Egypt, and it was derived from the alphabetic principles of the Egyptian hieroglyphs. Most alphabets in the world today descend directly from this development, such as the Greek and Latin alphabets, or were inspired by its design.\\\\n\\\\nBy 2700 BCE, the ancient Egyptians had developed a set of some 22 hieroglyphs to represent the consonants of their language and a 23rd that seems to have represented word-initial or word-final vowels. The first purelyalphabetic script is thought to have been developed around 2000 BCE for Semitic workers in central Egypt.\\\\n\\\\nOver the next 500 years, it spread north, and all subsequent alphabets around the world have either descended from it or been inspired by one of its descendants, with the possible exception of the Meroitic alphabet, a 3rd century BCE adaptation of hieroglyphs in Nubia to the south of Egypt.\\\\n\\\\nThe oldest examples are in Egypt and date to around 1800 BCE /. \\\\nThe inscriptions may show that the alphabet was invented in Egypt.\\\\n\", \"url\": \"https://simple.wikipedia.org/wiki?curid=217625\", \"id\": \"217625\"}',\n",
       " '{\"title\": \"Magnum Rafael Farias Tavares\", \"text\": \"Magnum Rafael Farias Tavares\\\\n\\\\nMagnum Rafael Farias Tavares (born 24 March 1982) is a Brazilian football player.\\\\n\\\\n\", \"url\": \"https://simple.wikipedia.org/wiki?curid=221391\", \"id\": \"221391\"}',\n",
       " '{\"title\": \"Lee Eul-Yong\", \"text\": \"Lee Eul-Yong\\\\n\\\\nLee Eul-Yong (born 8 September 1975) is a South Korean professional athlete. He is best known as an association football player. He was a member of the Korean national team.\\\\n\", \"url\": \"https://simple.wikipedia.org/wiki?curid=221566\", \"id\": \"221566\"}',\n",
       " '{\"title\": \"Pietro Perugino\", \"text\": \"Pietro Perugino\\\\n\\\\nPietro Perugino (1446–1524) was a leading Italian painter of the Umbrian school. He developed some of the qualities that found classic expression in the High Renaissance. He was born as \\\\\"Pietro Vannucci\\\\\" in Città della Pieve. Perugino also was one of Raphael\\'s teachers.\\\\n\\\\n\", \"url\": \"https://simple.wikipedia.org/wiki?curid=226237\", \"id\": \"226237\"}',\n",
       " '{\"title\": \"Be Good to Me\", \"text\": \"Be Good to Me\\\\n\\\\n\\\\\"Be Good to Me\\\\\" is a song on Ashley Tisdale\\'s first album, \\\\\"Headstrong\\\\\". \\\\\"Be Good to Me\\\\\" was the first song released off the album. It was released in the United States on December 25, 2006 and in South America in January 2007. The album version has rap vocals by David Jassy.\\\\n\", \"url\": \"https://simple.wikipedia.org/wiki?curid=235739\", \"id\": \"235739\"}',\n",
       " '{\"title\": \"Shinsuke Shimabukuro\", \"text\": \"Shinsuke Shimabukuro\\\\n\\\\nShinsuke Shimabukuro (born 13 January 1983) is a former Japanese football player.\\\\n\", \"url\": \"https://simple.wikipedia.org/wiki?curid=239320\", \"id\": \"239320\"}',\n",
       " '{\"title\": \"Aryan race\", \"text\": \"Aryan race\\\\n\\\\nThe Aryan race is an idea that was formed in the 19th and early 20th century. The term \\\\\"Aryan\\\\\" comes from the Rig Veda and is the name of an ancient group of people in ancient Persia and India, who spoke an Indo-European language. It has been used to describe people of Iranian and Indian descent, but there was no record of Aryans in European history. Later it was used for Germanic peoples because of new ideas about the Aryans.\\\\n\\\\nThe term Aryan comes from the ancient Sanskrit word ārya, which was a term used by Sanskrit speaking people to distinguish themselves from other races. The Iranians also used the terms, and the name Iran means \\\\\"land of the Aryans\\\\\". The idea of an Aryan race was first used as a category of people but was later used by occult movements such as Theosophy. It was also later used by Nazis and white supremacists in racist ways.\\\\n\\\\nThe ideology of Nazism was based upon the idea of the Aryan race or Germanic peoples being a master race. The Nazi view of the Aryan race came from earlier racial theorists such as Arthur de Gobineau and Houston Stewart Chamberlain.\\\\n\\\\nAs the leader of Nazi Germany, Adolf Hitler, became set in his ways, he decided with proclamations that some other groups of people were also Aryans along with Germanic peoples. He declared Hungarians to be \\\\\"Aryan\\\\\" in 1934, the Japanese were made officially \\\\\"Aryans\\\\\" in 1936, and the Finns were officially added in as \\\\\"Aryans\\\\\" by his proclamation in 1942. However, Nazi Germany did not regard Slavs as \\\\\"Aryans\\\\\", but as inferiors and non-Aryan. They were usually vague as to whether Italians were \\\\\"Aryan\\\\\", although Italy under Mussolini had a \\\\\"Manifesto of Race\\\\\" in 1938 that said they were.\\\\n\\\\nTheosophy, a mystical occult society founded in 1875 by Helena Blavatsky believes that the Arabian people and the Jews are a part of the Aryan race. It is believed by Theosophists that the Arabians used the Semitic languages of the people around them. These people had moved to the area from Atlantis. Theosophists claim that the Jews began as a part of the Arabian subrace in what is now Yemen around 30,000 BC. They moved first to Somalia and then to Egypt where they lived until the time of Moses.\\\\n\\\\n\", \"url\": \"https://simple.wikipedia.org/wiki?curid=255862\", \"id\": \"255862\"}',\n",
       " '{\"title\": \"Calluna\", \"text\": \"Calluna\\\\n\\\\nCalluna vulgaris (heather) is the sole species in the genus Calluna in the family Ericaceae.\\\\n\\\\nIt is a low-growing perennial shrub growing to tall, or rarely to . It is found widely in Europe and Asia Minor on acidic soils in open sunny situations and in moderate shade.\\\\n\\\\nHeather is the dominant plant on most heaths and moorland in Europe, and in some bog vegetation and acidic pine and oak woodland. It is tolerant of grazing and regenerates following occasional burning. It is often managed in nature reserves and grouse moors by sheep or cattle grazing, and also by light burning.\\\\n\\\\nThe flowers emerge in late summer; in wild plants these are normally mauve, but white-flowered plants also occur occasionally.\\\\n\\\\nHeather is an important food source for various sheep and deer which can graze the tips of the plants when snow covers low growing vegetation. Willow Grouse and Red Grouse feed on the young shoots and seeds of this plant. Both adults and larvae of the Heather Beetle \\\\\"Lochmaea suturalis\\\\\" feed on it, and can cause damage. The larvae of a number of Lepidoptera species also feed on the plant.\\\\n\\\\nHeather honey is a highly valued product in moorland and heathland areas, with many beehives being moved there in late summer. It has a strong taste, and an unusual texture. It is thixotropic, being a jelly until stirred, when it becomes a syrup (like other honey), but then sets again to a jelly. This makes the extraction of the honey from the comb difficult, and it is therefore often sold as comb honey.\\\\n\\\\nHeather is seen as iconic of Scotland, where the plant grows widely. When poems like \\\\\"Bonnie Auld Scotland\\\\\" speak of \\\\\"fragrant hills of purple heather\\', when the hero of \\\\\"Kidnapped\\\\\" flees through the heather, when heather and Scotland are linked in the same sentence, the heather talked about is \\\\\"Calluna vulgaris\\\\\".\\\\n\", \"url\": \"https://simple.wikipedia.org/wiki?curid=280405\", \"id\": \"280405\"}',\n",
       " '{\"title\": \"Credo Reference\", \"text\": \"Credo Reference\\\\n\\\\nCredo Reference is a company that offers subscription-based online reference content. It provides full-text online versions of more than 700 published reference works from over 70 publishers, including general and subject dictionaries and encyclopedias.\\\\n\\\\nThe company began in 1999 and has offices in Oxford, England, and Boston, Massachusetts. It changed its name from Xrefer in 2007.\\\\n\\\\nSubscriptions are available to academic, government, public and company libraries. Access to Credo Reference is free to users if their library is a subscriber. Librarians can select which titles they wish to subscribe to within Credo General Reference. They can manage the selection during their subscription period by swapping titles in and out.\\\\n\\\\nBetween 2000 and 2003, Xrefer offered a free site supported by advertising, and was one of Wikipedia\\'s main competitors as a free content encyclopedia. When the dot com bust caused Internet advertising revenues to collapse, Xrefer launched a premium subscription variant, called \\\\\"Xreferplus\\\\\". On 17 June 2003, the free service stopped.\\\\n\\\\n\\\\n\", \"url\": \"https://simple.wikipedia.org/wiki?curid=297446\", \"id\": \"297446\"}',\n",
       " '{\"title\": \"Salmaan Taseer\", \"text\": \"Salmaan Taseer\\\\n\\\\nSalmaan Taseer (31 May 1944 — 4 January 2011) was the Governor of Punjab, in Pakistan. He was shot dead in 2011 in Islamabad by his official security guard, Malik Muhammad Mumtaz Qadri, a member of the Pakistan military\\'s Elite Force. It is believed he was killed because his ideas were not acceptable to various religious groups in Pakistan. Taseer had not supported the Pakistan\\'s blasphemy laws which make an insult against Islam punishable by death. The murderer, Qadri, said he had to kill Taseer because of this, as it was his duty under Islamic law. He said the killing was not illegal. Thousands of people have demonstrated in support of Qadri.\\\\n\\\\nTaseer was born in Simla, Punjab, British India. He studied accountancy in London and later joined Zulfiqar Ali Bhutto\\'s Pakistan Peoples Party in 1967. He was elected to the Punjab Assembly in 1988 and was Deputy Opposition Leader. He was also elected to the National Assembly and held the position of Federal Minister for Industries, Production and Special Initiatives. In May 2008 he was made the Governor of Punjab. He was a close assistant to Benazir Bhutto. \\\\n\\\\nHe owned accountancy businesses, a telephone company, an English language newspaper and the first children\\'s TV channel.\\\\n\", \"url\": \"https://simple.wikipedia.org/wiki?curid=302180\", \"id\": \"302180\"}',\n",
       " '{\"title\": \"Robert Fripp\", \"text\": \"Robert Fripp\\\\n\\\\nRobert Fripp (born 16 May 1946, Wimborne Minster, Dorset, England) is an English guitarist, songwriter and record producer. He was ranked 42 on \\\\\"Rolling Stone\\\\\" magazine\\'s 2003 list of the \\\\\"100 Greatest Guitarists of All Time\\\\\". He is founder member of rock band King Crimson.\\\\n\\\\nFripp has been married to Toyah Willcox since 1986. His uncle was Alfie Fripp.\\\\n\", \"url\": \"https://simple.wikipedia.org/wiki?curid=303011\", \"id\": \"303011\"}',\n",
       " '{\"title\": \"Gun Hägglund\", \"text\": \"Gun Hägglund\\\\n\\\\nKarin Gunvor Sjöblom Hägglund (2 March 1932–19 August 2011) was Swedish television star. She is better known as Gun Hägglund. Hägglund is the first female in Sweden who presented news on television. She was the news presenter of Aktuellt in 1958.\\\\n\\\\nHägglund was born in Örnsköldsvik, Sweden and died in Visby. She was married to the Swedish news editor Karl-Axel Sjöblom. Both hosted and moderated the popular Swedish TV show \\\\\"Halv sju\\\\\". Her husband died in 1982. Hägglund died in 2011 after a short illness.\\\\n\\\\nHer career started in 1955 when she started working for the Swedish radio. She was a secretary and program announcer. In 1958, she moved to television shows and became the first female in Sweden to present the news. Hägglund presented the national news show Aktuellt. Furthermore, she worked as a translator. She translated movies and TV shows.\\\\n\\\\nFor 30 years, until 1997, Hägglund was involved in the \\\\\"Swedish National Association of Promotion of Cycling\\\\\". First she was Secretary-General and later Executive Chairman. In that position, she published some books about cycling.\\\\n\", \"url\": \"https://simple.wikipedia.org/wiki?curid=306121\", \"id\": \"306121\"}',\n",
       " '{\"title\": \"Pyroxene\", \"text\": \"Pyroxene\\\\n\\\\nThe pyroxenes are a group of important rock-forming inosilicate minerals found in many igneous and metamorphic rocks. They share a common structure consisting of single chains of silica crystals with the general formula XY(Si,Al)O where X and \\\\nY represents metal ions. \\\\nAlthough aluminium substitutes extensively for silicon in silicates such as feldspars and amphiboles, the substitution occurs only to a limited extent in most pyroxenes.\\\\n\\\\nPyroxenite is an igneous rock made up of minerals from the pyroxene group.\\\\n\", \"url\": \"https://simple.wikipedia.org/wiki?curid=315782\", \"id\": \"315782\"}',\n",
       " '{\"title\": \"I Have Nothing\", \"text\": \"I Have Nothing\\\\n\\\\nI Have Nothing is a song by American singer Whitney Houston. It was recorded for \\\\\"The Bodyguard\\\\\" soundtrack (1992).\\\\nLater as a duet recorded in 1993 by the late singers Michael Jackson featuring Whitney Houston.\\\\n\\\\n\", \"url\": \"https://simple.wikipedia.org/wiki?curid=316809\", \"id\": \"316809\"}',\n",
       " '{\"title\": \"Gracie Allen\", \"text\": \"Gracie Allen\\\\n\\\\nGrace Ethel Cecile Rosalie Allen (July 26, 1895 – August 27, 1964) was an American actress and comedian. She was in many movies. Her career in the entertainment industry lasted until 1958. She was the wife of actor George Burns\\\\n\", \"url\": \"https://simple.wikipedia.org/wiki?curid=326498\", \"id\": \"326498\"}',\n",
       " '{\"title\": \"Blush\", \"text\": \"Blush\\\\n\\\\nBlush or rouge is a type of cosmetic put on the cheeks, usually in red or pink. It can be a powder or a cream. Blush is almost always used by girls and not often used by boys except for in acting.\\\\n\\\\nBlush was first used by Egyptians in 3000 BC. In the 1800s, wearing cosmetics made people think a woman had bad character, so people from that time would pinch their cheeks to make them red.\\\\n\\\\n<div class=\\\\\"boilerplate metadata plainlinks\\\\\" id=\\\\\"stub\\\\\"> \\\\\"This can be made longer. You can help Wikipedia by [ adding to it]\\\\\".</div >\\\\n\", \"url\": \"https://simple.wikipedia.org/wiki?curid=327761\", \"id\": \"327761\"}',\n",
       " '{\"title\": \"Rapier (missile)\", \"text\": \"Rapier (missile)\\\\n\\\\nRapier is a British surface-to-air missile. It was developed for the British Army and Royal Air Force. It began being used in 1971 and eventually replaced all other anti-aircraft weapons in the British Army. It replaced both guns for targets that were flying low down, and the English Electric Thunderbird which was used against targets that were higher up and further away. \\\\n\\\\nRapier defends against fixed-wing aircraft, helicopters, unmanned aircraft and cruise missiles. It is also able to fire two missiles at once.\\\\n\\\\nRapier can be moved around by ground and air.\\\\n\\\\nRapier started being developed in 1961. It was done privately at the British Aircraft Corporation (BAC). Then, the missile was known as \\\\\"Sightline\\\\\". The project was to fight supersonic, low-flying aircrat. \\\\n\\\\nAt the time the British Army was going to buy the American MIM-46 Mauler for air-defense. Mauler ran into problems in 1963, so the Ministry of Defence started giving money to Sightline. Sightline was supposed to be a backup in case Mauler failed. This eventually happened, and Sightline was eventually developed as \\\\\"Rapier\\\\\". The missile was 1966 for testing. Full versions of Rapier were tested in 1968. A contract was given in 1969 for the missile to begin being made. Rapier began being used in 1971 with the British Army, and 1974 with the Royal Air Force Regiment.\\\\n\\\\nThe first Rapier was a launcher on wheels. It had four missiles. The launcher is a large cylinder. It has two missiles on each side. \\\\nThe first Rapier was accurate and simple to use. However, it could not be used in all types of weather. To fix this, BAC started working on a different radar unit. This led to the Marconi DN 181 \\\\\"Blindfire\\\\\" radar in 1970. The first Blindfires were sold to the Iranian Army in 1973. The British Army did not buy the Blindfire system until 1979.\\\\n\\\\nIt soon became noticed that a version of Rapier that could be moved around was needed. BAC decided to change Rapier to fit onto the M548, a version of the M113 armored personnel carrier. In 1974, this weapon was developed as \\\\\"Tracked Rapier\\\\\". The vehicles were bought by the British Army. The first Tracked Rapiers were used with \\\\\"11 (Sphinx) Air Defence Battery\\\\\", of 22 Air Defence Regiment, Royal Artillery in 1982-83.\\\\n\\\\nMoving to firing takes only 30 seconds. This was a very big improvement to Towed Rapier. The biggest difference between towed and tracked Rapier was that the tracked Rapier launcher has eight missiles. The towed Rapier only has four.\\\\n\\\\nThere was no room for Blindfire on a single M548. Because of this, it is towed or put onto a different M548. \\\\n\\\\nAfter Tracked Rapier entered service, it was upgraded many times to follow the upgrades being made to all Rapiers. \\\\n\\\\nTracked Rapier has been replaced by Starstreak missile launchers. These are put onto the Alvis Stormer.\\\\n\\\\nThe \\\\\"Field Standard B\\\\\" (FSB) added some basic upgrades to Rapier. Also, the radar which searches for enemy aircrat was upgraded so that it could be easily shut down.\\\\n\\\\nBecause of all the new upgrades, the first, cheap Rapier was gone. To make Rapier cheaper, BAC began developing the \\\\\"Rapier Laserfire\\\\\" in 1982. \\\\n\\\\nTracking and firing is similar to the first Rapier. However, the Laserfire lights up the target and automatically tracks it with a powerful YAG:Nd laser. \\\\n\\\\nIn 1988, a better missile started being tested. This missile exploded before it hit the target. This allowed Rapier to hit smaller, faster targets.\\\\n\\\\nIn 1992 the Army decided to upgrade Rapier to higher-quality versions.\\\\n\\\\nThe missile has two versions, the Mk. 2A to shoot down aircraft, and the Mk. 2B, which can be used against light tanks and other armoured vehicles.\\\\n\\\\nIn April 1982, the first Rapier was used during the Falklands War. Early reports about Rapier were good. They said Rapier got 14 kills and probably killed another 6 more. However, later reports said that around four enemy aircraft were shot down by Rapier. Only one Argentine aircraft, a Dagger A, was definitely a Rapier kill. The pilot was killed. \\\\n\\\\n\\\\\"\\\\\"Within the total only five Argentine aircraft might have been shot down by Rapier, and, as originally noted by Ethell and Price, only one of these was certain, with two probables and two possibles. Similar discrepancies arose over other weapons systems, notably Blowpipe (one confirmed kill as against nine confirmed and two probables in the White Paper) and Sea Cat (zero to one against eight confirmed and two probables in the White Paper). […] This confirmation that MoD had exaggerated, however unwittingly, the capabilities of Rapier was deemed to be political dynamite. It was observed that if this assessment became publicly known it \\'could have a serious adverse effects on sales\\' prospects for Rapier, which is the staple revenue-earner for BAe\\'s Dynamic Group.\\\\\"\\\\\"\\\\n\\\\nThe main problems were that Rapier could not fire very far, and that there was no proximity fuse. This meant that the gunner had to hit the aircrat with the missile directly. There were also problems with Rapier\\'s IFF system.\\\\n\\\\nIt has been announced the UK Ministry of Defence was giving money to a company to find a replacement for Rapier. The Common Anti-Air Modular Missile (CAMM) would have some components the same as the ASRAAM missile which is in service with the RAF.\\\\n\\\\nAn example of Rapier can be seen in a hangar in IWM Duxford.\\\\n\\\\n\\\\n\\\\n\", \"url\": \"https://simple.wikipedia.org/wiki?curid=327928\", \"id\": \"327928\"}',\n",
       " '{\"title\": \"École des technologies numériques appliquées\", \"text\": \"École des technologies numériques appliquées\\\\n\\\\nÉcole des technologies numériques appliquées (ETNA) is a French private graduate school in information technology and computer science. It was made in 2005 and is in Ivry-sur-Seine.\\\\n\\\\nThe school has two courses, software development and computer network/security, and delivers a degree recognized by French State. It teaches with a dual education system.\\\\n\\\\n\", \"url\": \"https://simple.wikipedia.org/wiki?curid=329052\", \"id\": \"329052\"}',\n",
       " '{\"title\": \"Lee Yoo-Hyung\", \"text\": \"Lee Yoo-Hyung\\\\n\\\\nLee Yoo-Hyung (January 21, 1911 - January 29, 2003) was a South Korean professional athlete. He is best known as an association football player. He was a member of the Japanese national team in 1940.\\\\n\\\\n\", \"url\": \"https://simple.wikipedia.org/wiki?curid=329106\", \"id\": \"329106\"}',\n",
       " '{\"title\": \"List of counties in Arizona\", \"text\": \"List of counties in Arizona\\\\n\\\\n<onlyinclude>\\\\nThere are 15 counties in the U.S. state of Arizona. Four counties (Mohave, Pima, Yavapai and Yuma) were formed in 1864 in the Arizona Territory in 1862. All but La Paz County were formed by the time Arizona became a State in 1912.</onlyinclude> There is also one county, Pah-Ute County, Arizona that was formed in 1865 from Mohave County and returned in 1871. \\\\n\\\\nThe names of many of the counties honor the state\\'s Native American past. Nine of the fifteen counties are named after native groups that live in parts of what is now Arizona. Three of the other counties have Spanish names from the language of the early Hispanic explorers of Arizona. Another county, Graham County, is named for a physical feature, Mount Graham. Greenlee County is named after one of the state\\'s early pioneers. \\\\n\\\\nArizona\\'s United States postal abbreviations is AZ and its FIPS code is 04.\\\\n<onlyinclude>\\\\n\\\\n</includeonly></onlyinclude>\\\\n\", \"url\": \"https://simple.wikipedia.org/wiki?curid=333402\", \"id\": \"333402\"}',\n",
       " '{\"title\": \"Tepelenë District\", \"text\": \"Tepelenë District\\\\n\\\\nThe District of Tepelenë is one of the thirty-six districts of Albania. It is part of Gjirokastër County. There are 23,800 people. The capital is Tepelenë. \\\\n\", \"url\": \"https://simple.wikipedia.org/wiki?curid=339987\", \"id\": \"339987\"}',\n",
       " '{\"title\": \"Rangpur, Bangladesh\", \"text\": \"Rangpur, Bangladesh\\\\n\\\\nRangpur is one of the major cities in Bangladesh. Rangpur is the centre of northwestern Bangladesh. Rangpur used to be the headquarter of \\\\\"Greater Rangpur\\\\\" district. Later the Greater Rangpur district was broken down into Rangpur, Kurigram, Nilphamari, Lalmonirhat and Gaibandha districts. A public university \\\\\"Begum Rokeya University, Rangpur\\\\\" was recently started in the southern part of the city. \\\\n\\\\n\\\\nMajor schools in the city include:\\\\n\\\\n\\\\n\", \"url\": \"https://simple.wikipedia.org/wiki?curid=345577\", \"id\": \"345577\"}',\n",
       " '{\"title\": \"Martlesham\", \"text\": \"Martlesham\\\\n\\\\nMartlesham is a village and civil parish in Suffolk Coastal, Suffolk, England. In 2001, there were 5501 people living in Martlesham.\\\\n\", \"url\": \"https://simple.wikipedia.org/wiki?curid=351875\", \"id\": \"351875\"}',\n",
       " '{\"title\": \"Orchid (color)\", \"text\": \"Orchid (color)\\\\n\\\\nOrchid is a bright rich purple color that resembles the color of some orchids. \\\\n\\\\nVarious tones of \\\\\"orchid\\\\\" may range from grayish purple to purplish-pink to strong reddish purple.\\\\n\\\\nThe first written use of \\\\\"orchid\\\\\" as a color name in English was in 1915.\\\\n\\\\nIn 1987, orchid was included as one of the X11 colors. After the invention of the world wide web in 1991, these became known as the X11 web colors.\\\\n\\\\nThe name comes from the flowers of some species of the vast orchid family (Orchidaceae), such as \\\\\"Laelia furfuracea\\\\\" and \\\\\"Ascocentrum pusillum\\\\\", which have petals of this color.\\\\n\\\\nThe word \\\\\"Orchid\\\\\" derives from the Greek word \\\\\"orchis\\\\\" which means testicle, after the appearance of the roots of plants of the genus \\\\\"Orchis\\\\\".\\\\n\\\\n\", \"url\": \"https://simple.wikipedia.org/wiki?curid=353031\", \"id\": \"353031\"}',\n",
       " '{\"title\": \"When Harry Met Sally\", \"text\": \"When Harry Met Sally\\\\n\\\\nWhen Harry Met Sally is a 1989 American romantic comedy movie. It was written by Nora Ephron and directed by Rob Reiner. It stars Billy Crystal as Harry and Meg Ryan as Sally. They are friends in Chicago who, from 1977 to 1989, become a couple. The movie is about relationship problems. It received positive reviews by movie critics and its revenue at the box office was high.\\\\n\", \"url\": \"https://simple.wikipedia.org/wiki?curid=356819\", \"id\": \"356819\"}',\n",
       " '{\"title\": \"Lance LeGault\", \"text\": \"Lance LeGault\\\\n\\\\nLance LeGault (William Lance Legault, May 2, 1935 – September 10, 2012) was an American movie, television, and voice actor. He was known for his many television roles, mostly in \\\\\"The A-Team\\\\\". He was born in Chicago, Illinois. He was married to Theresa LeGault from 1984 until his death in 2012. They had four children. He died on September 10, 2012 in his home in Los Angeles, California from unknown causes. He was 77 years old.\\\\n\\\\n\", \"url\": \"https://simple.wikipedia.org/wiki?curid=361551\", \"id\": \"361551\"}',\n",
       " '{\"title\": \"Scatman Crothers\", \"text\": \"Scatman Crothers\\\\n\\\\nBenjamin Sherman \\\\\"Scatman\\\\\" Crothers (May 23, 1910 – November 22, 1986) was an American actor, singer, dancer and musician. He did many forms of acting including movies, television, stage, radio and voice acting. Crother was known for the voice role of the character Hong Kong Phooey in \\\\\"Hong Kong Phooey\\\\\". He won a Saturn Award.\\\\n\\\\nCrothers was born in Terre Haute, Indiana, but was raised in Dayton, Ohio. He was married to Helen Sullivan from 1937 until his death in 1986. Crothers died on November 22, 1986 in Van Nuys, California from pneumonia caused by his lung cancer. He was 76 years old.\\\\n\\\\n\", \"url\": \"https://simple.wikipedia.org/wiki?curid=362810\", \"id\": \"362810\"}',\n",
       " '{\"title\": \"Kajol\", \"text\": \"Kajol\\\\n\\\\nKajol Devgn (née Mukherjee) (born 5 August 1974), better known as Kajol is an Indian actress who appearing in Bollywood and Tamil movies. She has received six Filmfare Awards. In 2011, she was awarded the Padma Shri, India\\'s fourth-highest civilian award by the Government of India. \\\\n\\\\nKajol is half Maharashtrian and half Bengali. She was born to actress Tanuja and film director and producer, Soumya Mukherjee. Her younger sister, Tanisha Mukherjee is also an actress. Her cousins, Rani Mukherjee, Sharbani Mukherjee and Mohnish Behl are also Bollywood actors. \\\\nShe started her career at the age of seventeen. She started in her first movie in 1992 with the movie \\\\\"Bekhudi\\\\\" which failed to do well at the box office although this didn\\'t affect her career. A year later in 1993, she was paired with Shahrukh Khan for the movie \\\\\"Baazigar\\\\\" which was a box office hit. Since then, she has done many hit movies which included \\\\\"Dilwale Dulhania Le Jayenge\\\\\", \\\\\"Karan Arjun\\\\\", \\\\\"Ishq\\\\\", \\\\\"Gupt\\\\\", \\\\\"Pyaar Kiya To Darna Kya\\\\\", \\\\\"Kuch Kuch Hota Hai\\\\\", \\\\\"Hum Aapke Dil Mein Rehte Hain\\\\\", \\\\\"Kabhi Khushi Kabhie Gham\\\\\", \\\\\"Fanaa\\\\\", \\\\\"My Name Is Khan\\\\\".\\\\n\\\\nShe is married to fellow actor, Ajay Devgn. They have a daughter. \\\\n\\\\n\\\\n\", \"url\": \"https://simple.wikipedia.org/wiki?curid=363772\", \"id\": \"363772\"}',\n",
       " '{\"title\": \"Anangu Pitjantjatjara Yankunytjatjara\", \"text\": \"Anangu Pitjantjatjara Yankunytjatjara\\\\n\\\\nAṉangu Pitjantjatjara Yankunytjatjara (APY) is a large area of Aboriginal land in the north west corner of South Australia. It belongs to the Pitjantjatjara, Yankunytjatjara and Ngaanyatjarra peoples (or Aṉangu). Native title was granted by the government of David Tonkin on 30 October 1981. The land covers about , about 10.4% of the state. It is one of the 74 local government areas of South Australia.\\\\n\\\\nThe APY lands are arid and very remote. It is mostly flat, except for the Everard Ranges in the east and Musgrave Ranges along the border with the Northern Territory. There are about 2500 people living on the lands.\\\\n\\\\nThe area covered by APY represents the southern portion of the Pitjantjatjara and Yankunytjatjara homelands; the northern portion is in the Northern Territory, surrounding Uluṟu-Kata Tjuṯa National Park. In 1921, the western half of what is now the APY lands was made into the North-West Aboriginal Reserve. This was alongside another reserve across the border in the Northern Territory, called the Petermann Reserve. Both reserves were intended to form a temporary refuge (safe place) for Aboriginal people. The government said they could continue their nomadic lifestyle there until they could be assimilated into modern society. The eastern half of what is now the APY lands was part of the Woomera Test Range during the 1950s and 1960s. The boundary of the range was later moved further south, and the land was then leased to cattle farmers.\\\\n\\\\nIn 1966, South Australia passed the Aboriginal Lands Trust Act. It was the first piece of legislation (law) in Australia to recognise Aboriginal land rights and allow for Aboriginal groups to be given land based on how they had lived there. No other state or territory would enact anything like it until 10 years later. In 1976, the Pitjantjatjara Council made an formal claim to the lands around the Musgrave Ranges. It was done on behalf of all Aṉangu with historical connections to the area. Premier Don Dunstan and his government proposed a bill to parliament in 1978, intending to grant the Pitjantjatjara rights to their land. However, opal miners strongly objected to the proposal. They had set up mining camps at Mintabie, within the area that would be given to the Aṉangu. The government changed after state elections in 1979. The new government of David Tonkin had years of negotiations with the Pitjantjatjara Council and the miners at Mintabie. A parliamentary committee produced a final decision on 2 March 1981. It said that the Mintabie area should be included in the grant of land, but be leased back to the government so that mining can continue there. The bill was approved by parliament on the same day.\\\\n\\\\nTonkin signed the Pitjantjatjara Land Rights Act on 2 October 1981, putting the bill into effect. The freehold title to the land was given to the Pitjantjatjara, Yankunytjatjara and Ngaanyatjarra peoples, who formed a council as the local government. The grant included the former leasehold areas in the eastern portion: Everard Park, Kenmore Park and Granite Downs. A portion of the southeast of the APY lands (about ) still overlaps with the Woomera Test Range.\\\\n\\\\nThe lease for Mintabie lasted for 21 years, expiring in 2002. New legislation in 2009 allowed for another lease, which was signed in April 2012.\\\\n\\\\nThe APY is one of 74 local government areas of South Australia. It includes a number of settlement communities, as well as over 50 family outstations (referred to as \\\\\"homelands\\\\\"). Most of the settlements are located in the far north. The administrative centre for the APY is Umuwa. The four largest towns, as recorded in the 2006 census are Iwantja (339 people), Pukatja (332), Amata (319) and Mimili (303). The only non-indigenous community is the opal-mining town of Mintabie (250 people). The other settlement communities are: Kaltjiti, Watarru, Kanpi, Nyapari, Kalka, Pipalyatjara, Yunyarinyi and Watinuma.\\\\n\\\\nIn the 2006 census, there were 2,230 people living on the APY Lands. About 84.5% of them were Indigenous Australians. Over half (58.6%) of residents listed Pitjantjatjara as the language spoken at home; 14.3% listed Yankunytjatjara; and 18.7% gave English as their spoken language.\\\\n\\\\nThere has not been much economic development, except for tourism. There have been proposals to mine in the area. The Musgrave Ranges is estimated to contain rich mineral and petroleum deposits. The APY government has not allowed mining so far, because it is concerned about the social impacts it may have, and the possible impacts on sacred sites and the environment.\\\\n\\\\nTwo major issues throughout the APY Lands are the low standard of health care (compared to the rest of Australia) and drug abuse (usually alcohol, petrol sniffing, cannabis and, more recently, other illegal drugs). The fact that the indigenous area crosses over three jurisdictions (South Australia, Western Australia and the Northern Territory) has made enforcing drug-trafficking laws difficult. An inquiry into child sexual abuse on the APY Lands was done by a retired Supreme Court judge. It was completed in 2008, and found that this had been a widespread problem in several of the APY communities for many years.\\\\n\\\\nIn early August 2007, the South Australian government announced a A$34 million plan to \\\\\"improve well-being of Aboriginal people\\\\\" in the APY Lands. $25m will be spent on improving housing and most of the remaining $8m on law enforcement in Amata and Pukatja.\\\\n\\\\n\", \"url\": \"https://simple.wikipedia.org/wiki?curid=367750\", \"id\": \"367750\"}',\n",
       " '{\"title\": \"Patricia Wettig\", \"text\": \"Patricia Wettig\\\\n\\\\nPatricia Wettig (born December 4, 1951 in Cincinnati, Ohio) is an television performer and playwright. She starred in the series \\\\\"Thirtysomething\\\\\". She was also in a few movies.\\\\n\", \"url\": \"https://simple.wikipedia.org/wiki?curid=375646\", \"id\": \"375646\"}',\n",
       " '{\"title\": \"Ignosticism\", \"text\": \"Ignosticism\\\\n\\\\nIgnosticism is the belief that people should avoid taking a position on the existence of God until the concept of God is defined.\\\\nIgnostics claims that the word \\\\\"God\\\\\" is meaningless until it is defined. Until one defines \\\\\"God\\\\\" they might as well be saying \\\\\"Fob\\\\\".\\\\n\\\\nThis also means that until you are debating a definition of God that is able to be proven false, you might as well be debating about the word \\\\\"Fob\\\\\".\\\\nIt is sometimes considered synonymous with theological noncognitivism.\\\\n\", \"url\": \"https://simple.wikipedia.org/wiki?curid=379441\", \"id\": \"379441\"}',\n",
       " '{\"title\": \"Saint-Bris-le-Vineux\", \"text\": \"Saint-Bris-le-Vineux\\\\n\\\\nSaint-Bris-le-Vineux is a commune. It is found in the Yonne department in the center of France.\\\\n\\\\n\", \"url\": \"https://simple.wikipedia.org/wiki?curid=381703\", \"id\": \"381703\"}',\n",
       " '{\"title\": \"San Pedro Sula\", \"text\": \"San Pedro Sula\\\\n\\\\nSan Pedro Sula is a city in Honduras. With 873,824 people in the main municipality, and 1,245,598 in its metro area (2010), it is the second largest city, after the capital Tegucigalpa. It is considered the industrial center of Honduras. It is the capital of the Cortés Department.\\\\n\", \"url\": \"https://simple.wikipedia.org/wiki?curid=387959\", \"id\": \"387959\"}',\n",
       " '{\"title\": \"Songs Without Words (Mendelssohn)\", \"text\": \"Songs Without Words (Mendelssohn)\\\\n\\\\nSongs Without Words is a collection of short piano pieces by Felix Mendelssohn. The collection was published in eight books of six \\\\\"songs\\\\\" each between 1829 and 1845. These pieces are suitable for amateur pianists of varying abilities. A few were given titles by Mendelssohn and his publishers: \\\\\"Venetian Boat Song\\\\\", \\\\\"Duetto\\\\\", \\\\\"Folk Song\\\\\", \\\\\"Spring Song\\\\\", \\\\\"Hunting Song\\\\\", etc.\\\\n\\\\n\", \"url\": \"https://simple.wikipedia.org/wiki?curid=388001\", \"id\": \"388001\"}',\n",
       " '{\"title\": \"Sankt Georgen Graduate School of Philosophy and Theology\", \"text\": \"Sankt Georgen Graduate School of Philosophy and Theology\\\\n\\\\nThe Sankt Georgen Graduate School of Philosophy and Theology (German: \\\\\"Philosophisch-Theologische Hochschule Sankt Georgen\\\\\") is an academic seminary in Frankfurt am Main, Germany.\\\\n\\\\nThe school was founded in 1926 by the Society of Jesus.\\\\n\\\\nSank Georgen established a Jesuit theology program in 1951. \\\\n\\\\nIn 1986, Pope Francis he began work on a doctorate degree at Sankt Georgen.\\\\n\\\\n\", \"url\": \"https://simple.wikipedia.org/wiki?curid=389805\", \"id\": \"389805\"}',\n",
       " '{\"title\": \"Barbara Blida\", \"text\": \"Barbara Blida\\\\n\\\\nBarbara Maria Blida, née Szwajnoch (December 3, 1949 - April 25, 2007) was a Polish politician. She was in the Parliament of Poland from 1989 until 2005. At one time, she was a member of the Cabinet. She joined the Polish United Workers\\' Party (the Communist Party representing Poland since World War II). Blida shot herself in the heart in the bathroom of her own house. She later died, age fifty-seven.\\\\n\", \"url\": \"https://simple.wikipedia.org/wiki?curid=391779\", \"id\": \"391779\"}',\n",
       " '{\"title\": \"Cesar Carlavilla Cubillo\", \"text\": \"Cesar Carlavilla Cubillo\\\\n\\\\nCesar Carlavilla Cubillo (born March 9, 1977 in Madrid) is a track and field athlete from Spain. He has a disability: he cannot see. He is B2/T12 type athlete. He raced at the 1996 Summer Paralympics. He finished second in the 1500 metre race. He raced at the 2000 Summer Paralympics in Sydney, Australia. He finished first in the 800 metre race and the 1500 metre race. He finished second in the 4 X 400 metre T11 - T13 race. \\\\n\", \"url\": \"https://simple.wikipedia.org/wiki?curid=399058\", \"id\": \"399058\"}',\n",
       " '{\"title\": \"MacKinlay Kantor\", \"text\": \"MacKinlay Kantor\\\\n\\\\nBenjamin McKinlay Kantor (February 4, 1904 – October 11, 1977) was an American journalist and novelist. He received the Pulitzer Prize for Fiction in 1956. He wrote over 30 novels. Several of them were set in the American Civil War.\\\\n\\\\nKantor was born in Webster City, Iowa. He died from a heart attack at seventy-three in Sarasota, Florida.\\\\n\", \"url\": \"https://simple.wikipedia.org/wiki?curid=408035\", \"id\": \"408035\"}',\n",
       " '{\"title\": \"Kay Walsh\", \"text\": \"Kay Walsh\\\\n\\\\nKathleen Walsh (or Kay Walsh; August 27, 1911 – April 16, 2005) was an English actress and dancer. She started in West End music halls. Her first movie role was in 1934 in \\\\\"How\\'s Chances?\\\\\". She had a larger role in \\\\\"Get Your Man\\\\\", also in 1934. She later moved to higher-prestige movies, including \\\\\"In Which We Serve\\\\\" and \\\\\"This Happy Breed\\\\\".\\\\n\\\\nWalsh was born in London, England. She died resulting from an accident at 93.\\\\n\", \"url\": \"https://simple.wikipedia.org/wiki?curid=408161\", \"id\": \"408161\"}',\n",
       " '{\"title\": \"Valente Rodriguez\", \"text\": \"Valente Rodriguez\\\\n\\\\nValente Rodriguez (born February 14, 1964 in Edcouch, Texas) is an American actor. He is best known for his role as Ernesto \\\\\"Ernie\\\\\" Cardenas on the sitcom \\\\\"George Lopez\\\\\". He currently stars as Cesar in the TV Land sitcom \\\\\"Happily Divorced\\\\\".\\\\n\\\\n\", \"url\": \"https://simple.wikipedia.org/wiki?curid=410963\", \"id\": \"410963\"}',\n",
       " '{\"title\": \"Hässleholm Municipality\", \"text\": \"Hässleholm Municipality\\\\n\\\\nHässleholm Municipality () is a municipality in Skåne County in southern Sweden. The seat is in Hässleholm.\\\\n\\\\n\", \"url\": \"https://simple.wikipedia.org/wiki?curid=411770\", \"id\": \"411770\"}',\n",
       " '{\"title\": \"Hatfield, Herefordshire\", \"text\": \"Hatfield, Herefordshire\\\\n\\\\nHatfield is a small village near Leominster in Herefordshire. In the village is a caravan site called Fair View caravan site. It has a small church called Hatfield St. Leonard, built \\u20091066. It is of Norman design. It is built of local sandstone. Other nearby and towns include Bockleton, Bromyard and Leominister. The city of Hereford is south of Hatfield. The Herefordshire Trail (walking trail) runs through the village.\\\\n\", \"url\": \"https://simple.wikipedia.org/wiki?curid=425778\", \"id\": \"425778\"}',\n",
       " '{\"title\": \"Jan Hoet\", \"text\": \"Jan Hoet\\\\n\\\\nJan Hoet (23 June 1936 – 27 February 2014) was a Belgian art critic and curator. He was the founder of Stedelijk Museum voor Actuele Kunst (SMAK; ).\\\\n\\\\nHe was born in Leuven. On 17 June 2012, he collapsed at the airport in Hamburg, Germany after having a heart attack. On 23 June 2012, Hoet suffered from hypercapnia and he was being held in a coma at the hospital of Soltau, Germany. He soon returned to Ghent.\\\\n\\\\nHoet suffered a second heart attack in January 2014. He died at a hospital in Ghent on February 27, 2014. He was aged 77.\\\\n\\\\n\", \"url\": \"https://simple.wikipedia.org/wiki?curid=440397\", \"id\": \"440397\"}',\n",
       " '{\"title\": \"M. Karunanidhi\", \"text\": \"M. Karunanidhi\\\\n\\\\nMuthuvel Karunanidhi (born Dakshinamurthy; 3 June 1924 – 7 August 2018) was an Indian politician. He has served as the Chief Minister of Tamil Nadu five different times. He is the head of the Dravida Munnetra Kazhagam (DMK), a Dravidian political party in the state of Tamil Nadu. He has been the leader of the DMK since the death of its founder, C. N. Annadurai, in 1969.\\\\n\\\\nKarunanidhi was born in Thirukuvalai, Tiruvarur, British India. He was an atheist. Karunanidhi died in Chennai at a hospital from multiple organ failure on 7 August 2018, aged 94.\\\\n\\\\n\", \"url\": \"https://simple.wikipedia.org/wiki?curid=441017\", \"id\": \"441017\"}',\n",
       " '{\"title\": \"Régine Deforges\", \"text\": \"Régine Deforges\\\\n\\\\nRégine Deforges (15 August 1935 – 3 April 2014) was a French writer, editor, director and playwright. Her best known works for \\\\\"Le Cahier volé\\\\\" (1978), \\\\\"La Bicyclette bleue\\\\\" (1981), \\\\\"101, avenue Henri-Martin\\\\\" (1983), \\\\\"Le Diable en rit encore\\\\\" (1985) and \\\\\"Noir tango\\\\\" (1991). She was born in Montmorillon, Vienne.\\\\n\\\\nDeforges died from a heart attack on 3 April 2014 in Paris. She was 78 years old.\\\\n\\\\n\", \"url\": \"https://simple.wikipedia.org/wiki?curid=445617\", \"id\": \"445617\"}',\n",
       " '{\"title\": \"Gladwin, Michigan\", \"text\": \"Gladwin, Michigan\\\\n\\\\nGladwin is a city in Gladwin County, Michigan. It has the population of 2,933 residents.\\\\n\", \"url\": \"https://simple.wikipedia.org/wiki?curid=447121\", \"id\": \"447121\"}',\n",
       " '{\"title\": \"Crown Royal\", \"text\": \"Crown Royal\\\\n\\\\nCrown Royal is a Canadian whisky. It is owned by Diageo after it was purchased when the Seagram portfolio was dissolved in 2000. Crown Royal is 40% alcohol by volume, 80 proof. It is the top-selling Canadian whisky in the United States.\\\\n\\\\n\", \"url\": \"https://simple.wikipedia.org/wiki?curid=447916\", \"id\": \"447916\"}',\n",
       " '{\"title\": \"The Internship\", \"text\": \"The Internship\\\\n\\\\nThe Internship is a 2013 American comedy movie. The movie is about two interns at Google. Vince Vaughn plays Billy McMahon. Owen Wilson plays Nick Campbell.\\\\n\\\\nThe reviews were mixed to negative. The movie was released in June 2013.\\\\n\", \"url\": \"https://simple.wikipedia.org/wiki?curid=450822\", \"id\": \"450822\"}',\n",
       " '{\"title\": \"Epping Forest (district)\", \"text\": \"Epping Forest (district)\\\\n\\\\nEpping Forest district is a district of Essex, bordering Greater London. Much of the district is covered with the forest of the same name. The district was formed on 1 April 1974. Much of the district has a rural appearance. In the south, at the border of Greater London it is more suburban. The biggest town in the district, Loughton, lies in this area. Chipping Ongar is a small market town a bit more to the north. The administration is in Epping, which is roughly in the centre of the district. The rest of the district is dominated by villages.\\\\n\\\\nAbout 130,000 people live in the borough. The M25 and M11 go through it.\\\\n\", \"url\": \"https://simple.wikipedia.org/wiki?curid=452440\", \"id\": \"452440\"}',\n",
       " '{\"title\": \"Gender selection\", \"text\": \"Gender selection\\\\n\\\\nGender selection (or sex selection) is the attempt to control the gender of human offspring. It can be done either before or after the fertilisation of the egg. It has been promoted by the term family balancing. In certain countries, particularly China, Nepal and India, sons are often preferred to daughters. In the United States, slightly more Americans preferred boys to girls. \\\\n\\\\nThe methods used for gender selection are of two main types. One occurs before fertilisation by making sure there are more sperms with a Y chromosome (which produce a male). The other acts after fertilisation by selecting only male embryos to develop.\\\\n\\\\nThe Ericsson method uses the extra weight of sperms carrying the X chromosome. They swim slower than the lighter sperms with the Y chromosome. This test tube method increases the chance of having a boy from just over 50% to just over 70%. The method is called \\'sperm sorting\\'.\\\\n\\\\nThe \\\\\"in-vitro\\\\\" fertilisation uses ovarian stimulation to cause the mother to produce a number of eggs. The eggs are fertilised in the laboratory by the father\\'s sperm. Then the sex of embryos is discovered by taking a single cell from the ball of cells which has divided after fertilisation. One or more male embryos are then implanted in the mother\\'s womb so they will develop.\\\\n\\\\nProbably the most common method uses selective abortion. The sex of an embryo can be found by amniocentesis: cells are taken from the fluid surrounding the embryo. This is regularly done to identify genetic defects in the embryo. The procedure gives the information about sex early enough for abortion to be a safe practice.\\\\n\\\\nSex selection has only recently become available. Sex selections are legal in most of the world. It is practiced mostly in Western countries, though more limited for Eastern countries, such as China and India. There is fertility tourism from the United Kingdom or Canada. That’s because preimplantation genetic diagnosis (a potential expansion of in-vitro fertilization that can be used for gender selection) is not allowed in Canada or the United Kingdom.\\\\n\\\\n\", \"url\": \"https://simple.wikipedia.org/wiki?curid=453031\", \"id\": \"453031\"}',\n",
       " '{\"title\": \"Barbara Jefford\", \"text\": \"Barbara Jefford\\\\n\\\\nBarbara Jefford, OBE (born 26 July 1930) is a British Shakespearean actress. She is best known for her roles on stage with the Royal Shakespeare Company, the Old Vic and the National Theatre. Internationally she was known for her role as Molly Bloom in the 1967 movie of James Joyce\\'s \\\\\"Ulysses\\\\\".\\\\n\\\\n\", \"url\": \"https://simple.wikipedia.org/wiki?curid=460162\", \"id\": \"460162\"}',\n",
       " '{\"title\": \"Roberto Cairo\", \"text\": \"Roberto Cairo\\\\n\\\\nRoberto Andrés Cairo Pablo (3 May 1963 – 28 August 2014) was a Spanish actor from Madrid. He appeared in many different television series and movies as a supporting actor. He was best known for his role as Desiderio \\\\\"Desi\\\\\" Quijo in the series \\\\\"Cuéntame cómo pasó\\\\\".\\\\n\\\\nCairo died from lung cancer on 28 August 2014 in Madrid. He was 51.\\\\n\\\\n\", \"url\": \"https://simple.wikipedia.org/wiki?curid=461477\", \"id\": \"461477\"}',\n",
       " '{\"title\": \"Bobby Fong\", \"text\": \"Bobby Fong\\\\n\\\\nBobby Fong (1950 – September 8, 2014) was an American academic and educator. He was the 20th President of Butler University in Indianapolis, Indiana from June 1, 2001 until 2011. He was later the 15th President of Ursinus College in Collegeville, Pennsylvania from July 1, 2011 until his death.\\\\n\\\\nFong was born in Oakland, California. His parents were Chinese immigrants. He graduated from Harvard University with a degree in English. He was married to Suzanne Fong.\\\\n\\\\nFong died from an aneurysm on September 8, 2014 in Collegeville, Pennsylvania, aged 64.\\\\n\\\\n\", \"url\": \"https://simple.wikipedia.org/wiki?curid=462267\", \"id\": \"462267\"}',\n",
       " '{\"title\": \"Jessica Lowndes\", \"text\": \"Jessica Lowndes\\\\n\\\\nJessica Lowndes (born November 8, 1988) is a Canadian actress. She acts in both movies and television. She played Laurel in \\\\\"The Haunting of Molly Hartley\\\\\". She also played Tamara in \\\\\"The Devil\\'s Carnival\\\\\". She is also a musician and singer-songwriter\\\\n\\\\nShe was born in Vancouver, British Columbia.\\\\n\", \"url\": \"https://simple.wikipedia.org/wiki?curid=468247\", \"id\": \"468247\"}',\n",
       " '{\"title\": \"Huppy\", \"text\": \"Huppy\\\\n\\\\nHuppy is a commune. It is in the Picardie region in the Somme department in the north of France. In 2012, 818 people lived there.\\\\n\", \"url\": \"https://simple.wikipedia.org/wiki?curid=470575\", \"id\": \"470575\"}',\n",
       " '{\"title\": \"Mini Metro (video game)\", \"text\": \"Mini Metro (video game)\\\\n\\\\nMini Metro is a strategy simulation video game. It is about creating an efficient subway system for a rapidly growing city.\\\\n\\\\nIn this game, the player designs a subway station. The object is to get the people to their requested station. The game ends when the station becomes overpopulated. The game is simple at first. Over time, it becomes more complicated and challenging. The point of the game is to run the simulation as long as possible.\\\\n\\\\n\\\\\"Mini Metro\\\\\" has a very modern layout. The subway cars are simply moving rectangles, the rails are simply lines, and the tunnels are dotted lines.\\\\n\\\\n\\\\\"Mini Metro\\\\\"\\'s stations each are a different shape.\\\\n\\\\nCommon Stations:\\\\n\\\\n\\\\\"Unique\\\\\" Stations:\\\\n\\\\nOnly one of each Unique station can appear each game.\\\\n\\\\n\", \"url\": \"https://simple.wikipedia.org/wiki?curid=473895\", \"id\": \"473895\"}',\n",
       " '{\"title\": \"Autoimmunity\", \"text\": \"Autoimmunity\\\\n\\\\nAutoimunity is immune reaction against self components, which are recognized as antigens. This reaction can produce severe inflammation or can be innocuous, as when directed to intracellular autoantigens, which are not expressed to circulating antibodies or to the lymphocytes.\\\\n\\\\nAutoimunity can develop spontaneously or can be induced experimentally by immunization with autoantigens or antigensd croos-reactive with autoantigens. Autoimunity reactions cause numerous autoimmune diseases and disorders.\\\\n\\\\n\\\\n\", \"url\": \"https://simple.wikipedia.org/wiki?curid=474301\", \"id\": \"474301\"}',\n",
       " '{\"title\": \"Arrondissement of Autun\", \"text\": \"Arrondissement of Autun\\\\n\\\\nThe arrondissement of Autun is an arrondissement of France. It is part of the Saône-et-Loire \\\\\"département\\\\\" in the Bourgogne-Franche-Comté region. Its capital is the city of Autun.\\\\n\\\\nWhen the Saône-et-Loire department was created on 17 February 1800, the \\\\\"arrondissement\\\\\" of Autun was part of that original department.\\\\n\\\\nThe \\\\\"arrondissement\\\\\" of Autun is bordered to the north by the Côte-d\\'Or department, to the east by the \\\\\"arrondissement\\\\\" of Chalon-sur-Saône, to the south by the \\\\\"arrondissement\\\\\" of Charolles and to the west by the Nièvre department.\\\\n\\\\nIt is the northernmost of the \\\\\"arrondissements\\\\\" of the department, with an area of , the second largest in area of the department. It has 86,693 inhabitants and a population density of inhabitants/km².\\\\n\\\\nAfter the reorganisation of the cantons in France, cantons are not subdivisions of the \\\\\"arrondissements\\\\\" so they could have \\\\\"communes\\\\\" that belong to different \\\\\"arrondissements\\\\\".\\\\n\\\\nThe cantons of the arrondissement of Autun are:\\\\nThe \\\\\"arrondissement\\\\\" of Autun has 83 \\\\\"communes\\\\\"; they are (with their INSEE codes):\\\\n\\\\nThe \\\\\"communes\\\\\" with more inhabitants in the \\\\\"arrondissement\\\\\" are:\\\\n\\\\n\", \"url\": \"https://simple.wikipedia.org/wiki?curid=478335\", \"id\": \"478335\"}',\n",
       " '{\"title\": \"Forced labor\", \"text\": \"Forced labor\\\\n\\\\nForced labor includes all forms of slavery, and related practices including debt slavery, serfdom, human trafficking and labor camps. It is any work or service a person is forced to do against their will. It usually includes a threat of some form of punishment. The International Labour Organization had defined Forced labor as \\\\\"all work or service which is exacted from any person under the menace of any penalty and for which the said person has not offered himself voluntarily.\\\\\" This was in the Forced Labour Convention, 1930 (No. 29). Exceptions included work done while serving in a military organization, community service when the work serves the community, and anyone convicted and serving a prison sentence. Convict labor must be supervised by public officials. The convention does not allow convicts to be under the supervision of private individuals, companies or organizations.\\\\n\\\\nThere are over 29 million people living as slaves today. There are an estimated 60,000 slaves living in the United States. This includes prostitutes and sex workers, illegal immigrants and those held in debt bondage.\\\\n\\\\n<br>\\\\n\", \"url\": \"https://simple.wikipedia.org/wiki?curid=510788\", \"id\": \"510788\"}',\n",
       " '{\"title\": \"Sammy Ellis\", \"text\": \"Sammy Ellis\\\\n\\\\nSamuel Joseph Ellis (February 11, 1941 – May 13, 2016) was an American professional baseball pitcher. He played in Major League Baseball (MLB) for the Cincinnati Reds (1962 – 1967), California Angels (1968), and Chicago White Sox (1969). He was born in Youngstown, Ohio. His career began in the early 1960s. He retired in 1970. \\\\n\\\\nEllis was an MLB All-Star in 1965.\\\\n\\\\nEllis died of cancer at his home in Temple Terrace, Florida on May 13, 2016, aged 75.\\\\n\\\\n\", \"url\": \"https://simple.wikipedia.org/wiki?curid=542690\", \"id\": \"542690\"}',\n",
       " '{\"title\": \"Barra do Bugres\", \"text\": \"Barra do Bugres\\\\n\\\\nBarra do Bugres is a city in Brazil, with about 30,000 people. It is located in the state of Mato Grosso Do Sul. It is located at the confluence of the Paraguay River and the Bugres River. Local economy is focused on agriculture. The city is about from the state capital, Cuiabá.\\\\n\", \"url\": \"https://simple.wikipedia.org/wiki?curid=552976\", \"id\": \"552976\"}',\n",
       " '{\"title\": \"Steve Dillon\", \"text\": \"Steve Dillon\\\\n\\\\nSteve Dillon (22 March 1962 – 22 October 2016) was a British comic book artist. He was best known for his work with writer Garth Ennis on \\\\\"Hellblazer\\\\\", \\\\\"Preacher\\\\\" and \\\\\"The Punisher\\\\\". He began his career in the 1970s. He was born in London and grew up in Luton, Bedfordshire.\\\\n\\\\nDillon died of problems caused by appendicitis on 22 October 2016 in Manhattan, New York, United States. He was 54.\\\\n\\\\n\", \"url\": \"https://simple.wikipedia.org/wiki?curid=567821\", \"id\": \"567821\"}',\n",
       " '{\"title\": \"Windows on Windows\", \"text\": \"Windows on Windows\\\\n\\\\nWith computers, Windows on Windows (often shortened to WOW,) is a compatibility layer of x86 versions of the Microsoft Windows NT family of operating systems that allows many legacy 16-bit programs run that were made for Windows 3.x or before to run.\\\\n\\\\nWOW allows many 16-bit Windows programs to run without changes on newer 32-bit versions of Windows. This was made to give software developers time to make their software 32-bit while people moved from Windows 3.1x to Windows 95, so the OS can be upgraded to a newer version while running most, or all of, a customer\\'s 16-bit programs.\\\\n\\\\nWindows 9x operating systems, which were made on top of DOS, had both 16 and 32-bit systems, so if it kept those 16-bit parts, the OS could run 16-bit software without emulation. NT-based versions are very different in how they run, so they need a more sophisticated solution. There are two main techniques to let 16-bit programs run on 32-bit versions of Windows (with some limitations) called thunking and shimming.\\\\n\\\\nWOW \\\\\"thunks\\\\\" 16-bit instructions into 32-bit equivalents to permit 16-bit pointers, memory spaces, and address spaces.\\\\n\\\\n16-bit programs usually run in a single virtual DOS machine, sharing memory between them. However, they can be changed to run in a private, separate memory space, where every 16-bit process has a separate process. This can reduce system crashes by not letting programs interfere with others, but it can cause reduced 16-bit inter-process communication and can use more of your computer\\'s memory.\\\\n\\\\nWOW is a part of 32-bit editions of Windows NT. 64-bit versions of Windows (including Windows Server 2008 R2 and later where they only have 64-bit versions) can not run 16-bit software without using different emulation software (for example, DOSBox).\\\\n\\\\nWOWEXEC.EXE on Windows NT allows WoW to work. Windows-on-Windows can, using the WIN.COM file, emulate the Windows 3.x (for NTVDM), Windows 95 and Windows 98 kernels, which can run 16-bit DOS-powered Windows applications on Windows NT.\\\\n\\\\nProblems with applications running on newer operating systems, especially with long filenames, multiple user accounts, and least privilege, may prohibit some applications from working correctly. For example, they might incorrectly think that they can write files to any part of the file system, but NTFS file permissions exist and does not allow this in many system folders. When Microsoft was building Windows 95, they had to ensure old programs still worked with 8.3 filenames to allow old applications to keep working properly. Since Windows 95, there was a feature where both a long and short file name are kept, so older applications could still use the 8.3 filenames.\\\\n\\\\nPrograms that try to access hardware directly can\\'t do so. Old programs may also not work if they expect certain system configuration files from DOS and Windows 9x that are not used in Windows NT operating systems, so empty versions of files like AUTOEXEC.BAT and CONFIG.SYS exist even though Windows NT does not use them.\\\\n\\\\nMany shims exist in the application compatibility layer of later versions of Windows to capture and change API calls from old applications made with different assumptions about the operating system in mind.\\\\n\\\\n\\\\n\", \"url\": \"https://simple.wikipedia.org/wiki?curid=575822\", \"id\": \"575822\"}',\n",
       " '{\"title\": \"Anton Constandse\", \"text\": \"Anton Constandse\\\\n\\\\nAnton Levien Constandse (September 13, 1899 in Brouwershaven - March 23, 1985 in The Hague) was a Dutch journalist, writer, political activist, anarchist and atheist.\\\\n\\\\nConstandse studied Spanish at the University of Amsterdam.\\\\n\\\\nAlthough raised a Christian, he turned atheist.\\\\n\\\\nDuring World War II he was imprisoned in Buchenwald concentration camp, Gymnasium Beekvliet and Herzogenbusch concentration camp because of his anti-fascist and anti-nazi views.\\\\n\\\\nAfter the war he was editor at NRC Handelsblad. He wrote for De Groene Amsterdammer, Vrij Nederland, and various humanist, atheist and literary magazines. Furthermore, he spoke on the Dutch VPRO radio and lectured at the University of Amsterdam.\\\\n\\\\nConstandse was very negative about Christianity and later on also about Islam.\\\\n\\\\nHe wrote a lot of books and brochures about atheism and anarchism.\\\\n\\\\n\\\\n\", \"url\": \"https://simple.wikipedia.org/wiki?curid=578051\", \"id\": \"578051\"}',\n",
       " '{\"title\": \"Janelle Kirtley\", \"text\": \"Janelle Kirtley\\\\n\\\\nJanelle (Jane Ellen) Kirtley Godfrey (December 8, 1943 - April 28, 2017) was an American former World Champion water skier. She was born in Birmingham, Alabama. In 2001 she was recognized with the Award of Distinction from the Water Ski Hall of Fame, and she was inducted into the Alabama Sports Hall of Fame in 2009.\\\\n\\\\n\", \"url\": \"https://simple.wikipedia.org/wiki?curid=583253\", \"id\": \"583253\"}',\n",
       " '{\"title\": \"2007 French presidential election\", \"text\": \"2007 French presidential election\\\\n\\\\nThe 2007 French presidential election was a presidential election in France that took place on 21–22 April and 5–6 May 2007. The incumbent president, Jacques Chirac, decided not to run for a third term.\\\\n\\\\nThe main candidates were Arlette Laguiller from Lutte Ouvrière, Nicolas Sarkozy from the Union for a Popular Movement, Ségolène Royal from the Socialist Party, François Bayrou from the Union for French Democracy, Jean-Marie Le Pen from the National Front, Olivier Besancenot from the Revolutionary Communist League, Philippe de Villiers from the Movement for France, Marie-George Buffet from the French Communist Party, Dominique Voynet from the The Greens, José Bové, Frédéric Nihous from Hunting, Fishing, Nature, Tradition and Gérard Schivardi from the Workers\\' Party.\\\\n\\\\nOn 22 April 2007, Nicolas Sarkozy won 31.2% of the vote and Ségolène Royal winning 25.9% of the vote. Both candidates advanced to the second round of the election, which Nicolas Sarkozy later won with 53.1% of the vote.\\\\n\\\\n\", \"url\": \"https://simple.wikipedia.org/wiki?curid=583342\", \"id\": \"583342\"}',\n",
       " '{\"title\": \"Paul E. Patton\", \"text\": \"Paul E. Patton\\\\n\\\\nPaul Edward Patton (born May 26, 1937) is an American politician. He was the 59th Governor of Kentucky, serving from 1995 to 2003. He was the first governor eligible to succeed himself in office since James Garrard in 1800. Since 2013, he has been the chancellor of the University of Pikeville in Pikeville, Kentucky after serving as its president from 2010 to 2013. He also served as chairman of the Kentucky Council on Postsecondary Education from 2009 to 2011.\\\\n\", \"url\": \"https://simple.wikipedia.org/wiki?curid=589331\", \"id\": \"589331\"}',\n",
       " '{\"title\": \"Clarens, Switzerland\", \"text\": \"Clarens, Switzerland\\\\n\\\\nClarens is a village in the canton of Vaud in Switzerland. It is part of the municipality of Montreux.\\\\n\\\\nIt was made famous throughout Europe by the immense success of the book La Nouvelle Héloïse by Jean-Jacques Rousseau.\\\\n\\\\nWhilst in Clarens, the Russian composer Igor Stravinsky wrote his ballets \\\\\"The Rite of Spring\\\\\" and \\\\\"Pulcinella\\\\\" and in March 1878, Tchaikovsky wrote his \\\\\"Violin Concerto\\\\\".\\\\n\\\\nPaul Kruger, hero of South African independence from Britain, died here. For this reason, a village in South Africa was given the same name.\\\\n\\\\nThe anarchist and geographer Élisée Reclus resided in Clarens.\\\\n\\\\nWriter Vladimir Nabokov is buried there.\\\\n\\\\nThe 19th century writer, diplomat and MP David Urquhart of Braelangwell, who introduced the Turkish bath to Britain, is buried here.\\\\n\", \"url\": \"https://simple.wikipedia.org/wiki?curid=592830\", \"id\": \"592830\"}',\n",
       " '{\"title\": \"Al Shaheen Oil Field\", \"text\": \"Al Shaheen Oil Field\\\\n\\\\nThe Al Shaheen Oil Field is a production oil and gas field. It is located off the north east coast of Qatar in the Persian Gulf, north of Doha. The oil field lies over the North Gas Field, one of the largest gas fields in the world.\\\\n\\\\nIn 2008, the BD-04A well in the Al Shaheen Oil Field became the longest and deepest borehole in the world.\\\\n\", \"url\": \"https://simple.wikipedia.org/wiki?curid=592915\", \"id\": \"592915\"}',\n",
       " '{\"title\": \"Niels Henrik Abel\", \"text\": \"Niels Henrik Abel\\\\n\\\\nNiels Henrik Abel (5 August 1802 – 6 April 1829) was a Norwegian mathematician. He died in 1829.\\\\n\\\\nHe did the first complete proof demonstrating the impossibility of solving the general quintic equation in radicals.\\\\n\\\\nThe Abel Prize (\\\\\"Abel-prisen\\\\\") is named after him.\\\\n\\\\n\", \"url\": \"https://simple.wikipedia.org/wiki?curid=597476\", \"id\": \"597476\"}',\n",
       " '{\"title\": \"Sissach\", \"text\": \"Sissach\\\\n\\\\nSissach is the capital of the district of Sissach in the canton of Basel-Landschaft in Switzerland.\\\\n\\\\n\", \"url\": \"https://simple.wikipedia.org/wiki?curid=598183\", \"id\": \"598183\"}',\n",
       " '{\"title\": \"Sargans\", \"text\": \"Sargans\\\\n\\\\nSargans is a municipality in Sarganserland in the canton of St. Gallen in Switzerland. As of December 2016, 6,063 people lived there.\\\\n\\\\nSargans is known for its castle, which dates from before the founding of the Swiss Confederation in 1291.\\\\n\\\\n\", \"url\": \"https://simple.wikipedia.org/wiki?curid=609286\", \"id\": \"609286\"}',\n",
       " '{\"title\": \"Doug Jones\", \"text\": \"Doug Jones\\\\n\\\\nGordon Douglas Jones (born May 4, 1954) is an American attorney, prosecutor, and politician. Jones is the United States Senator of Alabama upon being elected on December 12, 2017 and sworn-in on January 3, 2018. Jones served as the United States Attorney for the Northern District of Alabama. \\\\n\\\\nAs a lawyer, Jones is known for prosecuting the remaining two Ku Klux Klan perpetrators of the 16th Street Baptist Church bombing which killed four African-American girls, along with leading an indictment against the Olympic Park Bomber. \\\\n\\\\nJones was the Democratic nominee in the U.S. Senate special election in Alabama against Republican nominee Roy Moore which was held on December 12, 2017. Jones was elected Senator with 49.6% of the vote to Moore\\'s 48.8% of the vote.\\\\n\\\\n\", \"url\": \"https://simple.wikipedia.org/wiki?curid=611502\", \"id\": \"611502\"}',\n",
       " '{\"title\": \"Zuoz\", \"text\": \"Zuoz\\\\n\\\\nZuoz is a municipality of the district Maloja in the canton of Graubünden in Switzerland.\\\\n\\\\nLyceum Alpinum Zuoz, a private school, is in Zuoz.\\\\n\\\\n\", \"url\": \"https://simple.wikipedia.org/wiki?curid=616412\", \"id\": \"616412\"}',\n",
       " '{\"title\": \"Nguyễn Thiện Nhân\", \"text\": \"Nguyễn Thiện Nhân\\\\n\\\\nNguyễn Thiện Nhân (born 12 June 1953) is the Secretary of Communist Party of Vietnam in Ho Chi Minh City from 10 May 2017. His previous post was Chairman of the Vietnamese Fatherland Front\\\\n\", \"url\": \"https://simple.wikipedia.org/wiki?curid=617162\", \"id\": \"617162\"}',\n",
       " '{\"title\": \"Nguyễn Thị Bình\", \"text\": \"Nguyễn Thị Bình\\\\n\\\\nNguyễn Thị Bình (born Nguyễn Châu Sa; 26 May 1927) is a Vietnamese communist leader. She negotiated at the Paris Peace Conference on behalf of the Viet Cong, or National Front for the Liberation of South Vietnam. She was born in Saigon.\\\\n\\\\nDuring the Vietnam War, she became a member of the Vietcong\\'s Central Committee and a vice-chairperson of the South Vietnamese Women\\'s Liberation Association.\\\\n\", \"url\": \"https://simple.wikipedia.org/wiki?curid=617189\", \"id\": \"617189\"}',\n",
       " '{\"title\": \"Edgardo Angara\", \"text\": \"Edgardo Angara\\\\n\\\\nEdgardo Javier Angara (September 24, 1934 – May 13, 2018) was a Filipino politician and lawyer. He served as the President of the Senate of the Philippines from 1993 to 1995. He was a Senator from 1987 to 1998 and then served as Secretary of Agriculture from 1999 to 2001. He served in the Senate again from 2001 to 2013. He ran for President of the Philippines in 1998.\\\\n\\\\nOn May 17, 2017, President Rodrigo Duterte appointed Angara as the special envoy of the Philippines to the European Union.\\\\n\\\\nAngara died on May 13, 2018 in Tagaytay, Philippines of a heart attack at the age of 83.\\\\n\\\\n\", \"url\": \"https://simple.wikipedia.org/wiki?curid=636455\", \"id\": \"636455\"}',\n",
       " '{\"title\": \"An-Nasai\", \"text\": \"An-Nasai\\\\n\\\\nAn-Nasai (214 – 303 AH; c. 829 – 915 CE) was a noted collector of hadith. He wrote one of the six canonical hadith collections recognized by Sunni Muslims, Sunan al-Sughra, or \\\\\"Al-Mujtaba\\\\\", which he selected from his \\\\\"As-Sunan al-Kubra\\\\\". He was a Persian by origin.\\\\n\", \"url\": \"https://simple.wikipedia.org/wiki?curid=636936\", \"id\": \"636936\"}',\n",
       " '{\"title\": \"The First Snow of Winter\", \"text\": \"The First Snow of Winter\\\\n\\\\nThe First Snow of Winter is an animated television movie, produced by Hibbert Ralph Entertainment and Link Entertainment. It first aired on the BBC on 25 December 1998.\\\\n\\\\n\\\\n\", \"url\": \"https://simple.wikipedia.org/wiki?curid=640405\", \"id\": \"640405\"}',\n",
       " '{\"title\": \"Belen, New Mexico\", \"text\": \"Belen, New Mexico\\\\n\\\\nBelen (; ) is the second most populous city in Valencia County, New Mexico, United States, after its county seat Los Lunas. The population was 7,152 in 2015 census data.\\\\n\\\\nBelen is Spanish for Bethlehem but gained the nickname \\\\\"The Hub City\\\\\".\\\\n\\\\nBelen is at the southern end of the Albuquerque. The city is located 35 miles south of Albuquerque.\\\\n\", \"url\": \"https://simple.wikipedia.org/wiki?curid=642871\", \"id\": \"642871\"}',\n",
       " '{\"title\": \"Alpha Cephei\", \"text\": \"Alpha Cephei\\\\n\\\\nAlpha Cephei, also known as Alderamin, is the brightest star in the Cepheus constellation. It is a blue star.\\\\n\", \"url\": \"https://simple.wikipedia.org/wiki?curid=646947\", \"id\": \"646947\"}',\n",
       " '{\"title\": \"Lawrence Gonzi\", \"text\": \"Lawrence Gonzi\\\\n\\\\nLawrence Gonzi {\\'4\\': \\\\\", \\'1\\': \\\\\", \\'3\\': \\'KUOM\\', \\'2\\': \\\\\"} (born 1 July 1953) is a Maltese politician. He served for twenty-five years in Maltese politics. Gonzi was Prime Minister of Malta from 2004 to 2013, and leader of the Nationalist Party. He also served as speaker of the House from 1988 to 1996, and Minister of Social Policy from 1998 to 2004, as well as Deputy Prime Minister from 1999 to 2004.\\\\n\", \"url\": \"https://simple.wikipedia.org/wiki?curid=647443\", \"id\": \"647443\"}',\n",
       " '{\"title\": \"George Chambers\", \"text\": \"George Chambers\\\\n\\\\nGeorge Michael Chambers ORTT (4 October 1928 – 4 November 1997) was the second Prime Minister of Trinidad and Tobago. He served as Assistant General Secretary of the PNM before becoming Parliamentary Secretary in the Ministry of Finance in 1966. From there he went on to serve as Minister of Finance, Public Utilities, Housing, National Security, Education, Planning, Industry/Commerce and Agriculture.\\\\n\\\\n\", \"url\": \"https://simple.wikipedia.org/wiki?curid=647541\", \"id\": \"647541\"}',\n",
       " '{\"title\": \"Veljko Bulajić\", \"text\": \"Veljko Bulajić\\\\n\\\\nVeljko Bulajić (born 22 March 1928) is a Croatian Montenegrin movie director.\\\\n\\\\nBulajić was a resistance fighter in World War II having joined the Yugoslav Partisans group at the age of 13. \\\\n\\\\nSome of his best known movies are \\\\\"Kozara\\\\\" and \\\\\"Battle of Neretva\\\\\". According to the Croatian Public Broadcasting Company, his movies have reached an audience of 500 million viewers worldwide. The top four most viewed Yugoslav films of all time were all directed by Bulajic.\\\\n\\\\n\", \"url\": \"https://simple.wikipedia.org/wiki?curid=648859\", \"id\": \"648859\"}',\n",
       " '{\"title\": \"Gary Beach\", \"text\": \"Gary Beach\\\\n\\\\nGary Beach (October 10, 1947 – July 17, 2018) was an American actor and singer. He was born in Alexandria, Virginia. Beach was best known for the role of Roger De Bris in both the stage and movie productions of \\\\\"The Producers\\\\\". He won a Tony Award for Best Performance by a Featured Actor in a Musical and Drama Desk Award in 2001.\\\\n\\\\nBeach died on July 17, 2018 in Palm Springs, California at the age of 70.\\\\n\\\\n\", \"url\": \"https://simple.wikipedia.org/wiki?curid=648862\", \"id\": \"648862\"}',\n",
       " '{\"title\": \"Tradate\", \"text\": \"Tradate\\\\n\\\\nTradate is a \\\\\"comune\\\\\" in northern Italy. Tradate is in the Lombardy Region. It has a population of 18,768 people.\\\\n\\\\nIt is from the city of Varese (the province\\'s capital).\\\\n\", \"url\": \"https://simple.wikipedia.org/wiki?curid=649641\", \"id\": \"649641\"}',\n",
       " '{\"title\": \"Alfredo del Águila\", \"text\": \"Alfredo del Águila\\\\n\\\\nAlfredo del Águila Estrella (3 January 1935 – 26 July 2018) was a Mexican football player. He was born in Mexico City.\\\\n\\\\nHe played for Mexico in the 1962 FIFA World Cup. He also played for Deportivo Toluca.\\\\n\\\\nDel Águila died on 26 July 2018 at the age of 83.\\\\n\", \"url\": \"https://simple.wikipedia.org/wiki?curid=649832\", \"id\": \"649832\"}',\n",
       " '{\"title\": \"Maierhöfen\", \"text\": \"Maierhöfen\\\\n\\\\nMaierhöfen is a municipality in the district of Lindau in Bavaria in Germany. It is in the Allgäu region.\\\\n\", \"url\": \"https://simple.wikipedia.org/wiki?curid=654453\", \"id\": \"654453\"}',\n",
       " '{\"title\": \"Upshur County, Texas\", \"text\": \"Upshur County, Texas\\\\n\\\\nUpshur County is a county in eastern Texas. In 2010, 39,309 people lived there. The county seat is Gilmer.\\\\n\", \"url\": \"https://simple.wikipedia.org/wiki?curid=660658\", \"id\": \"660658\"}',\n",
       " '{\"title\": \"Remember (2015 movie)\", \"text\": \"Remember (2015 movie)\\\\n\\\\nRemember is a Canadian-German 2015 drama-thriller movie directed by Atom Egoyan and written by Benjamin August. It stars Christopher Plummer, Bruno Ganz, Jürgen Prochnow, Heinz Lieven, Dean Norris and Martin Landau. The plot follows an elderly Holocaust survivor with dementia who sets out to kill a Nazi war criminal.\\\\n\\\\nIt was released on October 23, 2015 in Canada and on December 31, 2015 in Germany. The movie received positive reviews as they liked Plummer\\'s performance.\\\\n\", \"url\": \"https://simple.wikipedia.org/wiki?curid=666437\", \"id\": \"666437\"}',\n",
       " '{\"title\": \"John C. Bogle\", \"text\": \"John C. Bogle\\\\n\\\\nJohn Clifton \\\\\"Jack\\\\\" Bogle (May 8, 1929 – January 16, 2019) was an American investor, businessman, and philanthropist. He was the founder and chief executive of The Vanguard Group. He was born in Montclair, New Jersey. He was known for his 1999 book \\\\\"Common Sense on Mutual Funds: New Imperatives for the Intelligent Investor\\\\\".\\\\n\\\\nBogle died of esophageal cancer on January 16, 2019, at his home in Bryn Mawr, Pennsylvania, aged 89.\\\\n\\\\n\\\\n\", \"url\": \"https://simple.wikipedia.org/wiki?curid=676596\", \"id\": \"676596\"}',\n",
       " '{\"title\": \"Griggs County, North Dakota\", \"text\": \"Griggs County, North Dakota\\\\n\\\\nGriggs County is a county located in the U.S. state of North Dakota. As of the 2010 census, 2,420 people lived there. The county seat is Cooperstown.\\\\n\", \"url\": \"https://simple.wikipedia.org/wiki?curid=677823\", \"id\": \"677823\"}',\n",
       " '{\"title\": \"Tilly van der Zwaard\", \"text\": \"Tilly van der Zwaard\\\\n\\\\nTilly van der Zwaard (18 January 1938 – 6 February 2019) was a Dutch middle distance runner. She was born in Leiden, the Netherlands. She participated in the 1962 European Athletics Championships in Belgrade where she won a bronze medal in the 400 m event.\\\\n\\\\nVan der Zwaard twice represented her native country in the 400 m event at the Summer Olympics, in 1964 and 1968. Her best achievement was sixth place in 1964.\\\\nVan der Zwaard died in Edgewater, Florida on 6 February 2019 from complications of Alzheimer\\'s disease, aged 81.\\\\n\", \"url\": \"https://simple.wikipedia.org/wiki?curid=680532\", \"id\": \"680532\"}',\n",
       " '{\"title\": \"Mézières, Fribourg\", \"text\": \"Mézières, Fribourg\\\\n\\\\nMézières is a municipality of the district of Glâne in the canton of Fribourg in Switzerland. On 1 January 2004 the former municipality of Berlens merged into the municipality of Mézières.\\\\n\\\\n\", \"url\": \"https://simple.wikipedia.org/wiki?curid=689338\", \"id\": \"689338\"}',\n",
       " '{\"title\": \"Sandwich, Massachusetts\", \"text\": \"Sandwich, Massachusetts\\\\n\\\\nSandwich is a town in Barnstable County, Massachusetts, United States. As of the 2010 census, the town had a population of 20,675. The village and census-designated place (CDP) of Forestdale is in the town.\\\\n\", \"url\": \"https://simple.wikipedia.org/wiki?curid=692298\", \"id\": \"692298\"}',\n",
       " '{\"title\": \"Haggis\", \"text\": \"Haggis\\\\n\\\\nHaggis is a Scottish food made of cow or sheep organs like heart or liver.\\\\n\\\\n<div class=\\\\\"boilerplate metadata plainlinks\\\\\" id=\\\\\"stub\\\\\"> \\\\\"This can be made longer. You can help Wikipedia by [ adding to it]\\\\\".</div >\", \"url\": \"https://simple.wikipedia.org/wiki?curid=700061\", \"id\": \"700061\"}',\n",
       " '{\"title\": \"Hairspray: Live!\", \"text\": \"Hairspray: Live!\\\\n\\\\nHairspray Live! is a television special that aired live on NBC on December 7, 2016. Produced by Craig Zadan and Neil Meron, and hosted by Darren Criss.\\\\n\\\\n\", \"url\": \"https://simple.wikipedia.org/wiki?curid=703773\", \"id\": \"703773\"}',\n",
       " '{\"title\": \"Riverside Township, New Jersey\", \"text\": \"Riverside Township, New Jersey\\\\n\\\\nRiverside Township is a township in Burlington County, New Jersey, United States. As of the 2010 United States Census, the township\\'s population was 8,079.\\\\n\", \"url\": \"https://simple.wikipedia.org/wiki?curid=724167\", \"id\": \"724167\"}',\n",
       " '{\"title\": \"Friona, Texas\", \"text\": \"Friona, Texas\\\\n\\\\nFriona is a city in Parmer County, Texas, United States. In 2010, 4,123 people lived in Friona.\\\\n\", \"url\": \"https://simple.wikipedia.org/wiki?curid=728664\", \"id\": \"728664\"}',\n",
       " '{\"title\": \"Metzingen\", \"text\": \"Metzingen\\\\n\\\\nMetzingen is a Swabian city with about 22,000 people in it, in Reutlingen county, Baden-Württemberg, Germany, south of Stuttgart.\\\\n\", \"url\": \"https://simple.wikipedia.org/wiki?curid=728816\", \"id\": \"728816\"}',\n",
       " '{\"title\": \"Annville, Kentucky\", \"text\": \"Annville, Kentucky\\\\n\\\\nAnnville is a census-designated place (CDP) in Jackson County, Kentucky in the United States.\\\\n\", \"url\": \"https://simple.wikipedia.org/wiki?curid=737000\", \"id\": \"737000\"}',\n",
       " '{\"title\": \"Noticieros Televisa\", \"text\": \"Noticieros Televisa\\\\n\\\\nNoticieros Televisa is the news division of Grupo Televisa, which produces national and local news for Televisa\\'s TV channels and local stations across Mexico.\\\\n\\\\nIt is headed by Leopoldo Gómez, the Vice President of News for Televisa.\\\\n\\\\nAfter the last broadcast of \\\\\"24 Horas\\\\\" with Jacobo Zabludovsky on January 20, 1998, Televisa restructured its news division. From 1998 to 2000, Jacobo\\'s son Abraham Zabludovsky hosted its 10 p.m. successor, simply titled \\\\\"Las Noticias\\\\\"; Joaquín López-Dóriga took over from 2000 to 2016.\\\\n\\\\nOther notable personalities who have hosted Televisa newscasts include Lolita Ayala, Guillermo Ortega, Adela Micha, Carlos Loret de Mola and Víctor Trujillo (\\\\\"Brozo\\\\\").\\\\n\\\\nMost of Televisa\\'s national newscasts air on its Las Estrellas network, covering key dayparts. Since 2016, Televisa\\'s flagship 10 p.m. newscast, known as \\\\\"10 En Punto\\\\\", has been helmed by Denise Maerker. Its other weekday programs include \\\\\"Despierta\\\\\" (Wake Up), hosted by Danielle Dithurbide, and \\\\\"Al Aire\\\\\" with Paola Rojas in the mornings. The afternoon newscast \\\\\"El Noticiero con Karla Iberia Sánchez\\\\\" was moved from Las Estrellas to Nu9ve in 2018; it is that channel\\'s only regular news program. The move left Las Estrellas without an afternoon newscast for the first time in decades.\\\\n\\\\nIn 2010, Televisa launched FOROtv, a channel devoted exclusively to news, analysis and documentary programming. FOROtv airs in Mexico City on XHTV-TDT (channel 4) and as a subchannel of 21 additional Televisa transmitters in large cities.\\\\n\\\\nOutside of its national news output, Televisa produces local news at each of its Televisa Regional stations; local newscasts, under such titles as El Noticiero, Las Noticias and Notivisa.\\\\n\", \"url\": \"https://simple.wikipedia.org/wiki?curid=740141\", \"id\": \"740141\"}',\n",
       " '{\"title\": \"Djivan Gasparyan\", \"text\": \"Djivan Gasparyan\\\\n\\\\nDjivan Gasparyan (var. Jivan Gasparyan; born October 12, 1928) is an Armenian musician and composer. \\\\n\\\\nHe plays the duduk, a double reed woodwind instrument related to the orchestral oboe. Gasparyan is known as the \\\\\"Master of the duduk\\\\\".\\\\n\\\\nHe has won four medals at UNESCO worldwide competitions (1959, 1962, 1973, and 1980). In 1973 Gasparyan was awarded the honorary title \\\\\"People\\'s Artist of Armenia\\\\\". \\\\n\\\\n\", \"url\": \"https://simple.wikipedia.org/wiki?curid=741274\", \"id\": \"741274\"}',\n",
       " '{\"title\": \"Unplanned\", \"text\": \"Unplanned\\\\n\\\\nUnplanned is a movie about the life of conservative activist Abby Johnson based on her autobiography. It focuses on how she was once Pro-Choice but is now Pro-Life. It was controversial because it criticized Planned Parenthood. Left-wing people said it was propaganda and conservatives liked it. The movie made a lot of money.\\\\n\", \"url\": \"https://simple.wikipedia.org/wiki?curid=744248\", \"id\": \"744248\"}',\n",
       " '{\"title\": \"Congress of Deputies\", \"text\": \"Congress of Deputies\\\\n\\\\nThe Congress of Deputies (; ; ; ) is the lower house of the Cortes Generales, Spain\\'s legislative branch. The Congress meets in the Palace of the Parliament (\\\\\"\\\\\") in Madrid.\\\\n\", \"url\": \"https://simple.wikipedia.org/wiki?curid=746909\", \"id\": \"746909\"}',\n",
       " '{\"title\": \"Phillipsburg, New Jersey\", \"text\": \"Phillipsburg, New Jersey\\\\n\\\\nPhillipsburg is a town in Warren County, New Jersey, United States. As of 2010 United States Census, the town\\'s population was 14,950.\\\\n\", \"url\": \"https://simple.wikipedia.org/wiki?curid=747975\", \"id\": \"747975\"}',\n",
       " '{\"title\": \"YNW Melly\", \"text\": \"YNW Melly\\\\n\\\\nJamell Maurice Demons (born May 1, 1999), better known as YNW Melly, is an American rapper, singer and songwriter. He was born in Gifford, Florida. He is best known for his songs \\\\\"Murder on My Mind\\\\\" and \\\\\"Mixed Personalities\\\\\" featuring Kanye West. He released his album, \\\\\"We All Shine\\\\\", in January 2019.\\\\n\\\\nIn February 2019, Demons was charged with two counts of first-degree murder relating to a shooting that took place in October 2018. He is currently awaiting trial.\\\\n\\\\nIn April 2020, during the 2019–20 coronavirus pandemic, Demons tested positive to COVID-19.\\\\n\", \"url\": \"https://simple.wikipedia.org/wiki?curid=749647\", \"id\": \"749647\"}',\n",
       " '{\"title\": \"Wilster\", \"text\": \"Wilster\\\\n\\\\nWilster is a town of the district Steinburg, in Schleswig-Holstein, Germany. As of 31 December 2018, 4,308 people lived there.\\\\n\\\\n\", \"url\": \"https://simple.wikipedia.org/wiki?curid=752188\", \"id\": \"752188\"}',\n",
       " '{\"title\": \"Thé Tjong-Khing\", \"text\": \"Thé Tjong-Khing\\\\n\\\\nThé Tjong-Khing (; born August 4, 1933) is a Chinese-born Dutch children\\'s book illustrator and writer. He was born in Purworedjo, Java. \\\\n\\\\nHe was a freelance illustrator providing illustration to many children\\'s book authors such as van Guus Kuijer, Els Pelgrom, Sylvia Vanden Heede and Dolf Verroen. Tjong-Khing won the \\\\\"Gouden Penseel\\\\\" (Golden Brush) award three times, and in 2005 won the \\\\\"Woutertje Pieterse Prijs\\\\\" for his book \\\\\"Waar is de taart?\\\\\" (Where is the cake?). \\\\n\\\\nIn 2010 he won the \\\\\"Max Velthuijs-prijs\\\\\" (Max Velthuijs Prize).\\\\n\\\\n\", \"url\": \"https://simple.wikipedia.org/wiki?curid=752933\", \"id\": \"752933\"}',\n",
       " '{\"title\": \"Bridget Jones\\'s Diary\", \"text\": \"Bridget Jones\\'s Diary\\\\n\\\\nBridget Jones\\'s Diary\\' is a 2001 British American French romantic comedy movie directed by Sharon Maguire and based on the 1996 novel of the same name by Helen Fielding. It stars Renée Zellweger in her Oscar nominated role, Hugh Grant, Colin Firth, Jim Broadbent, Celia Imrie, James Faulkner, Shirley Henderson, James Callis, Ben Peyton, Donald Douglas, Embeth Davidtz, Felicity Montagu, Neil Pearson and was distributed by Miramax Films.\\\\n\\\\n\", \"url\": \"https://simple.wikipedia.org/wiki?curid=764010\", \"id\": \"764010\"}',\n",
       " '{\"title\": \"Juneteenth\", \"text\": \"Juneteenth\\\\n\\\\nJuneteenth (also known as Freedom Day, Jubilee Day, and Liberation Day) is a holiday in the United States on June 19. It is a memory of June 19, 1865, when the slaves in Texas got their freedom and commemorates the end of slavery in the United States. The name \\\\\"Juneteenth\\\\\" is a short form of \\\\\"June nineteenth\\\\\". In Texas it is an official state holiday. As of 2020, all other states of the United States some kind of official event is happening on June 19. Only in Hawaii there is no official event on June 19.\\\\n\\\\nThe first celebration of Juneteenth was in 1866. Over the years, it was sometimes more popular, and sometimes less popular. Texas was the first state to make it an official holiday in 1979. After George Floyd was killed in 2020, many corporations wanted to show their support for black rights. So, they made Juneteenth on official holiday.\\\\n\", \"url\": \"https://simple.wikipedia.org/wiki?curid=768073\", \"id\": \"768073\"}',\n",
       " '{\"title\": \"Penetrating trauma\", \"text\": \"Penetrating trauma\\\\n\\\\nPenetrating trauma is an injury that occurs when an object pierces the skin and enters a tissue of the body, creating an open wound. \\\\n\\\\nThe penetrating object may remain in the tissues, come back out the way it entered, or pass through the tissues and exit from another area. \\\\n\\\\nAn injury in which an object enters the body or a structure and passes all the way through is called a perforating injury, while \\\\\"penetrating trauma\\\\\" implies that the object does not pass through.\\\\n\\\\n<div class=\\\\\"boilerplate metadata plainlinks\\\\\" id=\\\\\"stub\\\\\"> \\\\\"This can be made longer. You can help Wikipedia by [ adding to it]\\\\\".</div >\", \"url\": \"https://simple.wikipedia.org/wiki?curid=770468\", \"id\": \"770468\"}',\n",
       " '{\"title\": \"Calhoun, Georgia\", \"text\": \"Calhoun, Georgia\\\\n\\\\nCalhoun is a city in the U.S. state of Georgia. It is the county seat of Gordon County.\\\\n\", \"url\": \"https://simple.wikipedia.org/wiki?curid=773861\", \"id\": \"773861\"}',\n",
       " '{\"title\": \"Soperton, Georgia\", \"text\": \"Soperton, Georgia\\\\n\\\\nSoperton is a city in the U.S. state of Georgia. It is the county seat of Treutlen County.\\\\n\", \"url\": \"https://simple.wikipedia.org/wiki?curid=774813\", \"id\": \"774813\"}',\n",
       " '{\"title\": \"Peru, New York\", \"text\": \"Peru, New York\\\\n\\\\nPeru is a town in Clinton County in the U.S. state of New York. The population was 6,998 at the 2010 census.\\\\n\", \"url\": \"https://simple.wikipedia.org/wiki?curid=778818\", \"id\": \"778818\"}',\n",
       " '{\"title\": \"A2 road (England)\", \"text\": \"A2 road (England)\\\\n\\\\nThe A2 is an important road in South East England. It goes between London and Dover. In Dover, it connects to the port to France. The road follows tracks used by the Celts and the Romans over a thousand years ago. It once linked to the three main Roman ports: Rutupiae (now Richborough), Dubris (now Dover) and Portus Lemanis (in modern Lympne). It was given the name \\\\\"A2\\\\\" in the 1920s. Now, the road is about long.\\\\n\", \"url\": \"https://simple.wikipedia.org/wiki?curid=779861\", \"id\": \"779861\"}']"
      ]
     },
     "execution_count": 21,
     "metadata": {},
     "output_type": "execute_result"
    }
   ],
   "source": [
    "rdd.sample(False, 0.001).collect()"
   ]
  },
  {
   "cell_type": "code",
   "execution_count": 22,
   "metadata": {},
   "outputs": [
    {
     "data": {
      "text/plain": [
       "[['April', 'April', 'is'],\n",
       " ['August', 'August', '(Aug.)'],\n",
       " ['Art', 'Art', 'is']]"
      ]
     },
     "execution_count": 22,
     "metadata": {},
     "output_type": "execute_result"
    }
   ],
   "source": [
    "rdd.map(lambda x: json.loads(x)['text'].split()[:3]).take(3)"
   ]
  },
  {
   "cell_type": "code",
   "execution_count": 23,
   "metadata": {},
   "outputs": [
    {
     "data": {
      "text/plain": [
       "['April', 'April', 'is', 'August', 'August', '(Aug.)', 'Art', 'Art', 'is']"
      ]
     },
     "execution_count": 23,
     "metadata": {},
     "output_type": "execute_result"
    }
   ],
   "source": [
    "rdd.flatMap(lambda x: json.loads(x)['text'].split()[:3]).take(9)"
   ]
  },
  {
   "cell_type": "code",
   "execution_count": 24,
   "metadata": {},
   "outputs": [
    {
     "data": {
      "text/plain": [
       "['{\"title\": \"Black pudding\", \"text\": \"Black pudding\\\\n\\\\nBlack pudding is an English name for zwarte pudding. It is food made by cooking down the blood of any mammal (usually pigs or cattle) with meat, fat or filler until it is thick enough to congeal (become firm or solid) when cooled.\\\\n\\\\nIn Great Britain, blood sausage is called \\\\\"Black Pudding\\\\\". The ingredients include pig\\'s blood, suet, bread, barley and oatmeal. The most common kind of German \\\\\"blutwurst\\\\\" is made from fatty pork meat, beef blood and filler such as barley. Though already cooked and \\\\\"ready to eat\\\\\" it is usually served warm.\\\\n\\\\nOther kinds of blood sausage include \\\\\"boudin noir\\\\\" (France), \\\\\"boudin rouge\\\\\" (Creole and Cajun) and \\\\\"morcilla\\\\\" (Spain).\\\\n\\\\nA legend says that blood sausage was invented in a bet between two Bavarian butchers drunk on the alcoholic drink absinthe during the 14th century. Homer\\'s \\\\\"Odyssey\\\\\" from Ancient Greece says that \\\\\"As when a man besides a great fire has filled a sausage with fat and blood and turns it this way and that and is very eager to get it quickly roasted...\\\\\".\\\\n\\\\n\", \"url\": \"https://simple.wikipedia.org/wiki?curid=68\", \"id\": \"68\"}']"
      ]
     },
     "execution_count": 24,
     "metadata": {},
     "output_type": "execute_result"
    }
   ],
   "source": [
    "rdd.filter(lambda x: json.loads(x)['text'][0] == 'B').take(1)"
   ]
  },
  {
   "cell_type": "code",
   "execution_count": 25,
   "metadata": {},
   "outputs": [
    {
     "data": {
      "text/plain": [
       "[['Garmisch-Partenkirchen',\n",
       "  'Olympics',\n",
       "  'Garmisch-Partenkirchen',\n",
       "  'Olympics',\n",
       "  'can',\n",
       "  'mean:',\n",
       "  '<templatestyles',\n",
       "  'src=\"Dmbox/styles.css\"',\n",
       "  '/>']]"
      ]
     },
     "execution_count": 25,
     "metadata": {},
     "output_type": "execute_result"
    }
   ],
   "source": [
    "(\n",
    "    rdd\n",
    "    .map(lambda x: json.loads(x)['text'].split())\n",
    "    .takeOrdered(1, lambda x: len(x))\n",
    ")"
   ]
  },
  {
   "cell_type": "markdown",
   "metadata": {},
   "source": [
    "# Emulating MapReduce"
   ]
  },
  {
   "cell_type": "code",
   "execution_count": 26,
   "metadata": {},
   "outputs": [],
   "source": [
    "rdd = sc.parallelize([\"this is text\", \"some more text\"])"
   ]
  },
  {
   "cell_type": "code",
   "execution_count": 27,
   "metadata": {},
   "outputs": [
    {
     "data": {
      "text/plain": [
       "[('this', 1), ('is', 1), ('text', 1), ('some', 1), ('more', 1), ('text', 1)]"
      ]
     },
     "execution_count": 27,
     "metadata": {},
     "output_type": "execute_result"
    }
   ],
   "source": [
    "(\n",
    "    rdd\n",
    "    .flatMap(lambda x: [(w, 1) for w in x.split()])\n",
    "    .collect()\n",
    ")"
   ]
  },
  {
   "cell_type": "code",
   "execution_count": 28,
   "metadata": {},
   "outputs": [
    {
     "data": {
      "text/plain": [
       "[('this', <pyspark.resultiterable.ResultIterable at 0x7f1119be77b8>),\n",
       " ('is', <pyspark.resultiterable.ResultIterable at 0x7f1119be7978>),\n",
       " ('more', <pyspark.resultiterable.ResultIterable at 0x7f1119be7860>),\n",
       " ('text', <pyspark.resultiterable.ResultIterable at 0x7f1119be74e0>),\n",
       " ('some', <pyspark.resultiterable.ResultIterable at 0x7f1119be7048>)]"
      ]
     },
     "execution_count": 28,
     "metadata": {},
     "output_type": "execute_result"
    }
   ],
   "source": [
    "(\n",
    "    rdd\n",
    "    .flatMap(lambda x: [(w, 1) for w in x.split()])\n",
    "    .groupByKey()\n",
    "    .collect()\n",
    ")"
   ]
  },
  {
   "cell_type": "code",
   "execution_count": 29,
   "metadata": {},
   "outputs": [
    {
     "data": {
      "text/plain": [
       "[('this', [1]), ('is', [1]), ('more', [1]), ('text', [1, 1]), ('some', [1])]"
      ]
     },
     "execution_count": 29,
     "metadata": {},
     "output_type": "execute_result"
    }
   ],
   "source": [
    "(\n",
    "    rdd\n",
    "    .flatMap(lambda x: [(w, 1) for w in x.split()])\n",
    "    .groupByKey()\n",
    "    .map(lambda x: (x[0], list(x[1])))\n",
    "    .collect()\n",
    ")"
   ]
  },
  {
   "cell_type": "code",
   "execution_count": 30,
   "metadata": {},
   "outputs": [
    {
     "data": {
      "text/plain": [
       "[('this', 1), ('is', 1), ('more', 1), ('text', 2), ('some', 1)]"
      ]
     },
     "execution_count": 30,
     "metadata": {},
     "output_type": "execute_result"
    }
   ],
   "source": [
    "(\n",
    "    rdd\n",
    "    .flatMap(lambda x: [(w, 1) for w in x.split()])\n",
    "    .groupByKey()\n",
    "    .map(lambda x: (x[0], len(x[1])))\n",
    "    .collect()\n",
    ")"
   ]
  },
  {
   "cell_type": "code",
   "execution_count": 31,
   "metadata": {},
   "outputs": [
    {
     "data": {
      "text/plain": [
       "[('this', 1), ('is', 1), ('more', 1), ('text', 2), ('some', 1)]"
      ]
     },
     "execution_count": 31,
     "metadata": {},
     "output_type": "execute_result"
    }
   ],
   "source": [
    "(\n",
    "    rdd\n",
    "    .flatMap(lambda x: [(w, 1) for w in x.split()])\n",
    "    .reduceByKey(lambda a, b: a + b)\n",
    "    .collect()\n",
    ")"
   ]
  },
  {
   "cell_type": "markdown",
   "metadata": {},
   "source": [
    "# Solving WordCount"
   ]
  },
  {
   "cell_type": "code",
   "execution_count": 32,
   "metadata": {},
   "outputs": [],
   "source": [
    "import sys\n",
    "import re\n",
    "import string\n",
    "\n",
    "def mapper(line):\n",
    "    text = json.loads(line)['text']\n",
    "    text = re.sub(f'[^{re.escape(string.printable)}]', ' ', text)  # not printable to space\n",
    "    words = text.lower().split()\n",
    "    return [(word, 1) for word in words]"
   ]
  },
  {
   "cell_type": "code",
   "execution_count": 33,
   "metadata": {},
   "outputs": [
    {
     "data": {
      "text/plain": [
       "[('this', 1), ('is', 1), ('text', 1)]"
      ]
     },
     "execution_count": 33,
     "metadata": {},
     "output_type": "execute_result"
    }
   ],
   "source": [
    "mapper(\"{\\\"text\\\": \\\"This  is  text\\\"}\")"
   ]
  },
  {
   "cell_type": "code",
   "execution_count": 34,
   "metadata": {
    "scrolled": true
   },
   "outputs": [
    {
     "name": "stdout",
     "output_type": "stream",
     "text": [
      "CPU times: user 20.1 ms, sys: 0 ns, total: 20.1 ms\n",
      "Wall time: 1.41 s\n"
     ]
    },
    {
     "data": {
      "text/plain": [
       "[('the', 34538),\n",
       " ('of', 15944),\n",
       " ('and', 12966),\n",
       " ('in', 12448),\n",
       " ('a', 11322),\n",
       " ('is', 10870),\n",
       " ('to', 9469),\n",
       " ('are', 5598),\n",
       " ('it', 4330),\n",
       " ('that', 4057)]"
      ]
     },
     "execution_count": 34,
     "metadata": {},
     "output_type": "execute_result"
    }
   ],
   "source": [
    "%%time\n",
    "(\n",
    "    sc.textFile(\"hdfs:///wiki/sample.jsonl\")\n",
    "    .flatMap(mapper)\n",
    "    .reduceByKey(lambda a, b: a + b)\n",
    "    .takeOrdered(10, lambda x: -x[1])\n",
    ")"
   ]
  },
  {
   "cell_type": "markdown",
   "metadata": {},
   "source": [
    "# Catching an error in the code"
   ]
  },
  {
   "cell_type": "code",
   "execution_count": 35,
   "metadata": {},
   "outputs": [],
   "source": [
    "import sys\n",
    "import re\n",
    "import string\n",
    "\n",
    "def mapper(line):\n",
    "    text = json.loads(line)['text123']  # error: missing key!\n",
    "    text = re.sub(f'[^{re.escape(string.printable)}]', ' ', text)  # not printable to space\n",
    "    words = text.lower().split()\n",
    "    return [(word, 1) for word in words]"
   ]
  },
  {
   "cell_type": "code",
   "execution_count": null,
   "metadata": {},
   "outputs": [],
   "source": [
    "%%time\n",
    "(\n",
    "    sc.textFile(\"hdfs:///wiki/sample.jsonl\")\n",
    "    .flatMap(mapper)\n",
    "    .reduceByKey(lambda a, b: a + b)\n",
    "    .takeOrdered(10, lambda x: -x[1])\n",
    ")"
   ]
  },
  {
   "cell_type": "markdown",
   "metadata": {},
   "source": [
    "# Stopping Spark (and the YARN app)"
   ]
  },
  {
   "cell_type": "code",
   "execution_count": 37,
   "metadata": {},
   "outputs": [],
   "source": [
    "sc.stop()"
   ]
  }
 ],
 "metadata": {
  "kernelspec": {
   "display_name": "Python 3 (ipykernel)",
   "language": "python",
   "name": "python3"
  },
  "language_info": {
   "codemirror_mode": {
    "name": "ipython",
    "version": 3
   },
   "file_extension": ".py",
   "mimetype": "text/x-python",
   "name": "python",
   "nbconvert_exporter": "python",
   "pygments_lexer": "ipython3",
   "version": "3.10.9"
  }
 },
 "nbformat": 4,
 "nbformat_minor": 4
}
