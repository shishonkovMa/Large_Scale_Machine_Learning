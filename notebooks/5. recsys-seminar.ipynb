{
 "cells": [
  {
   "cell_type": "markdown",
   "metadata": {
    "id": "dzoTKl4qkyRy"
   },
   "source": [
    "# Create SparkContext, SparkSession\n",
    "\n",
    "https://spark.apache.org/docs/latest/rdd-programming-guide.html\n",
    "\n",
    "http://spark.apache.org/docs/latest/sql-getting-started.html"
   ]
  },
  {
   "cell_type": "code",
   "execution_count": 1,
   "metadata": {
    "id": "TzIdTLgikyR8",
    "tags": []
   },
   "outputs": [
    {
     "name": "stderr",
     "output_type": "stream",
     "text": [
      "Setting default log level to \"WARN\".\n",
      "To adjust logging level use sc.setLogLevel(newLevel). For SparkR, use setLogLevel(newLevel).\n",
      "2023-04-08 12:57:17,671 WARN yarn.Client: Neither spark.yarn.jars nor spark.yarn.archive is set, falling back to uploading libraries under SPARK_HOME.\n"
     ]
    }
   ],
   "source": [
    "import findspark\n",
    "findspark.init()\n",
    "\n",
    "from pyspark import SparkContext, SparkConf\n",
    "from pyspark.sql import SparkSession\n",
    "sc = SparkContext(appName=\"RecSys\")\n",
    "se = SparkSession(sc)\n"
   ]
  },
  {
   "cell_type": "code",
   "execution_count": 2,
   "metadata": {
    "id": "H0nEitJOkyR9",
    "tags": []
   },
   "outputs": [
    {
     "name": "stdout",
     "output_type": "stream",
     "text": [
      "\n",
      "Provided region_name 'ru-central1-' doesn't match a supported format.\n"
     ]
    }
   ],
   "source": [
    "! aws s3 cp s3://ydatazian/yandex_music yandex_music --recursive"
   ]
  },
  {
   "cell_type": "markdown",
   "metadata": {
    "id": "bUTjLHPukyR-"
   },
   "source": [
    "# Yandex.Music dataset"
   ]
  },
  {
   "cell_type": "code",
   "execution_count": 3,
   "metadata": {
    "id": "T11fzUYfkyR-",
    "outputId": "91aab88d-354d-4a2d-8814-262868709209",
    "tags": []
   },
   "outputs": [
    {
     "name": "stdout",
     "output_type": "stream",
     "text": [
      "total 52M\n",
      "-rw-rw-r-- 1 jovyan root 3.7M Oct 13 07:35 artists.jsonl\n",
      "-rw-rw-r-- 1 jovyan root  48M Oct 13 07:35 events.csv\n",
      "-rw-rw-r-- 1 jovyan root  254 Oct 13 07:35 README.txt\n"
     ]
    }
   ],
   "source": [
    "! ls -lh yandex_music"
   ]
  },
  {
   "cell_type": "code",
   "execution_count": 4,
   "metadata": {
    "id": "t9ijnMAmkyR_",
    "outputId": "6d2be4af-95ab-4f29-b477-2d560a745225",
    "tags": []
   },
   "outputs": [
    {
     "name": "stdout",
     "output_type": "stream",
     "text": [
      "{\"artistId\":0,\"artistName\":\"Mack Gordon\"}\n",
      "{\"artistId\":1,\"artistName\":\"Kenny Dorham\"}\n",
      "{\"artistId\":2,\"artistName\":\"Max Roach\"}\n",
      "{\"artistId\":3,\"artistName\":\"Francis Rossi\"}\n",
      "{\"artistId\":4,\"artistName\":\"Status Quo\"}\n"
     ]
    }
   ],
   "source": [
    "! head -n 5 yandex_music/artists.jsonl"
   ]
  },
  {
   "cell_type": "code",
   "execution_count": 5,
   "metadata": {
    "id": "ERMUkicJkySA",
    "outputId": "95585834-a943-47cc-a602-c156cb80c447",
    "tags": []
   },
   "outputs": [
    {
     "name": "stdout",
     "output_type": "stream",
     "text": [
      "userId,artistId,plays,skips\n",
      "0,335,1,0\n",
      "0,708,1,0\n",
      "0,710,2,1\n",
      "0,815,1,1\n"
     ]
    }
   ],
   "source": [
    "! head -n 5 yandex_music/events.csv"
   ]
  },
  {
   "cell_type": "markdown",
   "metadata": {
    "id": "Eaasg9OokySB"
   },
   "source": [
    "# Copy data to HDFS"
   ]
  },
  {
   "cell_type": "code",
   "execution_count": 2,
   "metadata": {
    "id": "zctrI619kySC",
    "outputId": "043a914d-9785-4a47-f6eb-77b29b58b7d5",
    "tags": []
   },
   "outputs": [
    {
     "name": "stdout",
     "output_type": "stream",
     "text": [
      "copyFromLocal: `/yandex_music/events.csv': File exists\n",
      "copyFromLocal: `/yandex_music/artists.jsonl': File exists\n",
      "copyFromLocal: `/yandex_music/README.txt': File exists\n",
      "copyFromLocal: `/yandex_music/.ipynb_checkpoints/artists-checkpoint.jsonl': File exists\n"
     ]
    }
   ],
   "source": [
    "! hadoop fs -copyFromLocal yandex_music /"
   ]
  },
  {
   "cell_type": "code",
   "execution_count": 3,
   "metadata": {
    "id": "a7eU8D4fkySC",
    "outputId": "0ee81491-9b9c-4d14-c682-1885f6c0d2fe",
    "tags": []
   },
   "outputs": [
    {
     "name": "stdout",
     "output_type": "stream",
     "text": [
      "Found 4 items\n",
      "drwxr-xr-x   - jovyan supergroup          0 2023-04-08 12:14 /yandex_music/.ipynb_checkpoints\n",
      "-rw-r--r--   1 jovyan supergroup        254 2023-04-08 12:14 /yandex_music/README.txt\n",
      "-rw-r--r--   1 jovyan supergroup      3.7 M 2023-04-08 12:14 /yandex_music/artists.jsonl\n",
      "-rw-r--r--   1 jovyan supergroup     47.6 M 2023-04-08 12:14 /yandex_music/events.csv\n"
     ]
    }
   ],
   "source": [
    "! hadoop fs -ls -h /yandex_music"
   ]
  },
  {
   "cell_type": "markdown",
   "metadata": {
    "id": "d5FhjfDUkySD"
   },
   "source": [
    "# Load dataset"
   ]
  },
  {
   "cell_type": "code",
   "execution_count": 2,
   "metadata": {
    "id": "ISJskJC3kySD",
    "outputId": "30b19909-a666-4a56-e3a0-b094d5c6119d",
    "tags": []
   },
   "outputs": [
    {
     "name": "stderr",
     "output_type": "stream",
     "text": [
      "                                                                                \r"
     ]
    },
    {
     "data": {
      "text/html": [
       "<div>\n",
       "<style scoped>\n",
       "    .dataframe tbody tr th:only-of-type {\n",
       "        vertical-align: middle;\n",
       "    }\n",
       "\n",
       "    .dataframe tbody tr th {\n",
       "        vertical-align: top;\n",
       "    }\n",
       "\n",
       "    .dataframe thead th {\n",
       "        text-align: right;\n",
       "    }\n",
       "</style>\n",
       "<table border=\"1\" class=\"dataframe\">\n",
       "  <thead>\n",
       "    <tr style=\"text-align: right;\">\n",
       "      <th></th>\n",
       "      <th>artistId</th>\n",
       "      <th>artistName</th>\n",
       "    </tr>\n",
       "  </thead>\n",
       "  <tbody>\n",
       "    <tr>\n",
       "      <th>0</th>\n",
       "      <td>0</td>\n",
       "      <td>Mack Gordon</td>\n",
       "    </tr>\n",
       "    <tr>\n",
       "      <th>1</th>\n",
       "      <td>1</td>\n",
       "      <td>Kenny Dorham</td>\n",
       "    </tr>\n",
       "    <tr>\n",
       "      <th>2</th>\n",
       "      <td>2</td>\n",
       "      <td>Max Roach</td>\n",
       "    </tr>\n",
       "    <tr>\n",
       "      <th>3</th>\n",
       "      <td>3</td>\n",
       "      <td>Francis Rossi</td>\n",
       "    </tr>\n",
       "    <tr>\n",
       "      <th>4</th>\n",
       "      <td>4</td>\n",
       "      <td>Status Quo</td>\n",
       "    </tr>\n",
       "  </tbody>\n",
       "</table>\n",
       "</div>"
      ],
      "text/plain": [
       "   artistId     artistName\n",
       "0         0    Mack Gordon\n",
       "1         1   Kenny Dorham\n",
       "2         2      Max Roach\n",
       "3         3  Francis Rossi\n",
       "4         4     Status Quo"
      ]
     },
     "execution_count": 2,
     "metadata": {},
     "output_type": "execute_result"
    }
   ],
   "source": [
    "artists = se.read.json(\"hdfs:///yandex_music/artists.jsonl\")\n",
    "artists.registerTempTable(\"artists\")\n",
    "artists.limit(5).toPandas()"
   ]
  },
  {
   "cell_type": "code",
   "execution_count": 3,
   "metadata": {
    "id": "SbHpoxfHkySE",
    "outputId": "cccda198-067b-4bc7-84ba-168008cfa1f8",
    "tags": []
   },
   "outputs": [
    {
     "name": "stderr",
     "output_type": "stream",
     "text": [
      "                                                                                \r"
     ]
    },
    {
     "data": {
      "text/html": [
       "<div>\n",
       "<style scoped>\n",
       "    .dataframe tbody tr th:only-of-type {\n",
       "        vertical-align: middle;\n",
       "    }\n",
       "\n",
       "    .dataframe tbody tr th {\n",
       "        vertical-align: top;\n",
       "    }\n",
       "\n",
       "    .dataframe thead th {\n",
       "        text-align: right;\n",
       "    }\n",
       "</style>\n",
       "<table border=\"1\" class=\"dataframe\">\n",
       "  <thead>\n",
       "    <tr style=\"text-align: right;\">\n",
       "      <th></th>\n",
       "      <th>userId</th>\n",
       "      <th>artistId</th>\n",
       "      <th>plays</th>\n",
       "      <th>skips</th>\n",
       "    </tr>\n",
       "  </thead>\n",
       "  <tbody>\n",
       "    <tr>\n",
       "      <th>0</th>\n",
       "      <td>0</td>\n",
       "      <td>335</td>\n",
       "      <td>1</td>\n",
       "      <td>0</td>\n",
       "    </tr>\n",
       "    <tr>\n",
       "      <th>1</th>\n",
       "      <td>0</td>\n",
       "      <td>708</td>\n",
       "      <td>1</td>\n",
       "      <td>0</td>\n",
       "    </tr>\n",
       "    <tr>\n",
       "      <th>2</th>\n",
       "      <td>0</td>\n",
       "      <td>710</td>\n",
       "      <td>2</td>\n",
       "      <td>1</td>\n",
       "    </tr>\n",
       "    <tr>\n",
       "      <th>3</th>\n",
       "      <td>0</td>\n",
       "      <td>815</td>\n",
       "      <td>1</td>\n",
       "      <td>1</td>\n",
       "    </tr>\n",
       "    <tr>\n",
       "      <th>4</th>\n",
       "      <td>0</td>\n",
       "      <td>880</td>\n",
       "      <td>1</td>\n",
       "      <td>1</td>\n",
       "    </tr>\n",
       "  </tbody>\n",
       "</table>\n",
       "</div>"
      ],
      "text/plain": [
       "   userId  artistId  plays  skips\n",
       "0       0       335      1      0\n",
       "1       0       708      1      0\n",
       "2       0       710      2      1\n",
       "3       0       815      1      1\n",
       "4       0       880      1      1"
      ]
     },
     "execution_count": 3,
     "metadata": {},
     "output_type": "execute_result"
    }
   ],
   "source": [
    "events = se.read.csv(\"hdfs:///yandex_music/events.csv\", header=True, \n",
    "                     schema='userId bigint, artistId bigint, plays INT, skips INT')\n",
    "events.registerTempTable(\"events\")\n",
    "events.limit(5).toPandas()"
   ]
  },
  {
   "cell_type": "code",
   "execution_count": 8,
   "metadata": {
    "tags": []
   },
   "outputs": [
    {
     "name": "stderr",
     "output_type": "stream",
     "text": [
      "[Stage 7:====================================================>    (11 + 1) / 12]\r"
     ]
    },
    {
     "name": "stdout",
     "output_type": "stream",
     "text": [
      "(671287, 4)\n"
     ]
    },
    {
     "name": "stderr",
     "output_type": "stream",
     "text": [
      "                                                                                \r"
     ]
    }
   ],
   "source": [
    "print((events.count(), len(events.columns)))"
   ]
  },
  {
   "cell_type": "code",
   "execution_count": 6,
   "metadata": {
    "tags": []
   },
   "outputs": [],
   "source": [
    "events = events.filter(events.plays > 2)"
   ]
  },
  {
   "cell_type": "code",
   "execution_count": 9,
   "metadata": {
    "tags": []
   },
   "outputs": [
    {
     "name": "stderr",
     "output_type": "stream",
     "text": [
      "                                                                                \r"
     ]
    }
   ],
   "source": [
    "events = events.toPandas()"
   ]
  },
  {
   "cell_type": "code",
   "execution_count": 11,
   "metadata": {
    "tags": []
   },
   "outputs": [
    {
     "data": {
      "text/html": [
       "<div>\n",
       "<style scoped>\n",
       "    .dataframe tbody tr th:only-of-type {\n",
       "        vertical-align: middle;\n",
       "    }\n",
       "\n",
       "    .dataframe tbody tr th {\n",
       "        vertical-align: top;\n",
       "    }\n",
       "\n",
       "    .dataframe thead th {\n",
       "        text-align: right;\n",
       "    }\n",
       "</style>\n",
       "<table border=\"1\" class=\"dataframe\">\n",
       "  <thead>\n",
       "    <tr style=\"text-align: right;\">\n",
       "      <th></th>\n",
       "      <th>userId</th>\n",
       "      <th>artistId</th>\n",
       "      <th>plays</th>\n",
       "      <th>skips</th>\n",
       "    </tr>\n",
       "  </thead>\n",
       "  <tbody>\n",
       "    <tr>\n",
       "      <th>0</th>\n",
       "      <td>0</td>\n",
       "      <td>2130</td>\n",
       "      <td>4</td>\n",
       "      <td>10</td>\n",
       "    </tr>\n",
       "    <tr>\n",
       "      <th>1</th>\n",
       "      <td>0</td>\n",
       "      <td>2267</td>\n",
       "      <td>5</td>\n",
       "      <td>3</td>\n",
       "    </tr>\n",
       "    <tr>\n",
       "      <th>2</th>\n",
       "      <td>0</td>\n",
       "      <td>2810</td>\n",
       "      <td>5</td>\n",
       "      <td>3</td>\n",
       "    </tr>\n",
       "    <tr>\n",
       "      <th>3</th>\n",
       "      <td>0</td>\n",
       "      <td>3568</td>\n",
       "      <td>5</td>\n",
       "      <td>9</td>\n",
       "    </tr>\n",
       "    <tr>\n",
       "      <th>4</th>\n",
       "      <td>0</td>\n",
       "      <td>3629</td>\n",
       "      <td>9</td>\n",
       "      <td>8</td>\n",
       "    </tr>\n",
       "  </tbody>\n",
       "</table>\n",
       "</div>"
      ],
      "text/plain": [
       "   userId  artistId  plays  skips\n",
       "0       0      2130      4     10\n",
       "1       0      2267      5      3\n",
       "2       0      2810      5      3\n",
       "3       0      3568      5      9\n",
       "4       0      3629      9      8"
      ]
     },
     "execution_count": 11,
     "metadata": {},
     "output_type": "execute_result"
    }
   ],
   "source": [
    "import pandas as pd\n",
    "\n",
    "events.head()"
   ]
  },
  {
   "cell_type": "code",
   "execution_count": 18,
   "metadata": {
    "tags": []
   },
   "outputs": [
    {
     "data": {
      "text/plain": [
       "<pandas.core.groupby.generic.DataFrameGroupBy object at 0x7f24ef698c70>"
      ]
     },
     "execution_count": 18,
     "metadata": {},
     "output_type": "execute_result"
    }
   ],
   "source": [
    "grouped = events.groupby('artistId')\n",
    "grouped"
   ]
  },
  {
   "cell_type": "code",
   "execution_count": 20,
   "metadata": {
    "tags": []
   },
   "outputs": [],
   "source": [
    "events = grouped.filter(lambda x: x['userId'].count() > 50)"
   ]
  },
  {
   "cell_type": "code",
   "execution_count": 22,
   "metadata": {
    "tags": []
   },
   "outputs": [
    {
     "data": {
      "text/plain": [
       "(498589, 4)"
      ]
     },
     "execution_count": 22,
     "metadata": {},
     "output_type": "execute_result"
    }
   ],
   "source": [
    "events.shape"
   ]
  },
  {
   "cell_type": "code",
   "execution_count": 23,
   "metadata": {
    "tags": []
   },
   "outputs": [],
   "source": [
    "events.to_csv(\"filtered_events.csv\",index=False)"
   ]
  },
  {
   "cell_type": "code",
   "execution_count": null,
   "metadata": {},
   "outputs": [],
   "source": []
  },
  {
   "cell_type": "code",
   "execution_count": null,
   "metadata": {},
   "outputs": [],
   "source": []
  },
  {
   "cell_type": "code",
   "execution_count": null,
   "metadata": {},
   "outputs": [],
   "source": [
    "# оставляем только plays > 2\n",
    "# оставляем только artistId, которых слушали > 50 раз"
   ]
  },
  {
   "cell_type": "code",
   "execution_count": 10,
   "metadata": {
    "id": "3OhE8s_TkySF",
    "outputId": "c387b71f-9306-4ebb-ba6e-b5ca61ae76ea",
    "tags": []
   },
   "outputs": [
    {
     "name": "stderr",
     "output_type": "stream",
     "text": [
      "                                                                                \r"
     ]
    },
    {
     "data": {
      "text/html": [
       "<div>\n",
       "<style scoped>\n",
       "    .dataframe tbody tr th:only-of-type {\n",
       "        vertical-align: middle;\n",
       "    }\n",
       "\n",
       "    .dataframe tbody tr th {\n",
       "        vertical-align: top;\n",
       "    }\n",
       "\n",
       "    .dataframe thead th {\n",
       "        text-align: right;\n",
       "    }\n",
       "</style>\n",
       "<table border=\"1\" class=\"dataframe\">\n",
       "  <thead>\n",
       "    <tr style=\"text-align: right;\">\n",
       "      <th></th>\n",
       "      <th>users</th>\n",
       "      <th>artists</th>\n",
       "      <th>interactions</th>\n",
       "      <th>density</th>\n",
       "    </tr>\n",
       "  </thead>\n",
       "  <tbody>\n",
       "    <tr>\n",
       "      <th>0</th>\n",
       "      <td>4999</td>\n",
       "      <td>53031</td>\n",
       "      <td>3412504</td>\n",
       "      <td>0.012872</td>\n",
       "    </tr>\n",
       "  </tbody>\n",
       "</table>\n",
       "</div>"
      ],
      "text/plain": [
       "   users  artists  interactions   density\n",
       "0   4999    53031       3412504  0.012872"
      ]
     },
     "execution_count": 10,
     "metadata": {},
     "output_type": "execute_result"
    }
   ],
   "source": [
    "# statistics\n",
    "se.sql(\"\"\"\n",
    "select\n",
    "    count(distinct userId) as users,\n",
    "    count(distinct artistId) as artists,\n",
    "    count(*) as interactions,\n",
    "    count(*) / (count(distinct userId) * count(distinct artistId)) as density\n",
    "from \n",
    "    events\n",
    "\"\"\").toPandas()"
   ]
  },
  {
   "cell_type": "code",
   "execution_count": 11,
   "metadata": {
    "id": "0Rvvszh5kySF",
    "outputId": "1c7bcf0b-affa-495b-ca32-2e331d565c13",
    "scrolled": true,
    "tags": []
   },
   "outputs": [
    {
     "name": "stderr",
     "output_type": "stream",
     "text": [
      "                                                                                \r"
     ]
    },
    {
     "data": {
      "text/html": [
       "<div>\n",
       "<style scoped>\n",
       "    .dataframe tbody tr th:only-of-type {\n",
       "        vertical-align: middle;\n",
       "    }\n",
       "\n",
       "    .dataframe tbody tr th {\n",
       "        vertical-align: top;\n",
       "    }\n",
       "\n",
       "    .dataframe thead th {\n",
       "        text-align: right;\n",
       "    }\n",
       "</style>\n",
       "<table border=\"1\" class=\"dataframe\">\n",
       "  <thead>\n",
       "    <tr style=\"text-align: right;\">\n",
       "      <th></th>\n",
       "      <th>artistName</th>\n",
       "      <th>popularity</th>\n",
       "    </tr>\n",
       "  </thead>\n",
       "  <tbody>\n",
       "    <tr>\n",
       "      <th>0</th>\n",
       "      <td>Imagine Dragons</td>\n",
       "      <td>43447</td>\n",
       "    </tr>\n",
       "    <tr>\n",
       "      <th>1</th>\n",
       "      <td>Би-2</td>\n",
       "      <td>29415</td>\n",
       "    </tr>\n",
       "    <tr>\n",
       "      <th>2</th>\n",
       "      <td>Баста</td>\n",
       "      <td>27264</td>\n",
       "    </tr>\n",
       "    <tr>\n",
       "      <th>3</th>\n",
       "      <td>Ленинград</td>\n",
       "      <td>26311</td>\n",
       "    </tr>\n",
       "    <tr>\n",
       "      <th>4</th>\n",
       "      <td>Сплин</td>\n",
       "      <td>25062</td>\n",
       "    </tr>\n",
       "    <tr>\n",
       "      <th>5</th>\n",
       "      <td>Queen</td>\n",
       "      <td>24905</td>\n",
       "    </tr>\n",
       "    <tr>\n",
       "      <th>6</th>\n",
       "      <td>Sia</td>\n",
       "      <td>22803</td>\n",
       "    </tr>\n",
       "    <tr>\n",
       "      <th>7</th>\n",
       "      <td>LOBODA</td>\n",
       "      <td>21923</td>\n",
       "    </tr>\n",
       "    <tr>\n",
       "      <th>8</th>\n",
       "      <td>Noize MC</td>\n",
       "      <td>21774</td>\n",
       "    </tr>\n",
       "    <tr>\n",
       "      <th>9</th>\n",
       "      <td>Linkin Park</td>\n",
       "      <td>21584</td>\n",
       "    </tr>\n",
       "    <tr>\n",
       "      <th>10</th>\n",
       "      <td>Монеточка</td>\n",
       "      <td>21564</td>\n",
       "    </tr>\n",
       "    <tr>\n",
       "      <th>11</th>\n",
       "      <td>Miyagi &amp; Эндшпиль</td>\n",
       "      <td>20349</td>\n",
       "    </tr>\n",
       "    <tr>\n",
       "      <th>12</th>\n",
       "      <td>Макс Корж</td>\n",
       "      <td>20065</td>\n",
       "    </tr>\n",
       "    <tr>\n",
       "      <th>13</th>\n",
       "      <td>Jah Khalib</td>\n",
       "      <td>20024</td>\n",
       "    </tr>\n",
       "    <tr>\n",
       "      <th>14</th>\n",
       "      <td>Егор Крид</td>\n",
       "      <td>19606</td>\n",
       "    </tr>\n",
       "    <tr>\n",
       "      <th>15</th>\n",
       "      <td>Oxxxymiron</td>\n",
       "      <td>18989</td>\n",
       "    </tr>\n",
       "    <tr>\n",
       "      <th>16</th>\n",
       "      <td>Земфира</td>\n",
       "      <td>18845</td>\n",
       "    </tr>\n",
       "    <tr>\n",
       "      <th>17</th>\n",
       "      <td>Кино</td>\n",
       "      <td>18326</td>\n",
       "    </tr>\n",
       "    <tr>\n",
       "      <th>18</th>\n",
       "      <td>David Guetta</td>\n",
       "      <td>16538</td>\n",
       "    </tr>\n",
       "    <tr>\n",
       "      <th>19</th>\n",
       "      <td>Полина Гагарина</td>\n",
       "      <td>15775</td>\n",
       "    </tr>\n",
       "    <tr>\n",
       "      <th>20</th>\n",
       "      <td>Макс Барских</td>\n",
       "      <td>15733</td>\n",
       "    </tr>\n",
       "    <tr>\n",
       "      <th>21</th>\n",
       "      <td>Twenty One Pilots</td>\n",
       "      <td>15551</td>\n",
       "    </tr>\n",
       "    <tr>\n",
       "      <th>22</th>\n",
       "      <td>Eminem</td>\n",
       "      <td>14911</td>\n",
       "    </tr>\n",
       "    <tr>\n",
       "      <th>23</th>\n",
       "      <td>Король и Шут</td>\n",
       "      <td>14764</td>\n",
       "    </tr>\n",
       "    <tr>\n",
       "      <th>24</th>\n",
       "      <td>Мот</td>\n",
       "      <td>14378</td>\n",
       "    </tr>\n",
       "    <tr>\n",
       "      <th>25</th>\n",
       "      <td>Елена Темникова</td>\n",
       "      <td>14260</td>\n",
       "    </tr>\n",
       "    <tr>\n",
       "      <th>26</th>\n",
       "      <td>Элджей</td>\n",
       "      <td>13935</td>\n",
       "    </tr>\n",
       "    <tr>\n",
       "      <th>27</th>\n",
       "      <td>Мумий Тролль</td>\n",
       "      <td>13564</td>\n",
       "    </tr>\n",
       "    <tr>\n",
       "      <th>28</th>\n",
       "      <td>Григорий Лепс</td>\n",
       "      <td>13366</td>\n",
       "    </tr>\n",
       "    <tr>\n",
       "      <th>29</th>\n",
       "      <td>Muse</td>\n",
       "      <td>12337</td>\n",
       "    </tr>\n",
       "  </tbody>\n",
       "</table>\n",
       "</div>"
      ],
      "text/plain": [
       "           artistName  popularity\n",
       "0     Imagine Dragons       43447\n",
       "1                Би-2       29415\n",
       "2               Баста       27264\n",
       "3           Ленинград       26311\n",
       "4               Сплин       25062\n",
       "5               Queen       24905\n",
       "6                 Sia       22803\n",
       "7              LOBODA       21923\n",
       "8            Noize MC       21774\n",
       "9         Linkin Park       21584\n",
       "10          Монеточка       21564\n",
       "11  Miyagi & Эндшпиль       20349\n",
       "12          Макс Корж       20065\n",
       "13         Jah Khalib       20024\n",
       "14          Егор Крид       19606\n",
       "15         Oxxxymiron       18989\n",
       "16            Земфира       18845\n",
       "17               Кино       18326\n",
       "18       David Guetta       16538\n",
       "19    Полина Гагарина       15775\n",
       "20       Макс Барских       15733\n",
       "21  Twenty One Pilots       15551\n",
       "22             Eminem       14911\n",
       "23       Король и Шут       14764\n",
       "24                Мот       14378\n",
       "25    Елена Темникова       14260\n",
       "26             Элджей       13935\n",
       "27       Мумий Тролль       13564\n",
       "28      Григорий Лепс       13366\n",
       "29               Muse       12337"
      ]
     },
     "execution_count": 11,
     "metadata": {},
     "output_type": "execute_result"
    }
   ],
   "source": [
    "# most popular artists\n",
    "se.sql(\"\"\"\n",
    "select\n",
    "    artists.artistName,\n",
    "    sum(plays) as popularity\n",
    "from \n",
    "    events join artists on events.artistId = artists.artistId\n",
    "group by artistName\n",
    "order by popularity desc\n",
    "limit 30\n",
    "\"\"\").toPandas()"
   ]
  },
  {
   "cell_type": "markdown",
   "metadata": {
    "id": "FhC2K0U1kySG"
   },
   "source": [
    "# Train iALS\n",
    "\n",
    "Assume, rating is encoded into `plays` column"
   ]
  },
  {
   "cell_type": "code",
   "execution_count": 12,
   "metadata": {
    "id": "-Gma0xUqkySG",
    "tags": []
   },
   "outputs": [],
   "source": [
    "import numpy as np"
   ]
  },
  {
   "cell_type": "code",
   "execution_count": 13,
   "metadata": {
    "id": "uzXYrmLTkySH",
    "outputId": "3f2f6f22-413a-48a7-d056-4e859d49a0ae",
    "tags": []
   },
   "outputs": [
    {
     "name": "stderr",
     "output_type": "stream",
     "text": [
      "[Stage 14:==============================================>         (10 + 2) / 12]\r"
     ]
    },
    {
     "name": "stdout",
     "output_type": "stream",
     "text": [
      "CPU times: user 39.2 ms, sys: 6.6 ms, total: 45.8 ms\n",
      "Wall time: 21.6 s\n"
     ]
    },
    {
     "name": "stderr",
     "output_type": "stream",
     "text": [
      "                                                                                \r"
     ]
    },
    {
     "data": {
      "text/plain": [
       "170458"
      ]
     },
     "execution_count": 13,
     "metadata": {},
     "output_type": "execute_result"
    }
   ],
   "source": [
    "%%time\n",
    "train, test = events.rdd.randomSplit([0.95, 0.05], seed=0)\n",
    "\n",
    "# speed-up, we request it often\n",
    "train.cache()\n",
    "test.cache()\n",
    "\n",
    "train.count()\n",
    "test.count()"
   ]
  },
  {
   "cell_type": "code",
   "execution_count": 14,
   "metadata": {
    "id": "SXbvVywXkySH",
    "outputId": "666bcaa2-c013-4cf8-d565-b64eb104f3ed",
    "tags": []
   },
   "outputs": [
    {
     "data": {
      "text/plain": [
       "[Row(userId=0, artistId=335, plays=1, skips=0),\n",
       " Row(userId=0, artistId=708, plays=1, skips=0),\n",
       " Row(userId=0, artistId=710, plays=2, skips=1),\n",
       " Row(userId=0, artistId=815, plays=1, skips=1),\n",
       " Row(userId=0, artistId=880, plays=1, skips=1)]"
      ]
     },
     "execution_count": 14,
     "metadata": {},
     "output_type": "execute_result"
    }
   ],
   "source": [
    "train.take(5)"
   ]
  },
  {
   "cell_type": "code",
   "execution_count": 15,
   "metadata": {
    "id": "EW3G0zHzkySI",
    "outputId": "1f1c59f9-de8a-4a2c-a96e-306a116a58c5",
    "tags": []
   },
   "outputs": [
    {
     "name": "stderr",
     "output_type": "stream",
     "text": [
      "                                                                                \r"
     ]
    },
    {
     "name": "stdout",
     "output_type": "stream",
     "text": [
      "CPU times: user 500 ms, sys: 98.1 ms, total: 598 ms\n",
      "Wall time: 1min 9s\n"
     ]
    }
   ],
   "source": [
    "%%time\n",
    "\n",
    "from pyspark.mllib.recommendation import ALS\n",
    "\n",
    "model = ALS().trainImplicit(\n",
    "    train.map(lambda x: (x.userId, x.artistId, np.log2(x.plays + 1))),\n",
    "    rank=32, iterations=10, lambda_=0.01, alpha=10.0, seed=0\n",
    ")"
   ]
  },
  {
   "cell_type": "code",
   "execution_count": 16,
   "metadata": {
    "id": "QdiUM_tbkySI",
    "outputId": "1d1dddcd-f91b-4ac8-eed3-1f85de4f02eb",
    "tags": []
   },
   "outputs": [
    {
     "name": "stderr",
     "output_type": "stream",
     "text": [
      "                                                                                \r"
     ]
    },
    {
     "name": "stdout",
     "output_type": "stream",
     "text": [
      "(52665, 32)\n"
     ]
    }
   ],
   "source": [
    "# we take all artist profiles\n",
    "import numpy as np\n",
    "\n",
    "artist_to_name = {}\n",
    "for row in artists.collect():\n",
    "    artist_to_name[row.artistId] = row.artistName\n",
    "\n",
    "artist_ids = []\n",
    "artist_names = []\n",
    "artist_profiles = []\n",
    "\n",
    "for artistId, profile in model.productFeatures().collect():\n",
    "    artist_ids.append(artistId)\n",
    "    artist_names.append(artist_to_name[artistId])\n",
    "    artist_profiles.append(profile)\n",
    "\n",
    "artist_ids = np.array(artist_ids)\n",
    "artist_names = np.array(artist_names)\n",
    "artist_profiles = np.vstack(artist_profiles)\n",
    "print(artist_profiles.shape)"
   ]
  },
  {
   "cell_type": "markdown",
   "metadata": {
    "id": "JPnd1zQJkySJ"
   },
   "source": [
    "# Artists similarity"
   ]
  },
  {
   "cell_type": "code",
   "execution_count": 17,
   "metadata": {
    "id": "EOoZNiWgkySJ",
    "outputId": "2e3a1310-e943-475b-cb10-2da99551a4fc",
    "tags": []
   },
   "outputs": [
    {
     "data": {
      "text/plain": [
       "{11563: '50 Cent', 22207: 'AC/DC', 32914: 'Coldplay'}"
      ]
     },
     "execution_count": 17,
     "metadata": {},
     "output_type": "execute_result"
    }
   ],
   "source": [
    "target_artists = {index: v \n",
    "                  for index, v in enumerate(artist_names) \n",
    "                  if \"Coldplay\" == v or \"50 Cent\" == v or \"AC/DC\" == v}\n",
    "target_artists"
   ]
  },
  {
   "cell_type": "code",
   "execution_count": 18,
   "metadata": {
    "id": "KKuvYawPkySJ",
    "outputId": "536ec891-e9d4-4980-8721-729446d6176e",
    "tags": []
   },
   "outputs": [
    {
     "name": "stdout",
     "output_type": "stream",
     "text": [
      "############# 50 Cent #############\n",
      "50 Cent \t 1.0\n",
      "Dr. Dre \t 0.8717692118912255\n",
      "Lloyd Banks \t 0.8625710691278187\n",
      "Jay-Z \t 0.8352357952062348\n",
      "2Chainz \t 0.8225631381331043\n",
      "Cashis \t 0.8124567354985288\n",
      "Snoop Dogg \t 0.8104842145938375\n",
      "Missy  Elliott \t 0.8056353255938117\n",
      "Akon \t 0.7981630854199838\n",
      "Busta Rhymes \t 0.7877800832384918\n",
      "############# AC/DC #############\n",
      "AC/DC \t 1.0\n",
      "The Offspring \t 0.8808062857712116\n",
      "Nirvana \t 0.8766071953113563\n",
      "Metallica \t 0.8748606350664875\n",
      "Red Hot Chili Peppers \t 0.8738631982477807\n",
      "System of A Down \t 0.8536837930773402\n",
      "Limp Bizkit \t 0.8534537400121748\n",
      "Bon Jovi \t 0.8506781841069039\n",
      "Nickelback \t 0.8467098655356567\n",
      "Scorpions \t 0.842406452076229\n",
      "############# Coldplay #############\n",
      "Coldplay \t 1.0\n",
      "Lana Del Rey \t 0.9573989776119042\n",
      "Adele \t 0.9547716910424779\n",
      "OneRepublic \t 0.9511146699908802\n",
      "Maroon 5 \t 0.9508569586033432\n",
      "Sam Smith \t 0.9296947895827019\n",
      "Katy Perry \t 0.9213200117105023\n",
      "Ed Sheeran \t 0.9199729963886845\n",
      "Pharrell Williams \t 0.9198391159734666\n",
      "Twenty One Pilots \t 0.9186209293610231\n"
     ]
    }
   ],
   "source": [
    "import scipy\n",
    "import scipy.spatial\n",
    "\n",
    "for index, name in target_artists.items():\n",
    "    print(\"#############\", name, \"#############\")\n",
    "    \n",
    "    cosines = (-scipy.spatial.distance.cdist([artist_profiles[index]], artist_profiles, metric='cosine') + 1)[0]\n",
    "    cosines[np.isnan(cosines)] = -1e20\n",
    "\n",
    "    for idx in np.argsort(cosines)[::-1][:10]:\n",
    "        print(artist_names[idx], \"\\t\", cosines[idx])"
   ]
  },
  {
   "cell_type": "markdown",
   "metadata": {
    "id": "Yd77-fNhkySK"
   },
   "source": [
    "# NDCG"
   ]
  },
  {
   "cell_type": "code",
   "execution_count": 19,
   "metadata": {
    "id": "I0jLX7kEkySK",
    "tags": []
   },
   "outputs": [],
   "source": [
    "def dcg(ratings):\n",
    "    return float(np.sum((2 ** np.array(ratings, np.float32) - 1) / np.log2(np.arange(1, len(ratings) + 1) + 1)))\n",
    "\n",
    "\n",
    "def ndcg(ratings, at=None):\n",
    "    idcg = dcg(sorted(ratings, reverse=True))\n",
    "    return dcg(ratings) / idcg if idcg > 0 else 0\n",
    "\n",
    "\n",
    "def ndcg_score(y_true, y_pred):\n",
    "    assert y_true.shape == y_pred.shape\n",
    "    order = np.argsort(y_pred)[::-1]\n",
    "    return ndcg(y_true[order])\n",
    "\n",
    "\n",
    "# tests\n",
    "def test1():\n",
    "    y_true = np.array([  0,   0,   2,   1,   0])\n",
    "    y_pred = np.array([0.2, 0.1, 0.5, 0.3, 0.4])\n",
    "    correct_ndcg = (3 / np.log(1 + 1) + 1 / np.log(3 + 1)) / (3 / np.log(1 + 1) + 1 / np.log(2 + 1))\n",
    "    assert np.allclose(ndcg_score(y_true, y_pred), correct_ndcg)\n",
    "\n",
    "    \n",
    "def test2():\n",
    "    y_true = np.array([  0,   0,   0,   0,   0])\n",
    "    y_pred = np.array([0.2, 0.1, 0.5, 0.3, 0.4])\n",
    "    assert np.allclose(ndcg_score(y_true, y_pred), 0.0)\n",
    "\n",
    "    \n",
    "def test3():\n",
    "    y_true = np.array([  1,   0,   0,   0,   0])\n",
    "    y_pred = np.array([0.2, 0.1, 0.5, 0.3, 0.4])\n",
    "    correct_ndcg = (1 / np.log(4 + 1)) / (1 / np.log(1 + 1))\n",
    "    assert np.allclose(ndcg_score(y_true, y_pred), correct_ndcg)\n",
    "\n",
    "\n",
    "test1()\n",
    "test2()\n",
    "test3()"
   ]
  },
  {
   "cell_type": "code",
   "execution_count": 20,
   "metadata": {
    "id": "h69sr7PUkySL",
    "outputId": "f8694b7b-8de6-4318-ee15-b0490f54599d",
    "tags": []
   },
   "outputs": [
    {
     "name": "stdout",
     "output_type": "stream",
     "text": [
      "45.64282878502658\n",
      "33.64282878502658\n",
      "44.963945628433834\n"
     ]
    }
   ],
   "source": [
    "print(dcg([5, 4, 3, 2, 1]))\n",
    "print(dcg([3, 4, 5, 2, 1]))\n",
    "print(dcg([5, 4, 1, 2, 3]))"
   ]
  },
  {
   "cell_type": "markdown",
   "metadata": {
    "id": "ppbm6PSQkySL"
   },
   "source": [
    "# Calc NDCG for baseline\n",
    "\n",
    "Range artists by popularity"
   ]
  },
  {
   "cell_type": "code",
   "execution_count": 21,
   "metadata": {
    "id": "xlIs-XankySM",
    "tags": []
   },
   "outputs": [
    {
     "name": "stderr",
     "output_type": "stream",
     "text": [
      "                                                                                \r"
     ]
    }
   ],
   "source": [
    "artist_to_popularity = (\n",
    "    train\n",
    "    .map(lambda x: (x.artistId, x.plays))\n",
    "    .reduceByKey(lambda a, b: a + b)\n",
    "    .collect()\n",
    ")\n",
    "\n",
    "artist_to_popularity = {a: p for a, p in artist_to_popularity}"
   ]
  },
  {
   "cell_type": "code",
   "execution_count": 22,
   "metadata": {
    "id": "73MCLzJMkySM",
    "tags": []
   },
   "outputs": [],
   "source": [
    "predictions_and_ratings_per_user = (\n",
    "    test\n",
    "    .map(lambda x: (x.userId, (artist_to_popularity.get(x.artistId, 0), np.log2(x.plays + 1))))\n",
    "    .groupByKey()\n",
    "    .map(lambda x: (x[0], list(x[1])))\n",
    ")"
   ]
  },
  {
   "cell_type": "code",
   "execution_count": 23,
   "metadata": {
    "id": "8WUNhjVskySM",
    "outputId": "60542a6f-09fd-419f-877b-f50e1c381659",
    "scrolled": true,
    "tags": []
   },
   "outputs": [
    {
     "name": "stderr",
     "output_type": "stream",
     "text": [
      "                                                                                \r"
     ]
    },
    {
     "data": {
      "text/plain": [
       "[(0,\n",
       "  [(2371, 1.0),\n",
       "   (22102, 3.321928094887362),\n",
       "   (609, 1.0),\n",
       "   (7399, 1.0),\n",
       "   (884, 1.584962500721156),\n",
       "   (481, 1.584962500721156),\n",
       "   (4008, 1.0),\n",
       "   (2325, 1.584962500721156),\n",
       "   (774, 1.0),\n",
       "   (1035, 1.584962500721156),\n",
       "   (4484, 3.584962500721156),\n",
       "   (234, 1.0),\n",
       "   (1523, 1.0),\n",
       "   (2273, 1.584962500721156),\n",
       "   (1243, 2.321928094887362),\n",
       "   (5388, 2.321928094887362),\n",
       "   (7856, 5.977279923499917),\n",
       "   (781, 1.0),\n",
       "   (4743, 1.584962500721156),\n",
       "   (1234, 1.0),\n",
       "   (1569, 0.0),\n",
       "   (650, 0.0),\n",
       "   (817, 0.0),\n",
       "   (1579, 0.0),\n",
       "   (1397, 0.0),\n",
       "   (9438, 0.0),\n",
       "   (9, 0.0),\n",
       "   (773, 0.0),\n",
       "   (543, 0.0),\n",
       "   (46, 0.0),\n",
       "   (574, 0.0),\n",
       "   (9578, 0.0),\n",
       "   (241, 0.0)])]"
      ]
     },
     "execution_count": 23,
     "metadata": {},
     "output_type": "execute_result"
    }
   ],
   "source": [
    "predictions_and_ratings_per_user.take(1)"
   ]
  },
  {
   "cell_type": "code",
   "execution_count": 24,
   "metadata": {
    "id": "GDD33LZ4kySM",
    "outputId": "29621afd-1f5d-41ff-b3bb-b808a8501e4c",
    "tags": []
   },
   "outputs": [
    {
     "name": "stderr",
     "output_type": "stream",
     "text": [
      "                                                                                \r"
     ]
    },
    {
     "data": {
      "text/plain": [
       "0.6610124103340557"
      ]
     },
     "execution_count": 24,
     "metadata": {},
     "output_type": "execute_result"
    }
   ],
   "source": [
    "def ndcg_for_user(x):\n",
    "    y_pred = np.array([e[0] for e in x])\n",
    "    y_true = np.array([e[1] for e in x])\n",
    "    return ndcg_score(y_true, y_pred)\n",
    "    \n",
    "(\n",
    "    predictions_and_ratings_per_user\n",
    "    .map(lambda x: ndcg_for_user(x[1]))\n",
    "    .mean()\n",
    ")"
   ]
  },
  {
   "cell_type": "markdown",
   "metadata": {
    "id": "T6QWgzj9kySN"
   },
   "source": [
    "# NDCG for iALS"
   ]
  },
  {
   "cell_type": "code",
   "execution_count": 25,
   "metadata": {
    "id": "5fO5ES8nkySN",
    "tags": []
   },
   "outputs": [
    {
     "name": "stderr",
     "output_type": "stream",
     "text": [
      "                                                                                \r"
     ]
    }
   ],
   "source": [
    "predictions = (\n",
    "    model\n",
    "    .predictAll(test.map(lambda x: (x.userId, x.artistId)))\n",
    "    .map(lambda x: ((x[0], x[1]), x[2]))\n",
    ")"
   ]
  },
  {
   "cell_type": "code",
   "execution_count": 26,
   "metadata": {
    "id": "6FB4mSjskySN",
    "outputId": "199c4932-491d-47fd-fee8-ae971df65133",
    "tags": []
   },
   "outputs": [
    {
     "name": "stderr",
     "output_type": "stream",
     "text": [
      "                                                                                \r"
     ]
    },
    {
     "data": {
      "text/plain": [
       "[((1858, 17312), 0.38881211524726256),\n",
       " ((3949, 17312), 0.8030994761437918),\n",
       " ((4147, 17312), -0.1829481619020704),\n",
       " ((2464, 17312), 0.7113483728016025),\n",
       " ((77, 3456), 0.30611075609806926)]"
      ]
     },
     "execution_count": 26,
     "metadata": {},
     "output_type": "execute_result"
    }
   ],
   "source": [
    "predictions.take(5)"
   ]
  },
  {
   "cell_type": "code",
   "execution_count": 27,
   "metadata": {
    "id": "ObzL9CnqkySO",
    "tags": []
   },
   "outputs": [],
   "source": [
    "predictions_and_ratings_per_user = (\n",
    "    predictions\n",
    "    .join(test.map(lambda x: ((x.userId, x.artistId), np.log2(x.plays + 1))))\n",
    "    .map(lambda x: (x[0][0], x[1]))\n",
    "    .groupByKey()\n",
    "    .map(lambda x: (x[0], list(x[1])))\n",
    ")"
   ]
  },
  {
   "cell_type": "code",
   "execution_count": 28,
   "metadata": {
    "id": "5rDwuDxDkySO",
    "outputId": "41f91bea-a5c1-40ed-928f-d81d127c2323",
    "tags": []
   },
   "outputs": [
    {
     "name": "stderr",
     "output_type": "stream",
     "text": [
      "                                                                                \r"
     ]
    },
    {
     "data": {
      "text/plain": [
       "[(864,\n",
       "  [(0.7832904146298161, 1.0),\n",
       "   (0.8023146751650059, 1.0),\n",
       "   (0.10020332468113025, 1.0),\n",
       "   (0.7946341906902686, 1.0),\n",
       "   (0.7894454254207347, 1.0),\n",
       "   (0.4687807864869595, 0.0),\n",
       "   (0.06172397932051743, 0.0),\n",
       "   (0.9913096478838179, 1.0),\n",
       "   (0.641669151598321, 1.0),\n",
       "   (0.6555492335487434, 1.0),\n",
       "   (1.0480275904604701, 0.0),\n",
       "   (0.6459493999697666, 1.0),\n",
       "   (0.3741283354431978, 0.0),\n",
       "   (0.6796485104395817, 1.0),\n",
       "   (0.11280977513852944, 2.0),\n",
       "   (0.4805730480743158, 1.584962500721156),\n",
       "   (0.502553240607686, 1.0),\n",
       "   (1.0070265407051093, 2.584962500721156),\n",
       "   (0.047524256567414366, 1.0),\n",
       "   (0.4254244675221187, 1.584962500721156),\n",
       "   (0.8290185031117128, 2.584962500721156),\n",
       "   (0.9726173416613716, 2.321928094887362),\n",
       "   (1.0403367124985738, 1.584962500721156),\n",
       "   (0.1763616266886649, 1.0)])]"
      ]
     },
     "execution_count": 28,
     "metadata": {},
     "output_type": "execute_result"
    }
   ],
   "source": [
    "predictions_and_ratings_per_user.take(1)"
   ]
  },
  {
   "cell_type": "code",
   "execution_count": 29,
   "metadata": {
    "id": "hxxJmgDIkySO",
    "outputId": "fa49dcb9-913f-4708-a816-b11ef124f601",
    "tags": []
   },
   "outputs": [
    {
     "name": "stderr",
     "output_type": "stream",
     "text": [
      "                                                                                \r"
     ]
    },
    {
     "data": {
      "text/plain": [
       "0.716527890500379"
      ]
     },
     "execution_count": 29,
     "metadata": {},
     "output_type": "execute_result"
    }
   ],
   "source": [
    "def ndcg_for_user(x):\n",
    "    y_pred = np.array([e[0] for e in x])\n",
    "    y_true = np.array([e[1] for e in x])\n",
    "    return ndcg_score(y_true, y_pred)\n",
    "    \n",
    "(\n",
    "    predictions_and_ratings_per_user\n",
    "    .map(lambda x: ndcg_for_user(x[1]))\n",
    "    .mean()\n",
    ")"
   ]
  },
  {
   "cell_type": "code",
   "execution_count": 30,
   "metadata": {
    "id": "l8f2ht3UkySO",
    "outputId": "6230bb1b-578e-40c6-c408-ba121f458c18",
    "tags": []
   },
   "outputs": [
    {
     "name": "stdout",
     "output_type": "stream",
     "text": [
      "Increased by 8.32%!\n"
     ]
    }
   ],
   "source": [
    "print(\"Increased by {:0.3}%!\".format(100 * (0.716 / 0.661 - 1)))"
   ]
  },
  {
   "cell_type": "code",
   "execution_count": null,
   "metadata": {
    "id": "jA8lIJ65kySP"
   },
   "outputs": [],
   "source": []
  }
 ],
 "metadata": {
  "colab": {
   "provenance": []
  },
  "kernelspec": {
   "display_name": "Python 3 (ipykernel)",
   "language": "python",
   "name": "python3"
  },
  "language_info": {
   "codemirror_mode": {
    "name": "ipython",
    "version": 3
   },
   "file_extension": ".py",
   "mimetype": "text/x-python",
   "name": "python",
   "nbconvert_exporter": "python",
   "pygments_lexer": "ipython3",
   "version": "3.10.9"
  },
  "vscode": {
   "interpreter": {
    "hash": "31f2aee4e71d21fbe5cf8b01ff0e069b9275f58929596ceb00d14d90e3e16cd6"
   }
  }
 },
 "nbformat": 4,
 "nbformat_minor": 4
}
