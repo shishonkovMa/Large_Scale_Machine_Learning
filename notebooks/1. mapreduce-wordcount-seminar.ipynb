{
 "cells": [
  {
   "cell_type": "markdown",
   "metadata": {},
   "source": [
    "<a target=\"_blank\" href=\"../cluster\" style=\"font-size:20px\">All Applications (YARN)</a>"
   ]
  },
  {
   "cell_type": "markdown",
   "metadata": {},
   "source": [
    "# YARN configuration\n",
    "\n",
    "https://hadoop.apache.org/docs/current/hadoop-yarn/hadoop-yarn-common/yarn-default.xml"
   ]
  },
  {
   "cell_type": "code",
   "execution_count": 1,
   "metadata": {},
   "outputs": [
    {
     "name": "stdout",
     "output_type": "stream",
     "text": [
      "<?xml version=\"1.0\"?>\r\n",
      "<configuration>\r\n",
      "    <property>\r\n",
      "        <name>yarn.nodemanager.aux-services</name>\r\n",
      "        <value>mapreduce_shuffle</value>\r\n",
      "    </property>\r\n",
      "    <property>\r\n",
      "        <name>yarn.nodemanager.env-whitelist</name>\r\n",
      "        <value>JAVA_HOME,HADOOP_COMMON_HOME,HADOOP_HDFS_HOME,HADOOP_CONF_DIR,CLASSPATH_PREPEND_DISTCACHE,HADOOP_YARN_HOME,HADOOP_MAPRED_HOME</value>\r\n",
      "    </property>\r\n",
      "    <property>\r\n",
      "        <name>yarn.scheduler.minimum-allocation-mb</name>\r\n",
      "        <value>1</value>\r\n",
      "    </property>\r\n",
      "    <property>\r\n",
      "        <name>yarn.scheduler.maximum-allocation-mb</name>\r\n",
      "        <value>3072</value>\r\n",
      "    </property>\r\n",
      "    <property>\r\n",
      "        <name>yarn.nodemanager.resource.memory-mb</name>\r\n",
      "        <value>3072</value>\r\n",
      "    </property>\r\n",
      "    <property>\r\n",
      "        <name>yarn.log-aggregation-enable</name>\r\n",
      "        <value>true</value>\r\n",
      "    </property>\r\n",
      "    <property>\r\n",
      "        <name>yarn.resource-types.memory-mb.increment-allocation</name>\r\n",
      "        <value>1</value>\r\n",
      "    </property>\r\n",
      "</configuration>\r\n"
     ]
    }
   ],
   "source": [
    "! cat $HADOOP_HOME/etc/hadoop/yarn-site.xml"
   ]
  },
  {
   "cell_type": "markdown",
   "metadata": {},
   "source": [
    "RAM usage (in MB):\n",
    "- 4096 - total\n",
    "- 1024 - for Data Node, Name Node, OS, etc\n",
    "- 3072 - for YARN containers"
   ]
  },
  {
   "cell_type": "code",
   "execution_count": 2,
   "metadata": {},
   "outputs": [
    {
     "name": "stdout",
     "output_type": "stream",
     "text": [
      "        <name>yarn.scheduler.minimum-allocation-mb</name>\r\n",
      "        <value>1</value>\r\n",
      "--\r\n",
      "        <name>yarn.scheduler.maximum-allocation-mb</name>\r\n",
      "        <value>3072</value>\r\n",
      "--\r\n",
      "        <name>yarn.nodemanager.resource.memory-mb</name>\r\n",
      "        <value>3072</value>\r\n",
      "--\r\n",
      "        <name>yarn.resource-types.memory-mb.increment-allocation</name>\r\n",
      "        <value>1</value>\r\n"
     ]
    }
   ],
   "source": [
    "! cat $HADOOP_HOME/etc/hadoop/yarn-site.xml | grep -A 1 mb "
   ]
  },
  {
   "cell_type": "markdown",
   "metadata": {},
   "source": [
    "# MapReduce configuration"
   ]
  },
  {
   "cell_type": "markdown",
   "metadata": {},
   "source": [
    "https://hadoop.apache.org/docs/current/hadoop-mapreduce-client/hadoop-mapreduce-client-core/mapred-default.xml"
   ]
  },
  {
   "cell_type": "code",
   "execution_count": 3,
   "metadata": {},
   "outputs": [
    {
     "name": "stdout",
     "output_type": "stream",
     "text": [
      "<?xml version=\"1.0\"?>\r\n",
      "<?xml-stylesheet type=\"text/xsl\" href=\"configuration.xsl\"?>\r\n",
      "<configuration>\r\n",
      "    <property>\r\n",
      "        <name>mapreduce.framework.name</name>\r\n",
      "        <value>yarn</value>\r\n",
      "    </property>\r\n",
      "    <property>\r\n",
      "        <name>mapreduce.application.classpath</name>\r\n",
      "        <value>$HADOOP_MAPRED_HOME/share/hadoop/mapreduce/*:$HADOOP_MAPRED_HOME/share/hadoop/mapreduce/lib/*</value>\r\n",
      "    </property>\r\n",
      "    <property>\r\n",
      "        <name>mapreduce.map.memory.mb</name>\r\n",
      "        <value>512</value>\r\n",
      "    </property>\r\n",
      "    <property>\r\n",
      "        <name>mapreduce.reduce.memory.mb</name>\r\n",
      "        <value>1024</value>\r\n",
      "    </property>\r\n",
      "    <property>\r\n",
      "        <name>yarn.app.mapreduce.am.resource.mb</name>\r\n",
      "        <value>1024</value>\r\n",
      "    </property>\r\n",
      "    <property>\r\n",
      "        <name>yarn.app.mapreduce.am.command-opts</name>\r\n",
      "        <value>-Xmx819m</value>\r\n",
      "    </property>\r\n",
      "    <property>\r\n",
      "        <name>mapreduce.map.speculative</name>\r\n",
      "        <value>false</value>\r\n",
      "    </property>\r\n",
      "    <property>\r\n",
      "        <name>mapreduce.reduce.speculative</name>\r\n",
      "        <value>false</value>\r\n",
      "    </property>\r\n",
      "</configuration>"
     ]
    }
   ],
   "source": [
    "! cat $HADOOP_HOME/etc/hadoop/mapred-site.xml"
   ]
  },
  {
   "cell_type": "markdown",
   "metadata": {},
   "source": [
    "Examples of RAM usage:\n",
    "- 1024 (application master) + 512 * 4 (mappers) = 3072 (total for yarn)\n",
    "- 1024 (application master) + 1024 * 2 (reducers) = 3072 (total for yarn)"
   ]
  },
  {
   "cell_type": "code",
   "execution_count": 4,
   "metadata": {},
   "outputs": [
    {
     "name": "stdout",
     "output_type": "stream",
     "text": [
      "        <name>mapreduce.map.memory.mb</name>\r\n",
      "        <value>512</value>\r\n",
      "--\r\n",
      "        <name>mapreduce.reduce.memory.mb</name>\r\n",
      "        <value>1024</value>\r\n",
      "--\r\n",
      "        <name>yarn.app.mapreduce.am.resource.mb</name>\r\n",
      "        <value>1024</value>\r\n"
     ]
    }
   ],
   "source": [
    "! cat $HADOOP_HOME/etc/hadoop/mapred-site.xml | grep -A 1 mb"
   ]
  },
  {
   "cell_type": "markdown",
   "metadata": {},
   "source": [
    "# Wikipedia dataset"
   ]
  },
  {
   "cell_type": "code",
   "execution_count": 5,
   "metadata": {},
   "outputs": [
    {
     "name": "stdout",
     "output_type": "stream",
     "text": [
      "total 208M\r\n",
      "-rw-rw-r-- 1 jovyan root  61M Nov 13 13:34 categories.jsonl\r\n",
      "-rw-rw-r-- 1 jovyan root  387 Oct 13 07:35 README.txt\r\n",
      "-rw-r--r-- 1 jovyan root 2.9M Apr  8 18:19 sample.jsonl\r\n",
      "-rw-rw-r-- 1 jovyan root 144M Mar 17 01:54 wiki.jsonl\r\n"
     ]
    }
   ],
   "source": [
    "! ls -lh wiki"
   ]
  },
  {
   "cell_type": "code",
   "execution_count": 6,
   "metadata": {
    "scrolled": true
   },
   "outputs": [
    {
     "name": "stdout",
     "output_type": "stream",
     "text": [
      "{\"title\": \"April\", \"text\": \"April\\n\\nApril is the fourth month of the year, and comes between March and May. It is one of four months to have 30 days.\\n\\nApril always begins on the same day of week as July, and additionally, January in leap years. April always ends on the same day of the week as December.\\n\\nApril's flowers are the Sweet Pea and Daisy. Its birthstone is the diamond. The meaning of the diamond is innocence.\\n\\nApril comes between March and May, making it the fourth month of the year. It also comes first in the year out of the four months that have 30 days, as June, September and November are later in the year.\\n\\nApril begins on the same day of the week as July every year and on the same day of the week as January in leap years. April ends on the same day of the week as December every year, as each other's last days are exactly 35 weeks (245 days) apart.\\n\\nIn common years, April starts on the same day of the week as October of the previous year, and in leap years, May of the previous year. In common years, April finishes on the same day of the week as July of the previous year, and in leap years, February and October of the previous year. In common years immediately after other common years, April starts on the same day of the week as January of the previous year, and in leap years and years immediately after that, April finishes on the same day of the week as January of the previous year.\\n\\nIn years immediately before common years, April starts on the same day of the week as September and December of the following year, and in years immediately before leap years, June of the following year. In years immediately before common years, April finishes on the same day of the week as September of the following year, and in years immediately before leap years, March and June of the following year.\\n\\nApril is a spring month in the Northern Hemisphere and an autumn/fall month in the Southern Hemisphere. In each hemisphere, it is the seasonal equivalent of October in the other.\\n\\nIt is unclear as to where April got its name. A common theory is that it comes from the Latin word \\\"aperire\\\", meaning \\\"to open\\\", referring to flowers opening in spring. Another theory is that the name could come from Aphrodite, the Greek goddess of love. It was originally the second month in the old Roman Calendar, before the start of the new year was put to January 1.\\n\\nQuite a few festivals are held in this month. In many Southeast Asian cultures, new year is celebrated in this month (including Songkran). In Western Christianity, Easter can be celebrated on a Sunday between March 22 and April 25. In Orthodox Christianity, it can fall between April 4 and May 8. At the end of the month, Central and Northern European cultures celebrate Walpurgis Night on April 30, marking the transition from winter into summer.\\n\\nPoets use \\\"April\\\" to mean the end of winter. For example: \\\"April showers bring May flowers.\\\"\\n\\n\\n\", \"url\": \"https://simple.wikipedia.org/wiki?curid=1\", \"id\": \"1\"}\r\n"
     ]
    }
   ],
   "source": [
    "! head -n 1 wiki/wiki.jsonl"
   ]
  },
  {
   "cell_type": "code",
   "execution_count": 7,
   "metadata": {},
   "outputs": [],
   "source": [
    "# make a sample\n",
    "! head -n 1000 wiki/wiki.jsonl > wiki/sample.jsonl"
   ]
  },
  {
   "cell_type": "markdown",
   "metadata": {},
   "source": [
    "# WordCount mapper\n",
    "\n",
    "https://hadoop.apache.org/docs/current/hadoop-streaming/HadoopStreaming.html"
   ]
  },
  {
   "cell_type": "code",
   "execution_count": 8,
   "metadata": {},
   "outputs": [
    {
     "name": "stdout",
     "output_type": "stream",
     "text": [
      "Overwriting mapper.py\n"
     ]
    }
   ],
   "source": [
    "%%file mapper.py\n",
    "import sys\n",
    "import json\n",
    "import re\n",
    "import string\n",
    "\n",
    "for line in sys.stdin:\n",
    "    text = json.loads(line)['text']\n",
    "    text = re.sub(f'[^{re.escape(string.printable)}]', ' ', text)  # not printable to space\n",
    "    words = text.lower().split()\n",
    "    for word in words:\n",
    "        print(word + \"\\t\" + \"1\")"
   ]
  },
  {
   "cell_type": "markdown",
   "metadata": {},
   "source": [
    "# Testing the mapper"
   ]
  },
  {
   "cell_type": "code",
   "execution_count": 9,
   "metadata": {},
   "outputs": [
    {
     "name": "stdout",
     "output_type": "stream",
     "text": [
      "this\t1\r\n",
      "is\t1\r\n",
      "text\t1\r\n"
     ]
    }
   ],
   "source": [
    "! echo \"{\\\"text\\\": \\\"This  is  text\\\"}\" | python ./mapper.py"
   ]
  },
  {
   "cell_type": "markdown",
   "metadata": {},
   "source": [
    "# WordCount reducer\n",
    "\n",
    "https://hadoop.apache.org/docs/current/hadoop-streaming/HadoopStreaming.html"
   ]
  },
  {
   "cell_type": "code",
   "execution_count": 10,
   "metadata": {},
   "outputs": [
    {
     "name": "stdout",
     "output_type": "stream",
     "text": [
      "aaa\t1\n",
      "aaa\t1\n",
      "aaa\t1\n",
      "aaa\t1\n",
      "aaa\t1\n",
      "aaa\t1\n",
      "aaa\t1\n",
      "aaa\t1\n",
      "aaa\t1\n",
      "aaa\t1\n",
      "bbb\t1\n",
      "bbb\t1\n",
      "bbb\t1\n",
      "bbb\t1\n",
      "bbb\t1\n"
     ]
    }
   ],
   "source": [
    "# reducer input\n",
    "! python -c \"print('\\n'.join(['aaa\\t1'] * 10 + ['bbb\\t1'] * 5))\""
   ]
  },
  {
   "cell_type": "code",
   "execution_count": 11,
   "metadata": {},
   "outputs": [
    {
     "name": "stdout",
     "output_type": "stream",
     "text": [
      "Overwriting reducer.py\n"
     ]
    }
   ],
   "source": [
    "%%file reducer.py\n",
    "import sys\n",
    "\n",
    "prev_key = None\n",
    "count = 0\n",
    "for line in sys.stdin:  # stream is sorted by key\n",
    "    key, value = line.split(\"\\t\")\n",
    "    \n",
    "    if prev_key is not None and key != prev_key:\n",
    "        # new key in stream, dump previous\n",
    "        print(prev_key + \"\\t\" + str(count))\n",
    "        count = 0\n",
    "    \n",
    "    count += int(value)\n",
    "    prev_key = key\n",
    "\n",
    "# dump last key\n",
    "print(prev_key + \"\\t\" + str(count))"
   ]
  },
  {
   "cell_type": "markdown",
   "metadata": {},
   "source": [
    "# Testing the reducer"
   ]
  },
  {
   "cell_type": "code",
   "execution_count": 12,
   "metadata": {},
   "outputs": [
    {
     "name": "stdout",
     "output_type": "stream",
     "text": [
      "aaa\t10\r\n",
      "bbb\t5\r\n"
     ]
    }
   ],
   "source": [
    "! python -c \"print('\\n'.join(['aaa\\t1'] * 10 + ['bbb\\t1'] * 5))\" | python ./reducer.py"
   ]
  },
  {
   "cell_type": "markdown",
   "metadata": {},
   "source": [
    "# Testing MapReduce Locally"
   ]
  },
  {
   "cell_type": "code",
   "execution_count": 13,
   "metadata": {
    "scrolled": false
   },
   "outputs": [
    {
     "name": "stdout",
     "output_type": "stream",
     "text": [
      "the\t34538\n",
      "of\t15944\n",
      "and\t12966\n",
      "in\t12448\n",
      "a\t11322\n",
      "is\t10870\n",
      "to\t9469\n",
      "are\t5598\n",
      "it\t4330\n",
      "that\t4057\n"
     ]
    }
   ],
   "source": [
    "%%bash\n",
    "cat wiki/sample.jsonl | python ./mapper.py | sort -k 1,1 -t $'\\t' | python ./reducer.py > result.txt\n",
    "cat result.txt | sort -k 2,2 -t $'\\t' -n -r | head -n 10"
   ]
  },
  {
   "cell_type": "markdown",
   "metadata": {},
   "source": [
    "# Copy files to HDFS"
   ]
  },
  {
   "cell_type": "code",
   "execution_count": 14,
   "metadata": {},
   "outputs": [],
   "source": [
    "! hadoop fs -copyFromLocal wiki /"
   ]
  },
  {
   "cell_type": "code",
   "execution_count": 15,
   "metadata": {},
   "outputs": [
    {
     "name": "stdout",
     "output_type": "stream",
     "text": [
      "Found 4 items\r\n",
      "-rw-r--r--   1 jovyan supergroup        387 2023-04-08 18:19 /wiki/README.txt\r\n",
      "-rw-r--r--   1 jovyan supergroup     60.9 M 2023-04-08 18:19 /wiki/categories.jsonl\r\n",
      "-rw-r--r--   1 jovyan supergroup      2.9 M 2023-04-08 18:19 /wiki/sample.jsonl\r\n",
      "-rw-r--r--   1 jovyan supergroup    143.4 M 2023-04-08 18:19 /wiki/wiki.jsonl\r\n"
     ]
    }
   ],
   "source": [
    "! hadoop fs -ls -h /wiki"
   ]
  },
  {
   "cell_type": "markdown",
   "metadata": {},
   "source": [
    "# Run on a Hadoop cluster\n",
    "\n",
    "https://hadoop.apache.org/docs/current/hadoop-streaming/HadoopStreaming.html\n",
    "\n",
    "https://hadoop.apache.org/docs/current/hadoop-streaming/HadoopStreaming.html#Packaging_Files_With_Job_Submissions"
   ]
  },
  {
   "cell_type": "code",
   "execution_count": 16,
   "metadata": {},
   "outputs": [
    {
     "name": "stdout",
     "output_type": "stream",
     "text": [
      "Traceback (most recent call last):\r\n",
      "  File \"<string>\", line 1, in <module>\r\n",
      "ModuleNotFoundError: No module named 'numpy'\r\n"
     ]
    }
   ],
   "source": [
    "! /usr/bin/python3.6 -c \"import numpy\""
   ]
  },
  {
   "cell_type": "code",
   "execution_count": 17,
   "metadata": {},
   "outputs": [],
   "source": [
    "! /opt/conda/bin/python3.6 -c \"import numpy\""
   ]
  },
  {
   "cell_type": "code",
   "execution_count": 18,
   "metadata": {
    "scrolled": false
   },
   "outputs": [
    {
     "name": "stdout",
     "output_type": "stream",
     "text": [
      "rm: `/word-count': No such file or directory\n",
      "2023-04-08 18:19:57,807 WARN streaming.StreamJob: -file option is deprecated, please use generic option -files instead.\n",
      "packageJobJar: [mapper.py, reducer.py] [/usr/local/hadoop/share/hadoop/tools/lib/hadoop-streaming-3.3.4.jar] /tmp/streamjob6296674256803778369.jar tmpDir=null\n",
      "2023-04-08 18:19:58,612 INFO client.DefaultNoHARMFailoverProxyProvider: Connecting to ResourceManager at /0.0.0.0:8032\n",
      "2023-04-08 18:19:58,789 INFO client.DefaultNoHARMFailoverProxyProvider: Connecting to ResourceManager at /0.0.0.0:8032\n",
      "2023-04-08 18:19:59,043 INFO mapreduce.JobResourceUploader: Disabling Erasure Coding for path: /tmp/hadoop-yarn/staging/jovyan/.staging/job_1680545577204_0001\n",
      "2023-04-08 18:19:59,373 INFO mapred.FileInputFormat: Total input files to process : 1\n",
      "2023-04-08 18:19:59,431 INFO mapreduce.JobSubmitter: number of splits:2\n",
      "2023-04-08 18:19:59,538 INFO mapreduce.JobSubmitter: Submitting tokens for job: job_1680545577204_0001\n",
      "2023-04-08 18:19:59,538 INFO mapreduce.JobSubmitter: Executing with tokens: []\n",
      "2023-04-08 18:19:59,707 INFO conf.Configuration: resource-types.xml not found\n",
      "2023-04-08 18:19:59,708 INFO resource.ResourceUtils: Unable to find 'resource-types.xml'.\n",
      "2023-04-08 18:19:59,956 INFO impl.YarnClientImpl: Submitted application application_1680545577204_0001\n",
      "2023-04-08 18:19:59,999 INFO mapreduce.Job: The url to track the job: http://e66fd5c8a9a7:8088/proxy/application_1680545577204_0001/\n",
      "2023-04-08 18:20:00,001 INFO mapreduce.Job: Running job: job_1680545577204_0001\n",
      "2023-04-08 18:20:08,102 INFO mapreduce.Job: Job job_1680545577204_0001 running in uber mode : false\n",
      "2023-04-08 18:20:08,103 INFO mapreduce.Job:  map 0% reduce 0%\n",
      "2023-04-08 18:20:13,160 INFO mapreduce.Job:  map 100% reduce 0%\n",
      "2023-04-08 18:20:19,189 INFO mapreduce.Job:  map 100% reduce 100%\n",
      "2023-04-08 18:20:19,196 INFO mapreduce.Job: Job job_1680545577204_0001 completed successfully\n",
      "2023-04-08 18:20:19,282 INFO mapreduce.Job: Counters: 54\n",
      "\tFile System Counters\n",
      "\t\tFILE: Number of bytes read=4789900\n",
      "\t\tFILE: Number of bytes written=10418128\n",
      "\t\tFILE: Number of read operations=0\n",
      "\t\tFILE: Number of large read operations=0\n",
      "\t\tFILE: Number of write operations=0\n",
      "\t\tHDFS: Number of bytes read=3008126\n",
      "\t\tHDFS: Number of bytes written=522039\n",
      "\t\tHDFS: Number of read operations=11\n",
      "\t\tHDFS: Number of large read operations=0\n",
      "\t\tHDFS: Number of write operations=2\n",
      "\t\tHDFS: Number of bytes read erasure-coded=0\n",
      "\tJob Counters \n",
      "\t\tLaunched map tasks=2\n",
      "\t\tLaunched reduce tasks=1\n",
      "\t\tData-local map tasks=2\n",
      "\t\tTotal time spent by all maps in occupied slots (ms)=3206656\n",
      "\t\tTotal time spent by all reduces in occupied slots (ms)=3104768\n",
      "\t\tTotal time spent by all map tasks (ms)=6263\n",
      "\t\tTotal time spent by all reduce tasks (ms)=3032\n",
      "\t\tTotal vcore-milliseconds taken by all map tasks=6263\n",
      "\t\tTotal vcore-milliseconds taken by all reduce tasks=3032\n",
      "\t\tTotal megabyte-milliseconds taken by all map tasks=3206656\n",
      "\t\tTotal megabyte-milliseconds taken by all reduce tasks=3104768\n",
      "\tMap-Reduce Framework\n",
      "\t\tMap input records=1000\n",
      "\t\tMap output records=484654\n",
      "\t\tMap output bytes=3820586\n",
      "\t\tMap output materialized bytes=4789906\n",
      "\t\tInput split bytes=182\n",
      "\t\tCombine input records=0\n",
      "\t\tCombine output records=0\n",
      "\t\tReduce input groups=48539\n",
      "\t\tReduce shuffle bytes=4789906\n",
      "\t\tReduce input records=484654\n",
      "\t\tReduce output records=48539\n",
      "\t\tSpilled Records=969308\n",
      "\t\tShuffled Maps =2\n",
      "\t\tFailed Shuffles=0\n",
      "\t\tMerged Map outputs=2\n",
      "\t\tGC time elapsed (ms)=502\n",
      "\t\tCPU time spent (ms)=6770\n",
      "\t\tPhysical memory (bytes) snapshot=1228259328\n",
      "\t\tVirtual memory (bytes) snapshot=6965350400\n",
      "\t\tTotal committed heap usage (bytes)=1200619520\n",
      "\t\tPeak Map Physical memory (bytes)=459272192\n",
      "\t\tPeak Map Virtual memory (bytes)=2173595648\n",
      "\t\tPeak Reduce Physical memory (bytes)=311136256\n",
      "\t\tPeak Reduce Virtual memory (bytes)=2620420096\n",
      "\tShuffle Errors\n",
      "\t\tBAD_ID=0\n",
      "\t\tCONNECTION=0\n",
      "\t\tIO_ERROR=0\n",
      "\t\tWRONG_LENGTH=0\n",
      "\t\tWRONG_MAP=0\n",
      "\t\tWRONG_REDUCE=0\n",
      "\tFile Input Format Counters \n",
      "\t\tBytes Read=3007944\n",
      "\tFile Output Format Counters \n",
      "\t\tBytes Written=522039\n",
      "2023-04-08 18:20:19,283 INFO streaming.StreamJob: Output directory: /word-count\n"
     ]
    }
   ],
   "source": [
    "! hadoop fs -rm -r /word-count\n",
    "\n",
    "! mapred streaming \\\n",
    "  -input /wiki/sample.jsonl \\\n",
    "  -output /word-count \\\n",
    "  -mapper \"/opt/conda/bin/python3.6 mapper.py\" \\\n",
    "  -reducer \"/opt/conda/bin/python3.6 reducer.py\" \\\n",
    "  -file mapper.py \\\n",
    "  -file reducer.py"
   ]
  },
  {
   "cell_type": "code",
   "execution_count": 19,
   "metadata": {},
   "outputs": [
    {
     "name": "stdout",
     "output_type": "stream",
     "text": [
      "Found 2 items\r\n",
      "-rw-r--r--   1 jovyan supergroup          0 2023-04-08 18:20 /word-count/_SUCCESS\r\n",
      "-rw-r--r--   1 jovyan supergroup     522039 2023-04-08 18:20 /word-count/part-00000\r\n"
     ]
    }
   ],
   "source": [
    "! hadoop fs -ls /word-count"
   ]
  },
  {
   "cell_type": "code",
   "execution_count": 20,
   "metadata": {},
   "outputs": [
    {
     "name": "stdout",
     "output_type": "stream",
     "text": [
      "the\t34538\n",
      "of\t15944\n",
      "and\t12966\n",
      "in\t12448\n",
      "a\t11322\n",
      "is\t10870\n",
      "to\t9469\n",
      "are\t5598\n",
      "it\t4330\n",
      "that\t4057\n"
     ]
    }
   ],
   "source": [
    "%%bash\n",
    "hadoop fs -cat \"/word-count/*\" | sort -k 2,2 -t $'\\t' -n -r | head -n 10"
   ]
  },
  {
   "cell_type": "markdown",
   "metadata": {},
   "source": [
    "# Catching an error in mapper"
   ]
  },
  {
   "cell_type": "code",
   "execution_count": 21,
   "metadata": {},
   "outputs": [
    {
     "name": "stdout",
     "output_type": "stream",
     "text": [
      "Overwriting mapper.py\n"
     ]
    }
   ],
   "source": [
    "%%file mapper.py\n",
    "import sys\n",
    "import json\n",
    "import re\n",
    "import string\n",
    "\n",
    "for line in sys.stdin:\n",
    "    text = json.loads(line)['text123']  # error: missing key!\n",
    "    text = re.sub(f'[^{re.escape(string.printable)}]', ' ', text)  # not printable to space\n",
    "    words = text.lower().split()\n",
    "    for word in words:\n",
    "        print(word + \"\\t\" + \"1\")"
   ]
  },
  {
   "cell_type": "code",
   "execution_count": 22,
   "metadata": {},
   "outputs": [
    {
     "name": "stdout",
     "output_type": "stream",
     "text": [
      "Deleted /word-count\n",
      "2023-04-08 18:20:51,494 WARN streaming.StreamJob: -file option is deprecated, please use generic option -files instead.\n",
      "packageJobJar: [mapper.py, reducer.py] [/usr/local/hadoop/share/hadoop/tools/lib/hadoop-streaming-3.3.4.jar] /tmp/streamjob567827242542893164.jar tmpDir=null\n",
      "2023-04-08 18:20:53,065 INFO client.DefaultNoHARMFailoverProxyProvider: Connecting to ResourceManager at /0.0.0.0:8032\n",
      "2023-04-08 18:20:53,412 INFO client.DefaultNoHARMFailoverProxyProvider: Connecting to ResourceManager at /0.0.0.0:8032\n",
      "2023-04-08 18:20:53,898 INFO mapreduce.JobResourceUploader: Disabling Erasure Coding for path: /tmp/hadoop-yarn/staging/jovyan/.staging/job_1680545577204_0002\n",
      "2023-04-08 18:20:54,826 INFO mapred.FileInputFormat: Total input files to process : 1\n",
      "2023-04-08 18:20:55,108 INFO mapreduce.JobSubmitter: number of splits:2\n",
      "2023-04-08 18:20:55,477 INFO mapreduce.JobSubmitter: Submitting tokens for job: job_1680545577204_0002\n",
      "2023-04-08 18:20:55,477 INFO mapreduce.JobSubmitter: Executing with tokens: []\n",
      "2023-04-08 18:20:55,849 INFO conf.Configuration: resource-types.xml not found\n",
      "2023-04-08 18:20:55,849 INFO resource.ResourceUtils: Unable to find 'resource-types.xml'.\n",
      "2023-04-08 18:20:56,176 INFO impl.YarnClientImpl: Submitted application application_1680545577204_0002\n",
      "2023-04-08 18:20:56,299 INFO mapreduce.Job: The url to track the job: http://e66fd5c8a9a7:8088/proxy/application_1680545577204_0002/\n",
      "2023-04-08 18:20:56,311 INFO mapreduce.Job: Running job: job_1680545577204_0002\n",
      "2023-04-08 18:21:07,728 INFO mapreduce.Job: Job job_1680545577204_0002 running in uber mode : false\n",
      "2023-04-08 18:21:07,729 INFO mapreduce.Job:  map 0% reduce 0%\n",
      "2023-04-08 18:21:14,848 INFO mapreduce.Job: Task Id : attempt_1680545577204_0002_m_000001_0, Status : FAILED\n",
      "Error: java.lang.RuntimeException: PipeMapRed.waitOutputThreads(): subprocess failed with code 1\n",
      "\tat org.apache.hadoop.streaming.PipeMapRed.waitOutputThreads(PipeMapRed.java:326)\n",
      "\tat org.apache.hadoop.streaming.PipeMapRed.mapRedFinished(PipeMapRed.java:539)\n",
      "\tat org.apache.hadoop.streaming.PipeMapper.close(PipeMapper.java:130)\n",
      "\tat org.apache.hadoop.mapred.MapRunner.run(MapRunner.java:61)\n",
      "\tat org.apache.hadoop.streaming.PipeMapRunner.run(PipeMapRunner.java:34)\n",
      "\tat org.apache.hadoop.mapred.MapTask.runOldMapper(MapTask.java:466)\n",
      "\tat org.apache.hadoop.mapred.MapTask.run(MapTask.java:350)\n",
      "\tat org.apache.hadoop.mapred.YarnChild$2.run(YarnChild.java:178)\n",
      "\tat java.security.AccessController.doPrivileged(Native Method)\n",
      "\tat javax.security.auth.Subject.doAs(Subject.java:422)\n",
      "\tat org.apache.hadoop.security.UserGroupInformation.doAs(UserGroupInformation.java:1878)\n",
      "\tat org.apache.hadoop.mapred.YarnChild.main(YarnChild.java:172)\n",
      "\n",
      "2023-04-08 18:21:14,877 INFO mapreduce.Job: Task Id : attempt_1680545577204_0002_m_000000_0, Status : FAILED\n",
      "Error: java.lang.RuntimeException: PipeMapRed.waitOutputThreads(): subprocess failed with code 1\n",
      "\tat org.apache.hadoop.streaming.PipeMapRed.waitOutputThreads(PipeMapRed.java:326)\n",
      "\tat org.apache.hadoop.streaming.PipeMapRed.mapRedFinished(PipeMapRed.java:539)\n",
      "\tat org.apache.hadoop.streaming.PipeMapper.close(PipeMapper.java:130)\n",
      "\tat org.apache.hadoop.mapred.MapRunner.run(MapRunner.java:61)\n",
      "\tat org.apache.hadoop.streaming.PipeMapRunner.run(PipeMapRunner.java:34)\n",
      "\tat org.apache.hadoop.mapred.MapTask.runOldMapper(MapTask.java:466)\n",
      "\tat org.apache.hadoop.mapred.MapTask.run(MapTask.java:350)\n",
      "\tat org.apache.hadoop.mapred.YarnChild$2.run(YarnChild.java:178)\n",
      "\tat java.security.AccessController.doPrivileged(Native Method)\n",
      "\tat javax.security.auth.Subject.doAs(Subject.java:422)\n",
      "\tat org.apache.hadoop.security.UserGroupInformation.doAs(UserGroupInformation.java:1878)\n",
      "\tat org.apache.hadoop.mapred.YarnChild.main(YarnChild.java:172)\n",
      "\n",
      "2023-04-08 18:21:20,952 INFO mapreduce.Job: Task Id : attempt_1680545577204_0002_m_000001_1, Status : FAILED\n",
      "Error: java.lang.RuntimeException: PipeMapRed.waitOutputThreads(): subprocess failed with code 1\n",
      "\tat org.apache.hadoop.streaming.PipeMapRed.waitOutputThreads(PipeMapRed.java:326)\n",
      "\tat org.apache.hadoop.streaming.PipeMapRed.mapRedFinished(PipeMapRed.java:539)\n",
      "\tat org.apache.hadoop.streaming.PipeMapper.close(PipeMapper.java:130)\n",
      "\tat org.apache.hadoop.mapred.MapRunner.run(MapRunner.java:61)\n",
      "\tat org.apache.hadoop.streaming.PipeMapRunner.run(PipeMapRunner.java:34)\n",
      "\tat org.apache.hadoop.mapred.MapTask.runOldMapper(MapTask.java:466)\n",
      "\tat org.apache.hadoop.mapred.MapTask.run(MapTask.java:350)\n",
      "\tat org.apache.hadoop.mapred.YarnChild$2.run(YarnChild.java:178)\n",
      "\tat java.security.AccessController.doPrivileged(Native Method)\n",
      "\tat javax.security.auth.Subject.doAs(Subject.java:422)\n",
      "\tat org.apache.hadoop.security.UserGroupInformation.doAs(UserGroupInformation.java:1878)\n",
      "\tat org.apache.hadoop.mapred.YarnChild.main(YarnChild.java:172)\n",
      "\n",
      "2023-04-08 18:21:21,958 INFO mapreduce.Job: Task Id : attempt_1680545577204_0002_m_000000_1, Status : FAILED\n",
      "Error: java.lang.RuntimeException: PipeMapRed.waitOutputThreads(): subprocess failed with code 1\n",
      "\tat org.apache.hadoop.streaming.PipeMapRed.waitOutputThreads(PipeMapRed.java:326)\n",
      "\tat org.apache.hadoop.streaming.PipeMapRed.mapRedFinished(PipeMapRed.java:539)\n",
      "\tat org.apache.hadoop.streaming.PipeMapper.close(PipeMapper.java:130)\n",
      "\tat org.apache.hadoop.mapred.MapRunner.run(MapRunner.java:61)\n",
      "\tat org.apache.hadoop.streaming.PipeMapRunner.run(PipeMapRunner.java:34)\n",
      "\tat org.apache.hadoop.mapred.MapTask.runOldMapper(MapTask.java:466)\n",
      "\tat org.apache.hadoop.mapred.MapTask.run(MapTask.java:350)\n",
      "\tat org.apache.hadoop.mapred.YarnChild$2.run(YarnChild.java:178)\n",
      "\tat java.security.AccessController.doPrivileged(Native Method)\n",
      "\tat javax.security.auth.Subject.doAs(Subject.java:422)\n",
      "\tat org.apache.hadoop.security.UserGroupInformation.doAs(UserGroupInformation.java:1878)\n",
      "\tat org.apache.hadoop.mapred.YarnChild.main(YarnChild.java:172)\n",
      "\n",
      "2023-04-08 18:21:25,978 INFO mapreduce.Job: Task Id : attempt_1680545577204_0002_m_000001_2, Status : FAILED\n",
      "Error: java.lang.RuntimeException: PipeMapRed.waitOutputThreads(): subprocess failed with code 1\n",
      "\tat org.apache.hadoop.streaming.PipeMapRed.waitOutputThreads(PipeMapRed.java:326)\n",
      "\tat org.apache.hadoop.streaming.PipeMapRed.mapRedFinished(PipeMapRed.java:539)\n",
      "\tat org.apache.hadoop.streaming.PipeMapper.close(PipeMapper.java:130)\n",
      "\tat org.apache.hadoop.mapred.MapRunner.run(MapRunner.java:61)\n",
      "\tat org.apache.hadoop.streaming.PipeMapRunner.run(PipeMapRunner.java:34)\n",
      "\tat org.apache.hadoop.mapred.MapTask.runOldMapper(MapTask.java:466)\n",
      "\tat org.apache.hadoop.mapred.MapTask.run(MapTask.java:350)\n",
      "\tat org.apache.hadoop.mapred.YarnChild$2.run(YarnChild.java:178)\n",
      "\tat java.security.AccessController.doPrivileged(Native Method)\n",
      "\tat javax.security.auth.Subject.doAs(Subject.java:422)\n",
      "\tat org.apache.hadoop.security.UserGroupInformation.doAs(UserGroupInformation.java:1878)\n",
      "\tat org.apache.hadoop.mapred.YarnChild.main(YarnChild.java:172)\n",
      "\n",
      "2023-04-08 18:21:26,984 INFO mapreduce.Job: Task Id : attempt_1680545577204_0002_m_000000_2, Status : FAILED\n",
      "Error: java.lang.RuntimeException: PipeMapRed.waitOutputThreads(): subprocess failed with code 1\n",
      "\tat org.apache.hadoop.streaming.PipeMapRed.waitOutputThreads(PipeMapRed.java:326)\n",
      "\tat org.apache.hadoop.streaming.PipeMapRed.mapRedFinished(PipeMapRed.java:539)\n",
      "\tat org.apache.hadoop.streaming.PipeMapper.close(PipeMapper.java:130)\n",
      "\tat org.apache.hadoop.mapred.MapRunner.run(MapRunner.java:61)\n",
      "\tat org.apache.hadoop.streaming.PipeMapRunner.run(PipeMapRunner.java:34)\n",
      "\tat org.apache.hadoop.mapred.MapTask.runOldMapper(MapTask.java:466)\n",
      "\tat org.apache.hadoop.mapred.MapTask.run(MapTask.java:350)\n",
      "\tat org.apache.hadoop.mapred.YarnChild$2.run(YarnChild.java:178)\n",
      "\tat java.security.AccessController.doPrivileged(Native Method)\n",
      "\tat javax.security.auth.Subject.doAs(Subject.java:422)\n",
      "\tat org.apache.hadoop.security.UserGroupInformation.doAs(UserGroupInformation.java:1878)\n",
      "\tat org.apache.hadoop.mapred.YarnChild.main(YarnChild.java:172)\n",
      "\n",
      "2023-04-08 18:21:31,002 INFO mapreduce.Job:  map 100% reduce 100%\n",
      "2023-04-08 18:21:31,008 INFO mapreduce.Job: Job job_1680545577204_0002 failed with state FAILED due to: Task failed task_1680545577204_0002_m_000001\n",
      "Job failed as tasks failed. failedMaps:1 failedReduces:0 killedMaps:0 killedReduces: 0\n",
      "\n"
     ]
    },
    {
     "name": "stdout",
     "output_type": "stream",
     "text": [
      "2023-04-08 18:21:31,082 INFO mapreduce.Job: Counters: 14\r\n",
      "\tJob Counters \r\n",
      "\t\tFailed map tasks=7\r\n",
      "\t\tKilled map tasks=1\r\n",
      "\t\tKilled reduce tasks=1\r\n",
      "\t\tLaunched map tasks=8\r\n",
      "\t\tOther local map tasks=6\r\n",
      "\t\tData-local map tasks=2\r\n",
      "\t\tTotal time spent by all maps in occupied slots (ms)=14271488\r\n",
      "\t\tTotal time spent by all reduces in occupied slots (ms)=0\r\n",
      "\t\tTotal time spent by all map tasks (ms)=27874\r\n",
      "\t\tTotal vcore-milliseconds taken by all map tasks=27874\r\n",
      "\t\tTotal megabyte-milliseconds taken by all map tasks=14271488\r\n",
      "\tMap-Reduce Framework\r\n",
      "\t\tCPU time spent (ms)=0\r\n",
      "\t\tPhysical memory (bytes) snapshot=0\r\n",
      "\t\tVirtual memory (bytes) snapshot=0\r\n",
      "2023-04-08 18:21:31,082 ERROR streaming.StreamJob: Job not successful!\r\n",
      "Streaming Command Failed!\r\n"
     ]
    }
   ],
   "source": [
    "! hadoop fs -rm -r /word-count\n",
    "\n",
    "! mapred streaming \\\n",
    "  -input /wiki/sample.jsonl \\\n",
    "  -output /word-count \\\n",
    "  -mapper \"/opt/conda/bin/python3.6 mapper.py\" \\\n",
    "  -reducer \"/opt/conda/bin/python3.6 reducer.py\" \\\n",
    "  -file mapper.py \\\n",
    "  -file reducer.py"
   ]
  },
  {
   "cell_type": "markdown",
   "metadata": {},
   "source": [
    "# Catching an error in reducer"
   ]
  },
  {
   "cell_type": "code",
   "execution_count": 23,
   "metadata": {},
   "outputs": [
    {
     "name": "stdout",
     "output_type": "stream",
     "text": [
      "Overwriting mapper.py\n"
     ]
    }
   ],
   "source": [
    "%%file mapper.py\n",
    "import sys\n",
    "import json\n",
    "import re\n",
    "import string\n",
    "\n",
    "for line in sys.stdin:\n",
    "    text = json.loads(line)['text']\n",
    "    text = re.sub(f'[^{re.escape(string.printable)}]', ' ', text)  # not printable to space\n",
    "    words = text.lower().split()\n",
    "    for word in words:\n",
    "        print(word + \"\\n\" + \"1\")  # error: reducer will fail!"
   ]
  },
  {
   "cell_type": "code",
   "execution_count": 24,
   "metadata": {},
   "outputs": [
    {
     "name": "stdout",
     "output_type": "stream",
     "text": [
      "Deleted /word-count\n",
      "2023-04-08 18:22:32,216 WARN streaming.StreamJob: -file option is deprecated, please use generic option -files instead.\n",
      "packageJobJar: [mapper.py, reducer.py] [/usr/local/hadoop/share/hadoop/tools/lib/hadoop-streaming-3.3.4.jar] /tmp/streamjob626740040326122891.jar tmpDir=null\n",
      "2023-04-08 18:22:33,990 INFO client.DefaultNoHARMFailoverProxyProvider: Connecting to ResourceManager at /0.0.0.0:8032\n",
      "2023-04-08 18:22:34,349 INFO client.DefaultNoHARMFailoverProxyProvider: Connecting to ResourceManager at /0.0.0.0:8032\n",
      "2023-04-08 18:22:34,928 INFO mapreduce.JobResourceUploader: Disabling Erasure Coding for path: /tmp/hadoop-yarn/staging/jovyan/.staging/job_1680545577204_0003\n",
      "2023-04-08 18:22:36,329 INFO mapred.FileInputFormat: Total input files to process : 1\n",
      "2023-04-08 18:22:36,600 INFO mapreduce.JobSubmitter: number of splits:2\n",
      "2023-04-08 18:22:37,377 INFO mapreduce.JobSubmitter: Submitting tokens for job: job_1680545577204_0003\n",
      "2023-04-08 18:22:37,377 INFO mapreduce.JobSubmitter: Executing with tokens: []\n",
      "2023-04-08 18:22:37,794 INFO conf.Configuration: resource-types.xml not found\n",
      "2023-04-08 18:22:37,795 INFO resource.ResourceUtils: Unable to find 'resource-types.xml'.\n",
      "2023-04-08 18:22:37,932 INFO impl.YarnClientImpl: Submitted application application_1680545577204_0003\n",
      "2023-04-08 18:22:38,055 INFO mapreduce.Job: The url to track the job: http://e66fd5c8a9a7:8088/proxy/application_1680545577204_0003/\n",
      "2023-04-08 18:22:38,058 INFO mapreduce.Job: Running job: job_1680545577204_0003\n",
      "2023-04-08 18:22:46,182 INFO mapreduce.Job: Job job_1680545577204_0003 running in uber mode : false\n",
      "2023-04-08 18:22:46,183 INFO mapreduce.Job:  map 0% reduce 0%\n",
      "2023-04-08 18:22:51,236 INFO mapreduce.Job:  map 100% reduce 0%\n",
      "2023-04-08 18:22:55,256 INFO mapreduce.Job: Task Id : attempt_1680545577204_0003_r_000000_0, Status : FAILED\n",
      "Error: java.lang.RuntimeException: PipeMapRed.waitOutputThreads(): subprocess failed with code 1\n",
      "\tat org.apache.hadoop.streaming.PipeMapRed.waitOutputThreads(PipeMapRed.java:326)\n",
      "\tat org.apache.hadoop.streaming.PipeMapRed.mapRedFinished(PipeMapRed.java:539)\n",
      "\tat org.apache.hadoop.streaming.PipeReducer.reduce(PipeReducer.java:128)\n",
      "\tat org.apache.hadoop.mapred.ReduceTask.runOldReducer(ReduceTask.java:445)\n",
      "\tat org.apache.hadoop.mapred.ReduceTask.run(ReduceTask.java:393)\n",
      "\tat org.apache.hadoop.mapred.YarnChild$2.run(YarnChild.java:178)\n",
      "\tat java.security.AccessController.doPrivileged(Native Method)\n",
      "\tat javax.security.auth.Subject.doAs(Subject.java:422)\n",
      "\tat org.apache.hadoop.security.UserGroupInformation.doAs(UserGroupInformation.java:1878)\n",
      "\tat org.apache.hadoop.mapred.YarnChild.main(YarnChild.java:172)\n",
      "\n",
      "2023-04-08 18:23:00,295 INFO mapreduce.Job: Task Id : attempt_1680545577204_0003_r_000000_1, Status : FAILED\n",
      "Error: java.lang.RuntimeException: PipeMapRed.waitOutputThreads(): subprocess failed with code 1\n",
      "\tat org.apache.hadoop.streaming.PipeMapRed.waitOutputThreads(PipeMapRed.java:326)\n",
      "\tat org.apache.hadoop.streaming.PipeMapRed.mapRedFinished(PipeMapRed.java:539)\n",
      "\tat org.apache.hadoop.streaming.PipeReducer.reduce(PipeReducer.java:128)\n",
      "\tat org.apache.hadoop.mapred.ReduceTask.runOldReducer(ReduceTask.java:445)\n",
      "\tat org.apache.hadoop.mapred.ReduceTask.run(ReduceTask.java:393)\n",
      "\tat org.apache.hadoop.mapred.YarnChild$2.run(YarnChild.java:178)\n",
      "\tat java.security.AccessController.doPrivileged(Native Method)\n",
      "\tat javax.security.auth.Subject.doAs(Subject.java:422)\n",
      "\tat org.apache.hadoop.security.UserGroupInformation.doAs(UserGroupInformation.java:1878)\n",
      "\tat org.apache.hadoop.mapred.YarnChild.main(YarnChild.java:172)\n",
      "\n",
      "2023-04-08 18:23:05,320 INFO mapreduce.Job: Task Id : attempt_1680545577204_0003_r_000000_2, Status : FAILED\n",
      "Error: java.lang.RuntimeException: PipeMapRed.waitOutputThreads(): subprocess failed with code 1\n",
      "\tat org.apache.hadoop.streaming.PipeMapRed.waitOutputThreads(PipeMapRed.java:326)\n",
      "\tat org.apache.hadoop.streaming.PipeMapRed.mapRedFinished(PipeMapRed.java:539)\n",
      "\tat org.apache.hadoop.streaming.PipeReducer.reduce(PipeReducer.java:128)\n",
      "\tat org.apache.hadoop.mapred.ReduceTask.runOldReducer(ReduceTask.java:445)\n",
      "\tat org.apache.hadoop.mapred.ReduceTask.run(ReduceTask.java:393)\n",
      "\tat org.apache.hadoop.mapred.YarnChild$2.run(YarnChild.java:178)\n",
      "\tat java.security.AccessController.doPrivileged(Native Method)\n",
      "\tat javax.security.auth.Subject.doAs(Subject.java:422)\n",
      "\tat org.apache.hadoop.security.UserGroupInformation.doAs(UserGroupInformation.java:1878)\n",
      "\tat org.apache.hadoop.mapred.YarnChild.main(YarnChild.java:172)\n",
      "\n",
      "2023-04-08 18:23:11,345 INFO mapreduce.Job:  map 100% reduce 100%\n",
      "2023-04-08 18:23:11,351 INFO mapreduce.Job: Job job_1680545577204_0003 failed with state FAILED due to: Task failed task_1680545577204_0003_r_000000\n",
      "Job failed as tasks failed. failedMaps:0 failedReduces:1 killedMaps:0 killedReduces: 0\n",
      "\n",
      "2023-04-08 18:23:11,436 INFO mapreduce.Job: Counters: 40\n",
      "\tFile System Counters\n",
      "\t\tFILE: Number of bytes read=0\n",
      "\t\tFILE: Number of bytes written=7287438\n",
      "\t\tFILE: Number of read operations=0\n",
      "\t\tFILE: Number of large read operations=0\n",
      "\t\tFILE: Number of write operations=0\n",
      "\t\tHDFS: Number of bytes read=3008126\n",
      "\t\tHDFS: Number of bytes written=0\n",
      "\t\tHDFS: Number of read operations=6\n",
      "\t\tHDFS: Number of large read operations=0\n",
      "\t\tHDFS: Number of write operations=0\n",
      "\t\tHDFS: Number of bytes read erasure-coded=0\n",
      "\tJob Counters \n",
      "\t\tFailed reduce tasks=4\n",
      "\t\tLaunched map tasks=2\n",
      "\t\tLaunched reduce tasks=4\n",
      "\t\tData-local map tasks=2\n",
      "\t\tTotal time spent by all maps in occupied slots (ms)=3122176\n",
      "\t\tTotal time spent by all reduces in occupied slots (ms)=10078208\n",
      "\t\tTotal time spent by all map tasks (ms)=6098\n",
      "\t\tTotal time spent by all reduce tasks (ms)=9842\n",
      "\t\tTotal vcore-milliseconds taken by all map tasks=6098\n",
      "\t\tTotal vcore-milliseconds taken by all reduce tasks=9842\n",
      "\t\tTotal megabyte-milliseconds taken by all map tasks=3122176\n",
      "\t\tTotal megabyte-milliseconds taken by all reduce tasks=10078208\n",
      "\tMap-Reduce Framework\n",
      "\t\tMap input records=1000\n",
      "\t\tMap output records=969308\n",
      "\t\tMap output bytes=4789894\n",
      "\t\tMap output materialized bytes=6728522\n",
      "\t\tInput split bytes=182\n",
      "\t\tCombine input records=0\n",
      "\t\tSpilled Records=969308\n",
      "\t\tFailed Shuffles=0\n",
      "\t\tMerged Map outputs=0\n",
      "\t\tGC time elapsed (ms)=104\n",
      "\t\tCPU time spent (ms)=3710\n",
      "\t\tPhysical memory (bytes) snapshot=684335104\n",
      "\t\tVirtual memory (bytes) snapshot=4339609600\n",
      "\t\tTotal committed heap usage (bytes)=576716800\n",
      "\t\tPeak Map Physical memory (bytes)=343887872\n",
      "\t\tPeak Map Virtual memory (bytes)=2169933824\n",
      "\tFile Input Format Counters \n",
      "\t\tBytes Read=3007944\n",
      "2023-04-08 18:23:11,436 ERROR streaming.StreamJob: Job not successful!\n",
      "Streaming Command Failed!\n"
     ]
    }
   ],
   "source": [
    "! hadoop fs -rm -r /word-count\n",
    "\n",
    "! mapred streaming \\\n",
    "  -input /wiki/sample.jsonl \\\n",
    "  -output /word-count \\\n",
    "  -mapper \"/opt/conda/bin/python3.6 mapper.py\" \\\n",
    "  -reducer \"/opt/conda/bin/python3.6 reducer.py\" \\\n",
    "  -file mapper.py \\\n",
    "  -file reducer.py"
   ]
  },
  {
   "cell_type": "markdown",
   "metadata": {},
   "source": [
    "# Catching a memory error"
   ]
  },
  {
   "cell_type": "code",
   "execution_count": 25,
   "metadata": {},
   "outputs": [
    {
     "name": "stdout",
     "output_type": "stream",
     "text": [
      "Overwriting mapper.py\n"
     ]
    }
   ],
   "source": [
    "%%file mapper.py\n",
    "import sys\n",
    "import numpy as np\n",
    "\n",
    "matrix = np.ones((int(2.2 * 1024 * 1024 * 1024),), dtype=np.uint8)  # 2.2GB\n",
    "s = matrix.sum()\n",
    "\n",
    "for line in sys.stdin:\n",
    "    print(str(s))"
   ]
  },
  {
   "cell_type": "code",
   "execution_count": 26,
   "metadata": {
    "scrolled": false
   },
   "outputs": [
    {
     "name": "stdout",
     "output_type": "stream",
     "text": [
      "rm: `/test': No such file or directory\n",
      "2023-04-08 18:24:21,815 WARN streaming.StreamJob: -file option is deprecated, please use generic option -files instead.\n",
      "packageJobJar: [mapper.py] [/usr/local/hadoop/share/hadoop/tools/lib/hadoop-streaming-3.3.4.jar] /tmp/streamjob4417979966207050622.jar tmpDir=null\n",
      "2023-04-08 18:24:22,642 INFO client.DefaultNoHARMFailoverProxyProvider: Connecting to ResourceManager at /0.0.0.0:8032\n",
      "2023-04-08 18:24:22,824 INFO client.DefaultNoHARMFailoverProxyProvider: Connecting to ResourceManager at /0.0.0.0:8032\n",
      "2023-04-08 18:24:23,046 INFO mapreduce.JobResourceUploader: Disabling Erasure Coding for path: /tmp/hadoop-yarn/staging/jovyan/.staging/job_1680545577204_0004\n",
      "2023-04-08 18:24:23,341 INFO mapred.FileInputFormat: Total input files to process : 1\n",
      "2023-04-08 18:24:23,394 INFO mapreduce.JobSubmitter: number of splits:2\n",
      "2023-04-08 18:24:23,517 INFO mapreduce.JobSubmitter: Submitting tokens for job: job_1680545577204_0004\n",
      "2023-04-08 18:24:23,517 INFO mapreduce.JobSubmitter: Executing with tokens: []\n",
      "2023-04-08 18:24:23,713 INFO conf.Configuration: resource-types.xml not found\n",
      "2023-04-08 18:24:23,714 INFO resource.ResourceUtils: Unable to find 'resource-types.xml'.\n",
      "2023-04-08 18:24:23,775 INFO impl.YarnClientImpl: Submitted application application_1680545577204_0004\n",
      "2023-04-08 18:24:23,816 INFO mapreduce.Job: The url to track the job: http://e66fd5c8a9a7:8088/proxy/application_1680545577204_0004/\n",
      "2023-04-08 18:24:23,817 INFO mapreduce.Job: Running job: job_1680545577204_0004\n",
      "2023-04-08 18:24:29,906 INFO mapreduce.Job: Job job_1680545577204_0004 running in uber mode : false\n",
      "2023-04-08 18:24:29,907 INFO mapreduce.Job:  map 0% reduce 0%\n",
      "2023-04-08 18:24:34,967 INFO mapreduce.Job: Task Id : attempt_1680545577204_0004_m_000000_0, Status : FAILED\n",
      "Error: java.lang.RuntimeException: PipeMapRed.waitOutputThreads(): subprocess failed with code 137\n",
      "\tat org.apache.hadoop.streaming.PipeMapRed.waitOutputThreads(PipeMapRed.java:326)\n",
      "\tat org.apache.hadoop.streaming.PipeMapRed.mapRedFinished(PipeMapRed.java:539)\n",
      "\tat org.apache.hadoop.streaming.PipeMapper.close(PipeMapper.java:130)\n",
      "\tat org.apache.hadoop.mapred.MapRunner.run(MapRunner.java:61)\n",
      "\tat org.apache.hadoop.streaming.PipeMapRunner.run(PipeMapRunner.java:34)\n",
      "\tat org.apache.hadoop.mapred.MapTask.runOldMapper(MapTask.java:466)\n",
      "\tat org.apache.hadoop.mapred.MapTask.run(MapTask.java:350)\n",
      "\tat org.apache.hadoop.mapred.YarnChild$2.run(YarnChild.java:178)\n",
      "\tat java.security.AccessController.doPrivileged(Native Method)\n",
      "\tat javax.security.auth.Subject.doAs(Subject.java:422)\n",
      "\tat org.apache.hadoop.security.UserGroupInformation.doAs(UserGroupInformation.java:1878)\n",
      "\tat org.apache.hadoop.mapred.YarnChild.main(YarnChild.java:172)\n",
      "\n",
      "2023-04-08 18:24:34,985 INFO mapreduce.Job: Task Id : attempt_1680545577204_0004_m_000001_0, Status : FAILED\n",
      "Error: java.lang.RuntimeException: PipeMapRed.waitOutputThreads(): subprocess failed with code 137\n",
      "\tat org.apache.hadoop.streaming.PipeMapRed.waitOutputThreads(PipeMapRed.java:326)\n",
      "\tat org.apache.hadoop.streaming.PipeMapRed.mapRedFinished(PipeMapRed.java:539)\n",
      "\tat org.apache.hadoop.streaming.PipeMapper.close(PipeMapper.java:130)\n",
      "\tat org.apache.hadoop.mapred.MapRunner.run(MapRunner.java:61)\n",
      "\tat org.apache.hadoop.streaming.PipeMapRunner.run(PipeMapRunner.java:34)\n",
      "\tat org.apache.hadoop.mapred.MapTask.runOldMapper(MapTask.java:466)\n",
      "\tat org.apache.hadoop.mapred.MapTask.run(MapTask.java:350)\n",
      "\tat org.apache.hadoop.mapred.YarnChild$2.run(YarnChild.java:178)\n",
      "\tat java.security.AccessController.doPrivileged(Native Method)\n",
      "\tat javax.security.auth.Subject.doAs(Subject.java:422)\n",
      "\tat org.apache.hadoop.security.UserGroupInformation.doAs(UserGroupInformation.java:1878)\n",
      "\tat org.apache.hadoop.mapred.YarnChild.main(YarnChild.java:172)\n",
      "\n",
      "2023-04-08 18:24:40,191 INFO mapreduce.Job: Task Id : attempt_1680545577204_0004_m_000000_1, Status : FAILED\n",
      "Error: java.lang.RuntimeException: PipeMapRed.waitOutputThreads(): subprocess failed with code 137\n",
      "\tat org.apache.hadoop.streaming.PipeMapRed.waitOutputThreads(PipeMapRed.java:326)\n",
      "\tat org.apache.hadoop.streaming.PipeMapRed.mapRedFinished(PipeMapRed.java:539)\n",
      "\tat org.apache.hadoop.streaming.PipeMapper.close(PipeMapper.java:130)\n",
      "\tat org.apache.hadoop.mapred.MapRunner.run(MapRunner.java:61)\n",
      "\tat org.apache.hadoop.streaming.PipeMapRunner.run(PipeMapRunner.java:34)\n",
      "\tat org.apache.hadoop.mapred.MapTask.runOldMapper(MapTask.java:466)\n",
      "\tat org.apache.hadoop.mapred.MapTask.run(MapTask.java:350)\n",
      "\tat org.apache.hadoop.mapred.YarnChild$2.run(YarnChild.java:178)\n",
      "\tat java.security.AccessController.doPrivileged(Native Method)\n",
      "\tat javax.security.auth.Subject.doAs(Subject.java:422)\n",
      "\tat org.apache.hadoop.security.UserGroupInformation.doAs(UserGroupInformation.java:1878)\n",
      "\tat org.apache.hadoop.mapred.YarnChild.main(YarnChild.java:172)\n",
      "\n",
      "2023-04-08 18:24:41,197 INFO mapreduce.Job: Task Id : attempt_1680545577204_0004_m_000001_1, Status : FAILED\n",
      "Error: java.lang.RuntimeException: PipeMapRed.waitOutputThreads(): subprocess failed with code 137\n",
      "\tat org.apache.hadoop.streaming.PipeMapRed.waitOutputThreads(PipeMapRed.java:326)\n",
      "\tat org.apache.hadoop.streaming.PipeMapRed.mapRedFinished(PipeMapRed.java:539)\n",
      "\tat org.apache.hadoop.streaming.PipeMapper.close(PipeMapper.java:130)\n",
      "\tat org.apache.hadoop.mapred.MapRunner.run(MapRunner.java:61)\n",
      "\tat org.apache.hadoop.streaming.PipeMapRunner.run(PipeMapRunner.java:34)\n",
      "\tat org.apache.hadoop.mapred.MapTask.runOldMapper(MapTask.java:466)\n",
      "\tat org.apache.hadoop.mapred.MapTask.run(MapTask.java:350)\n",
      "\tat org.apache.hadoop.mapred.YarnChild$2.run(YarnChild.java:178)\n",
      "\tat java.security.AccessController.doPrivileged(Native Method)\n",
      "\tat javax.security.auth.Subject.doAs(Subject.java:422)\n",
      "\tat org.apache.hadoop.security.UserGroupInformation.doAs(UserGroupInformation.java:1878)\n",
      "\tat org.apache.hadoop.mapred.YarnChild.main(YarnChild.java:172)\n",
      "\n",
      "2023-04-08 18:24:45,219 INFO mapreduce.Job: Task Id : attempt_1680545577204_0004_m_000000_2, Status : FAILED\n",
      "Error: java.lang.RuntimeException: PipeMapRed.waitOutputThreads(): subprocess failed with code 137\n",
      "\tat org.apache.hadoop.streaming.PipeMapRed.waitOutputThreads(PipeMapRed.java:326)\n",
      "\tat org.apache.hadoop.streaming.PipeMapRed.mapRedFinished(PipeMapRed.java:539)\n",
      "\tat org.apache.hadoop.streaming.PipeMapper.close(PipeMapper.java:130)\n",
      "\tat org.apache.hadoop.mapred.MapRunner.run(MapRunner.java:61)\n",
      "\tat org.apache.hadoop.streaming.PipeMapRunner.run(PipeMapRunner.java:34)\n",
      "\tat org.apache.hadoop.mapred.MapTask.runOldMapper(MapTask.java:466)\n",
      "\tat org.apache.hadoop.mapred.MapTask.run(MapTask.java:350)\n",
      "\tat org.apache.hadoop.mapred.YarnChild$2.run(YarnChild.java:178)\n",
      "\tat java.security.AccessController.doPrivileged(Native Method)\n",
      "\tat javax.security.auth.Subject.doAs(Subject.java:422)\n",
      "\tat org.apache.hadoop.security.UserGroupInformation.doAs(UserGroupInformation.java:1878)\n",
      "\tat org.apache.hadoop.mapred.YarnChild.main(YarnChild.java:172)\n",
      "\n",
      "2023-04-08 18:24:47,229 INFO mapreduce.Job: Task Id : attempt_1680545577204_0004_m_000001_2, Status : FAILED\n",
      "Error: java.lang.RuntimeException: PipeMapRed.waitOutputThreads(): subprocess failed with code 137\n",
      "\tat org.apache.hadoop.streaming.PipeMapRed.waitOutputThreads(PipeMapRed.java:326)\n",
      "\tat org.apache.hadoop.streaming.PipeMapRed.mapRedFinished(PipeMapRed.java:539)\n",
      "\tat org.apache.hadoop.streaming.PipeMapper.close(PipeMapper.java:130)\n",
      "\tat org.apache.hadoop.mapred.MapRunner.run(MapRunner.java:61)\n",
      "\tat org.apache.hadoop.streaming.PipeMapRunner.run(PipeMapRunner.java:34)\n",
      "\tat org.apache.hadoop.mapred.MapTask.runOldMapper(MapTask.java:466)\n",
      "\tat org.apache.hadoop.mapred.MapTask.run(MapTask.java:350)\n",
      "\tat org.apache.hadoop.mapred.YarnChild$2.run(YarnChild.java:178)\n",
      "\tat java.security.AccessController.doPrivileged(Native Method)\n",
      "\tat javax.security.auth.Subject.doAs(Subject.java:422)\n",
      "\tat org.apache.hadoop.security.UserGroupInformation.doAs(UserGroupInformation.java:1878)\n",
      "\tat org.apache.hadoop.mapred.YarnChild.main(YarnChild.java:172)\n",
      "\n",
      "2023-04-08 18:24:52,317 INFO mapreduce.Job:  map 100% reduce 100%\n",
      "2023-04-08 18:24:52,323 INFO mapreduce.Job: Job job_1680545577204_0004 failed with state FAILED due to: Task failed task_1680545577204_0004_m_000000\n",
      "Job failed as tasks failed. failedMaps:1 failedReduces:0 killedMaps:0 killedReduces: 0\n",
      "\n"
     ]
    },
    {
     "name": "stdout",
     "output_type": "stream",
     "text": [
      "2023-04-08 18:24:52,403 INFO mapreduce.Job: Counters: 14\r\n",
      "\tJob Counters \r\n",
      "\t\tFailed map tasks=7\r\n",
      "\t\tKilled map tasks=1\r\n",
      "\t\tKilled reduce tasks=1\r\n",
      "\t\tLaunched map tasks=8\r\n",
      "\t\tOther local map tasks=6\r\n",
      "\t\tData-local map tasks=2\r\n",
      "\t\tTotal time spent by all maps in occupied slots (ms)=14264320\r\n",
      "\t\tTotal time spent by all reduces in occupied slots (ms)=0\r\n",
      "\t\tTotal time spent by all map tasks (ms)=27860\r\n",
      "\t\tTotal vcore-milliseconds taken by all map tasks=27860\r\n",
      "\t\tTotal megabyte-milliseconds taken by all map tasks=14264320\r\n",
      "\tMap-Reduce Framework\r\n",
      "\t\tCPU time spent (ms)=0\r\n",
      "\t\tPhysical memory (bytes) snapshot=0\r\n",
      "\t\tVirtual memory (bytes) snapshot=0\r\n",
      "2023-04-08 18:24:52,403 ERROR streaming.StreamJob: Job not successful!\r\n",
      "Streaming Command Failed!\r\n"
     ]
    }
   ],
   "source": [
    "! hadoop fs -rm -r /test\n",
    "\n",
    "! mapred streaming \\\n",
    "  -input /wiki/sample.jsonl \\\n",
    "  -output /test \\\n",
    "  -mapper \"/opt/conda/bin/python3.6 mapper.py\" \\\n",
    "  -file mapper.py"
   ]
  },
  {
   "cell_type": "code",
   "execution_count": 29,
   "metadata": {},
   "outputs": [
    {
     "name": "stdout",
     "output_type": "stream",
     "text": [
      "2023-04-08 18:25:43,820 INFO client.DefaultNoHARMFailoverProxyProvider: Connecting to ResourceManager at /0.0.0.0:8032\n",
      "Exception in thread \"main\" java.lang.IllegalArgumentException: Invalid ApplicationId: application_*\n",
      "\tat org.apache.hadoop.yarn.api.records.ApplicationId.fromString(ApplicationId.java:120)\n",
      "\tat org.apache.hadoop.yarn.client.cli.ApplicationCLI.killApplication(ApplicationCLI.java:539)\n",
      "\tat org.apache.hadoop.yarn.client.cli.ApplicationCLI.killApplication(ApplicationCLI.java:519)\n",
      "\tat org.apache.hadoop.yarn.client.cli.ApplicationCLI.executeKillCommand(ApplicationCLI.java:1172)\n",
      "\tat org.apache.hadoop.yarn.client.cli.ApplicationCLI.run(ApplicationCLI.java:186)\n",
      "\tat org.apache.hadoop.util.ToolRunner.run(ToolRunner.java:81)\n",
      "\tat org.apache.hadoop.util.ToolRunner.run(ToolRunner.java:95)\n",
      "\tat org.apache.hadoop.yarn.client.cli.ApplicationCLI.main(ApplicationCLI.java:128)\n"
     ]
    }
   ],
   "source": [
    "! yarn application -kill application_*"
   ]
  },
  {
   "cell_type": "code",
   "execution_count": 28,
   "metadata": {},
   "outputs": [
    {
     "name": "stdout",
     "output_type": "stream",
     "text": [
      "Deleted /test\n",
      "2023-04-08 18:25:19,935 WARN streaming.StreamJob: -file option is deprecated, please use generic option -files instead.\n",
      "packageJobJar: [mapper.py] [/usr/local/hadoop/share/hadoop/tools/lib/hadoop-streaming-3.3.4.jar] /tmp/streamjob5782894505211121380.jar tmpDir=null\n",
      "2023-04-08 18:25:20,763 INFO client.DefaultNoHARMFailoverProxyProvider: Connecting to ResourceManager at /0.0.0.0:8032\n",
      "2023-04-08 18:25:20,940 INFO client.DefaultNoHARMFailoverProxyProvider: Connecting to ResourceManager at /0.0.0.0:8032\n",
      "2023-04-08 18:25:21,178 INFO mapreduce.JobResourceUploader: Disabling Erasure Coding for path: /tmp/hadoop-yarn/staging/jovyan/.staging/job_1680545577204_0005\n",
      "2023-04-08 18:25:21,487 INFO mapred.FileInputFormat: Total input files to process : 1\n",
      "2023-04-08 18:25:21,534 INFO mapreduce.JobSubmitter: number of splits:2\n",
      "2023-04-08 18:25:21,645 INFO mapreduce.JobSubmitter: Submitting tokens for job: job_1680545577204_0005\n",
      "2023-04-08 18:25:21,645 INFO mapreduce.JobSubmitter: Executing with tokens: []\n",
      "2023-04-08 18:25:21,804 INFO conf.Configuration: resource-types.xml not found\n",
      "2023-04-08 18:25:21,804 INFO resource.ResourceUtils: Unable to find 'resource-types.xml'.\n",
      "2023-04-08 18:25:21,866 INFO impl.YarnClientImpl: Submitted application application_1680545577204_0005\n",
      "2023-04-08 18:25:21,906 INFO mapreduce.Job: The url to track the job: http://e66fd5c8a9a7:8088/proxy/application_1680545577204_0005/\n",
      "2023-04-08 18:25:21,908 INFO mapreduce.Job: Running job: job_1680545577204_0005\n",
      "2023-04-08 18:25:27,989 INFO mapreduce.Job: Job job_1680545577204_0005 running in uber mode : false\n",
      "2023-04-08 18:25:27,990 INFO mapreduce.Job:  map 0% reduce 0%\n",
      "2023-04-08 18:25:32,044 INFO mapreduce.Job: Task Id : attempt_1680545577204_0005_m_000000_0, Status : FAILED\n",
      "Error: java.lang.RuntimeException: PipeMapRed.waitOutputThreads(): subprocess failed with code 137\n",
      "\tat org.apache.hadoop.streaming.PipeMapRed.waitOutputThreads(PipeMapRed.java:326)\n",
      "\tat org.apache.hadoop.streaming.PipeMapRed.mapRedFinished(PipeMapRed.java:539)\n",
      "\tat org.apache.hadoop.streaming.PipeMapper.close(PipeMapper.java:130)\n",
      "\tat org.apache.hadoop.mapred.MapRunner.run(MapRunner.java:61)\n",
      "\tat org.apache.hadoop.streaming.PipeMapRunner.run(PipeMapRunner.java:34)\n",
      "\tat org.apache.hadoop.mapred.MapTask.runOldMapper(MapTask.java:466)\n",
      "\tat org.apache.hadoop.mapred.MapTask.run(MapTask.java:350)\n",
      "\tat org.apache.hadoop.mapred.YarnChild$2.run(YarnChild.java:178)\n",
      "\tat java.security.AccessController.doPrivileged(Native Method)\n",
      "\tat javax.security.auth.Subject.doAs(Subject.java:422)\n",
      "\tat org.apache.hadoop.security.UserGroupInformation.doAs(UserGroupInformation.java:1878)\n",
      "\tat org.apache.hadoop.mapred.YarnChild.main(YarnChild.java:172)\n",
      "\n",
      "2023-04-08 18:25:36,085 INFO mapreduce.Job: Task Id : attempt_1680545577204_0005_m_000001_0, Status : FAILED\n",
      "Error: java.lang.RuntimeException: PipeMapRed.waitOutputThreads(): subprocess failed with code 137\n",
      "\tat org.apache.hadoop.streaming.PipeMapRed.waitOutputThreads(PipeMapRed.java:326)\n",
      "\tat org.apache.hadoop.streaming.PipeMapRed.mapRedFinished(PipeMapRed.java:539)\n",
      "\tat org.apache.hadoop.streaming.PipeMapper.close(PipeMapper.java:130)\n",
      "\tat org.apache.hadoop.mapred.MapRunner.run(MapRunner.java:61)\n",
      "\tat org.apache.hadoop.streaming.PipeMapRunner.run(PipeMapRunner.java:34)\n",
      "\tat org.apache.hadoop.mapred.MapTask.runOldMapper(MapTask.java:466)\n",
      "\tat org.apache.hadoop.mapred.MapTask.run(MapTask.java:350)\n",
      "\tat org.apache.hadoop.mapred.YarnChild$2.run(YarnChild.java:178)\n",
      "\tat java.security.AccessController.doPrivileged(Native Method)\n",
      "\tat javax.security.auth.Subject.doAs(Subject.java:422)\n",
      "\tat org.apache.hadoop.security.UserGroupInformation.doAs(UserGroupInformation.java:1878)\n",
      "\tat org.apache.hadoop.mapred.YarnChild.main(YarnChild.java:172)\n",
      "\n",
      "2023-04-08 18:25:40,108 INFO mapreduce.Job: Task Id : attempt_1680545577204_0005_m_000000_1, Status : FAILED\n",
      "Error: java.lang.RuntimeException: PipeMapRed.waitOutputThreads(): subprocess failed with code 137\n",
      "\tat org.apache.hadoop.streaming.PipeMapRed.waitOutputThreads(PipeMapRed.java:326)\n",
      "\tat org.apache.hadoop.streaming.PipeMapRed.mapRedFinished(PipeMapRed.java:539)\n",
      "\tat org.apache.hadoop.streaming.PipeMapper.close(PipeMapper.java:130)\n",
      "\tat org.apache.hadoop.mapred.MapRunner.run(MapRunner.java:61)\n",
      "\tat org.apache.hadoop.streaming.PipeMapRunner.run(PipeMapRunner.java:34)\n",
      "\tat org.apache.hadoop.mapred.MapTask.runOldMapper(MapTask.java:466)\n",
      "\tat org.apache.hadoop.mapred.MapTask.run(MapTask.java:350)\n",
      "\tat org.apache.hadoop.mapred.YarnChild$2.run(YarnChild.java:178)\n",
      "\tat java.security.AccessController.doPrivileged(Native Method)\n",
      "\tat javax.security.auth.Subject.doAs(Subject.java:422)\n",
      "\tat org.apache.hadoop.security.UserGroupInformation.doAs(UserGroupInformation.java:1878)\n",
      "\tat org.apache.hadoop.mapred.YarnChild.main(YarnChild.java:172)\n",
      "\n"
     ]
    }
   ],
   "source": [
    "! hadoop fs -rm -r /test\n",
    "\n",
    "! mapred streaming \\\n",
    "  -Dmapreduce.map.memory.mb=2048 \\\n",
    "  -input /wiki/sample.jsonl \\\n",
    "  -output /test \\\n",
    "  -mapper \"/opt/conda/bin/python3.6 mapper.py\" \\\n",
    "  -file mapper.py"
   ]
  },
  {
   "cell_type": "code",
   "execution_count": null,
   "metadata": {},
   "outputs": [],
   "source": []
  },
  {
   "cell_type": "code",
   "execution_count": null,
   "metadata": {},
   "outputs": [],
   "source": []
  },
  {
   "attachments": {
    "image.png": {
     "image/png": "[encoded data removed]"
    }
   },
   "cell_type": "markdown",
   "metadata": {},
   "source": [
    "# HW\n",
    "![image.png](attachment:image.png)"
   ]
  },
  {
   "cell_type": "raw",
   "metadata": {},
   "source": [
    "leave in the data only those users for whom the sum of plays is strictly greater than 1000. how many such users?\n",
    "оставляйте в данных только тех пользователей, для которых сумма сыгранных игр строго превышает 1000. сколько таких пользователей?"
   ]
  },
  {
   "cell_type": "code",
   "execution_count": 47,
   "metadata": {},
   "outputs": [
    {
     "name": "stdout",
     "output_type": "stream",
     "text": [
      "userId,artistId,plays,skips\r\n",
      "0,335,1,0\r\n",
      "0,708,1,0\r\n",
      "0,710,2,1\r\n",
      "0,815,1,1\r\n"
     ]
    }
   ],
   "source": [
    "!head -n 5 yandex_music/events.csv"
   ]
  },
  {
   "cell_type": "code",
   "execution_count": 75,
   "metadata": {},
   "outputs": [
    {
     "name": "stdout",
     "output_type": "stream",
     "text": [
      "0\t5\r\n"
     ]
    }
   ],
   "source": [
    "! head -n 5 yandex_music/events.csv | python ./mapper2.py"
   ]
  },
  {
   "cell_type": "code",
   "execution_count": 74,
   "metadata": {},
   "outputs": [
    {
     "name": "stdout",
     "output_type": "stream",
     "text": [
      "Overwriting mapper2.py\n"
     ]
    }
   ],
   "source": [
    "%%file mapper2.py\n",
    "import sys\n",
    "import json\n",
    "import re\n",
    "import string\n",
    "\n",
    "\n",
    "prev_key = None\n",
    "count = 0\n",
    "flag = 0\n",
    "for line in sys.stdin:\n",
    "    line = line.split(',')\n",
    "    if flag == 0:\n",
    "        col_names = line\n",
    "        flag = 1\n",
    "    else:\n",
    "        key, _, plays, _ = line\n",
    "        if prev_key is not None and key != prev_key:\n",
    "            print(prev_key + \"\\t\" + str(count))\n",
    "            count = 0\n",
    "        count += int(plays)\n",
    "        prev_key = key\n",
    "\n",
    "print(prev_key + \"\\t\" + str(count))"
   ]
  },
  {
   "cell_type": "code",
   "execution_count": 79,
   "metadata": {},
   "outputs": [
    {
     "name": "stdout",
     "output_type": "stream",
     "text": [
      "Overwriting reducer2.py\n"
     ]
    }
   ],
   "source": [
    "%%file reducer2.py\n",
    "import sys\n",
    "\n",
    "count = 0\n",
    "for line in sys.stdin:  # stream is sorted by key\n",
    "    key, value = line.split(\"\\t\")\n",
    "    if int(value) > 1000:\n",
    "        count += 1\n",
    "\n",
    "print(count)"
   ]
  },
  {
   "cell_type": "code",
   "execution_count": 80,
   "metadata": {
    "scrolled": false
   },
   "outputs": [
    {
     "name": "stdout",
     "output_type": "stream",
     "text": [
      "3117\n"
     ]
    }
   ],
   "source": [
    "%%bash\n",
    "cat yandex_music/events.csv | python ./mapper2.py | python ./reducer2.py > result.txt\n",
    "cat result.txt"
   ]
  },
  {
   "cell_type": "markdown",
   "metadata": {},
   "source": [
    "# 1. 3117"
   ]
  },
  {
   "cell_type": "markdown",
   "metadata": {},
   "source": [
    "# 2 .[11368,\n",
    "3629,\n",
    "259,\n",
    "44148,\n",
    "23524]"
   ]
  },
  {
   "cell_type": "raw",
   "metadata": {},
   "source": [
    "in the data filtered at the first step, find the 5 most popular performers by the number of users (identifiers)\n",
    "в данных, отфильтрованных на первом шаге, найдите 5 самых популярных исполнителей по количеству пользователей (идентификаторов)"
   ]
  },
  {
   "cell_type": "code",
   "execution_count": 105,
   "metadata": {},
   "outputs": [
    {
     "name": "stdout",
     "output_type": "stream",
     "text": [
      "userId,artistId,plays,skips\r\n",
      "0,335,1,0\r\n",
      "0,708,1,0\r\n",
      "0,710,2,1\r\n",
      "0,815,1,1\r\n"
     ]
    }
   ],
   "source": [
    "!head -n 5 yandex_music/events.csv"
   ]
  },
  {
   "cell_type": "code",
   "execution_count": 115,
   "metadata": {},
   "outputs": [
    {
     "name": "stdout",
     "output_type": "stream",
     "text": [
      "artistId\r\n",
      "11368    2574\r\n",
      "3629     2286\r\n",
      "259      2208\r\n",
      "44148    2161\r\n",
      "23524    2110\r\n",
      "59783    2049\r\n",
      "21042    1925\r\n",
      "23595    1909\r\n",
      "21643    1902\r\n",
      "645      1876\r\n",
      "Name: userId, dtype: int64\r\n"
     ]
    }
   ],
   "source": [
    "!cat yandex_music/events.csv | python ./mapper3.py"
   ]
  },
  {
   "cell_type": "code",
   "execution_count": 114,
   "metadata": {},
   "outputs": [
    {
     "name": "stdout",
     "output_type": "stream",
     "text": [
      "Overwriting mapper3.py\n"
     ]
    }
   ],
   "source": [
    "%%file mapper3.py\n",
    "import sys\n",
    "import json\n",
    "import re\n",
    "import string\n",
    "\n",
    "import pandas as pd\n",
    "\n",
    "\n",
    "flag = 0\n",
    "data = []\n",
    "for line in sys.stdin:\n",
    "    line = line.split(',')\n",
    "    if flag == 0:\n",
    "        col_names = [i.strip() for i in line]\n",
    "        flag = 1\n",
    "    else:\n",
    "        data.append([int(i.strip()) for i in line])\n",
    "\n",
    "df = pd.DataFrame(data, columns=col_names)\n",
    "lst_userId = list(df.groupby(['userId'])['plays'].sum()[\n",
    "    df.groupby(['userId'])['plays'].sum() > 1000\n",
    "].reset_index().userId.values)\n",
    "\n",
    "df = df[df.userId.isin(lst_userId)]\n",
    "\n",
    "df_2 = df.groupby(['artistId'])['userId'].count().sort_values(ascending=False)\n",
    "\n",
    "print(df_2.head(10))"
   ]
  },
  {
   "cell_type": "code",
   "execution_count": 97,
   "metadata": {},
   "outputs": [
    {
     "data": {
      "text/plain": [
       "<module 'pandas' from '/opt/conda/lib/python3.6/site-packages/pandas/__init__.py'>"
      ]
     },
     "execution_count": 97,
     "metadata": {},
     "output_type": "execute_result"
    }
   ],
   "source": [
    "pd.DataFrame.reset_index"
   ]
  },
  {
   "cell_type": "code",
   "execution_count": null,
   "metadata": {},
   "outputs": [],
   "source": []
  },
  {
   "cell_type": "code",
   "execution_count": 1,
   "metadata": {},
   "outputs": [],
   "source": [
    "res = {\n",
    "    'q1': 3117,\n",
    "    'q2':[11368,\n",
    "    3629,\n",
    "    259,\n",
    "    44148,\n",
    "    23524]\n",
    "}"
   ]
  },
  {
   "cell_type": "code",
   "execution_count": 2,
   "metadata": {},
   "outputs": [],
   "source": [
    "import json"
   ]
  },
  {
   "cell_type": "code",
   "execution_count": 3,
   "metadata": {},
   "outputs": [],
   "source": [
    "with open('result.json', 'w') as fp:\n",
    "    json.dump(res, fp)"
   ]
  },
  {
   "cell_type": "code",
   "execution_count": 5,
   "metadata": {},
   "outputs": [
    {
     "name": "stdout",
     "output_type": "stream",
     "text": [
      "1.0\r\n",
      "Correct q1 answer! Correct q2 answer!\r\n"
     ]
    }
   ],
   "source": [
    "!TG_USER=Bekkasik curl -F file=@result.json \"51.250.54.133:80/MDS-LSML1/$TG_USER/w1/1\""
   ]
  },
  {
   "cell_type": "code",
   "execution_count": 124,
   "metadata": {},
   "outputs": [
    {
     "name": "stdout",
     "output_type": "stream",
     "text": [
      "1.0\r\n",
      "Correct q1 answer! Correct q2 answer!\r\n"
     ]
    }
   ],
   "source": [
    "!curl -F file=@result.json \"51.250.54.133:80/MDS-LSML1/Bekkasik/w1/1\""
   ]
  },
  {
   "cell_type": "code",
   "execution_count": null,
   "metadata": {},
   "outputs": [],
   "source": []
  }
 ],
 "metadata": {
  "kernelspec": {
   "display_name": "Python 3",
   "language": "python",
   "name": "python3"
  },
  "language_info": {
   "codemirror_mode": {
    "name": "ipython",
    "version": 3
   },
   "file_extension": ".py",
   "mimetype": "text/x-python",
   "name": "python",
   "nbconvert_exporter": "python",
   "pygments_lexer": "ipython3",
   "version": "3.6.5"
  }
 },
 "nbformat": 4,
 "nbformat_minor": 2
}
