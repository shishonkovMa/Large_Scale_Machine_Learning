{
 "cells": [
  {
   "cell_type": "markdown",
   "metadata": {},
   "source": [
    "# Homework\n",
    "\n",
    "In the lectures, we discussed the Jaccard measure and how to calculate it efficiently on MapReduce.\n",
    "\n",
    "You are invited to calculate the Jaccard measure on Spark to find similar performers in the entire dataset and answer the following questions:\n",
    "1. **How many performers remain in consideration after applying all filters from the job description?**\n",
    "2. **For how many pairs of performers did you manage to calculate non-zero similarity according to Jaccard? Here, all possible pairs (a, b) and (b, a) are taken into account, as well as (a, a), to check the correctness.**\n",
    "3. **Find the 5 most similar artists to \"Maroon 5\" by Jaccard's calculated measure. As a result, write down the names of 5 artists other than \"Maroon 5\".**\n",
    "\n",
    "Несколько напутственных слов:\n",
    "- Use the data loaded in the <a href=\"#Loading-data\">Loading-data</a> section.\n",
    "- Users who listened to $N$ artists will contribute to the similarity of $N^2$ pairs of artists. Therefore, rare very active users will greatly slow down our algorithm. For such users, in practice, take a subset of plays, for example, 1000. We will do it easier and will only consider plays where $plays > 2$, thus leaving only the most confident user preferences.\n",
    "- To make the similarities more confident, we will consider them only for those performers who were strictly listened to by more than 50 people (taking into account the previous filter by auditions).\n",
    "- To debug the algorithm on a smaller amount of data, you can use the transformation <a href=\"https://spark.apache.org/docs/latest/api/python/pyspark.html#pyspark.RDD.sample\">events.sample(False , 0.01)</a> so as not to wait long for debug runs.\n",
    "- We can assume that data about performers (for example, their popularity) will fit in the memory of each machine. There just aren't that many performers in the world that won't fit.\n",
    "- If a step takes a very long time, you can increase the degree of parallelism, for example,\n",
    "<a href=\"https://spark.apache.org/docs/latest/api/python/pyspark.html#pyspark.RDD.groupByKey\">groupByKey(numPartitions=100)</a> to see more granular progress execution.\n",
    "- Sometimes it makes sense to save the calculated result in HDFS, so as not to recalculate it again every time it is needed.\n",
    "- When working with big data, patience is required, the author's solution works for about 10 minutes.\n",
    "- This problem can also be solved in Spark SQL, if you like it better.\n",
    "\n",
    "Save the solution to the `result.json` file. \n",
    "File content example:\n",
    "```json\n",
    "{\n",
    "    \"q1\": 123,\n",
    "    \"q2\": 456,\n",
    "    \"q3\": [\n",
    "        \"artistName1\",\n",
    "        \"artistName2\",\n",
    "        \"artistName3\",\n",
    "        \"artistName4\",\n",
    "        \"artistName5\"\n",
    "    ]\n",
    "}\n",
    "```"
   ]
  },
  {
   "cell_type": "code",
   "execution_count": 1,
   "metadata": {},
   "outputs": [],
   "source": [
    "# import findspark\n",
    "# findspark.init()\n",
    "\n",
    "# import pyspark\n",
    "# sc = pyspark.SparkContext(appName='jupyter')\n",
    "\n",
    "# from pyspark.sql import SparkSession, Row\n",
    "# se = SparkSession(sc)\n",
    "\n",
    "# ! hadoop fs -copyFromLocal yandex_music /\n",
    "\n",
    "# ! hadoop fs -ls -h /yandex_music\n",
    "\n",
    "# events = se.read.csv(\"hdfs:///yandex_music/events.csv\", header=True, \n",
    "#                      schema='userId bigint, artistId bigint, plays INT, skips INT')\n",
    "# events.registerTempTable(\"events\")"
   ]
  },
  {
   "cell_type": "code",
   "execution_count": 1,
   "metadata": {},
   "outputs": [
    {
     "ename": "NameError",
     "evalue": "name 'events' is not defined",
     "output_type": "error",
     "traceback": [
      "\u001b[0;31m---------------------------------------------------------------------------\u001b[0m",
      "\u001b[0;31mNameError\u001b[0m                                 Traceback (most recent call last)",
      "Cell \u001b[0;32mIn[1], line 1\u001b[0m\n\u001b[0;32m----> 1\u001b[0m \u001b[43mevents\u001b[49m\u001b[38;5;241m.\u001b[39mshow(\u001b[38;5;241m1\u001b[39m)\n",
      "\u001b[0;31mNameError\u001b[0m: name 'events' is not defined"
     ]
    }
   ],
   "source": [
    "events.show(1)"
   ]
  },
  {
   "cell_type": "code",
   "execution_count": 69,
   "metadata": {},
   "outputs": [
    {
     "name": "stdout",
     "output_type": "stream",
     "text": [
      "+------+---+\n",
      "|userId|cnt|\n",
      "+------+---+\n",
      "|  4689|644|\n",
      "|  3121|577|\n",
      "|  4575|572|\n",
      "|  2266|519|\n",
      "|  4217|512|\n",
      "+------+---+\n",
      "only showing top 5 rows\n",
      "\n"
     ]
    }
   ],
   "source": [
    "# there are less than 1000 artists per user with plays > 2\n",
    "se.sql(\n",
    "\"\"\"\n",
    "select \n",
    "    userId,\n",
    "    count(*) as cnt\n",
    "from events\n",
    "where plays > 2\n",
    "group by userId\n",
    "order by cnt desc\n",
    "\"\"\").show(5)"
   ]
  },
  {
   "cell_type": "code",
   "execution_count": null,
   "metadata": {},
   "outputs": [],
   "source": [
    "# HERE YOUR CODE"
   ]
  },
  {
   "cell_type": "code",
   "execution_count": null,
   "metadata": {},
   "outputs": [],
   "source": [
    "# stop Spark (and YARN application)\n",
    "# sc.stop()"
   ]
  }
 ],
 "metadata": {
  "coursera": {
   "schema_names": [
    "lab-task-5a2a5e"
   ]
  },
  "kernelspec": {
   "display_name": "Python 3 (ipykernel)",
   "language": "python",
   "name": "python3"
  },
  "language_info": {
   "codemirror_mode": {
    "name": "ipython",
    "version": 3
   },
   "file_extension": ".py",
   "mimetype": "text/x-python",
   "name": "python",
   "nbconvert_exporter": "python",
   "pygments_lexer": "ipython3",
   "version": "3.10.9"
  },
  "vscode": {
   "interpreter": {
    "hash": "5f4626d50a060da4b47e18776c852ab1c193f00f2162881a84608752df882344"
   }
  }
 },
 "nbformat": 4,
 "nbformat_minor": 4
}
