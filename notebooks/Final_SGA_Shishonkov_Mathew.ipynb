{
 "cells": [
  {
   "cell_type": "markdown",
   "id": "372a278b-8677-4546-9d8b-63989d32a76f",
   "metadata": {},
   "source": [
    "# Evaluation Assignment\n",
    "\n",
    "Data: outbrain click prediction\n",
    "\n",
    "Tasks:\n",
    "Using Spark RDD, DataFrame API and Python, calculate:\n",
    "\n",
    "**1**. Top 10 most visited document_ids in the page_views_sample log\n",
    "\n",
    "**2**. How many users have at least 2 different traffic_sources in the page_views_sample log (note the value is not a count, it's an encoded enum)\n",
    "\n",
    "**3***. Top 10 most visited topic_ids in page_views_sample log (use documents_topics table)\n",
    "\n",
    "The submission format is the result.json json file with top_10_documents, users and top_10_topics keys.\n",
    "For TOP-10 results, the answer must be written in the form of a sheet ordered from TOP-1 to TOP-10 with an id.\n",
    "\n",
    "result.json example:\n",
    "\n",
    "    {\n",
    "        \"top_10_documents\": [\n",
    "            111,\n",
    "            222,\n",
    "            333,\n",
    "            ...,\n",
    "            1010\n",
    "        ],\n",
    "        \"users\": 10000,\n",
    "        \"top_10_topics\": [\n",
    "            11,\n",
    "            22,\n",
    "            33,\n",
    "            ...,\n",
    "            101\n",
    "        ]\n",
    "    }\n",
    "    \n",
    "# Preparation"
   ]
  },
  {
   "cell_type": "code",
   "execution_count": 1,
   "id": "9914f97c-e9fb-427a-a5de-8d8fb6b3da91",
   "metadata": {
    "tags": []
   },
   "outputs": [
    {
     "name": "stdout",
     "output_type": "stream",
     "text": [
      "jovyan\n",
      " * Starting OpenBSD Secure Shell server sshd\n",
      "start-stop-daemon: unable to set gid to 0 (Operation not permitted)\n",
      "   ...fail!\n",
      " * sshd is running\n",
      "Starting namenodes on [localhost]\n",
      "localhost: Warning: Permanently added 'localhost' (ED25519) to the list of known hosts.\n",
      "localhost: namenode is running as process 155.  Stop it first and ensure /tmp/hadoop-jovyan-namenode.pid file is empty before retry.\n",
      "Starting datanodes\n",
      "localhost: Warning: Permanently added 'localhost' (ED25519) to the list of known hosts.\n",
      "localhost: datanode is running as process 276.  Stop it first and ensure /tmp/hadoop-jovyan-datanode.pid file is empty before retry.\n",
      "Starting secondary namenodes [0cddd7a95d84]\n",
      "0cddd7a95d84: Warning: Permanently added '0cddd7a95d84' (ED25519) to the list of known hosts.\n",
      "0cddd7a95d84: secondarynamenode is running as process 514.  Stop it first and ensure /tmp/hadoop-jovyan-secondarynamenode.pid file is empty before retry.\n",
      "Starting resourcemanager\n",
      "resourcemanager is running as process 749.  Stop it first and ensure /tmp/hadoop-jovyan-resourcemanager.pid file is empty before retry.\n",
      "Starting nodemanagers\n",
      "localhost: Warning: Permanently added 'localhost' (ED25519) to the list of known hosts.\n",
      "localhost: nodemanager is running as process 871.  Stop it first and ensure /tmp/hadoop-jovyan-nodemanager.pid file is empty before retry.\n",
      "WARNING: Use of this script to start the MR JobHistory daemon is deprecated.\n",
      "WARNING: Attempting to execute replacement \"mapred --daemon start\" instead.\n",
      "221938 org.apache.spark.executor.YarnCoarseGrainedExecutorBackend --driver-url spark://CoarseGrainedScheduler@0cddd7a95d84:37323 --executor-id 3 --hostname 0cddd7a95d84 --cores 1 --app-id application_1681926456357_0017 --resourceProfileId 0 --user-class-path file:/tmp/hadoop-jovyan/nm-local-dir/usercache/jovyan/appcache/application_1681926456357_0017/container_1681926456357_0017_01_000004/__app__.jar\n",
      "514 org.apache.hadoop.hdfs.server.namenode.SecondaryNameNode\n",
      "276 org.apache.hadoop.hdfs.server.datanode.DataNode\n",
      "261046 sun.tools.jps.Jps -lm\n",
      "871 org.apache.hadoop.yarn.server.nodemanager.NodeManager\n",
      "127627 org.apache.spark.deploy.yarn.ExecutorLauncher --arg 0cddd7a95d84:37323 --properties-file /tmp/hadoop-jovyan/nm-local-dir/usercache/jovyan/appcache/application_1681926456357_0017/container_1681926456357_0017_01_000001/__spark_conf__/__spark_conf__.properties --dist-cache-conf /tmp/hadoop-jovyan/nm-local-dir/usercache/jovyan/appcache/application_1681926456357_0017/container_1681926456357_0017_01_000001/__spark_conf__/__spark_dist_cache__.properties\n",
      "155 org.apache.hadoop.hdfs.server.namenode.NameNode\n",
      "749 org.apache.hadoop.yarn.server.resourcemanager.ResourceManager\n",
      "127388 org.apache.spark.deploy.SparkSubmit pyspark-shell\n",
      "127694 org.apache.spark.executor.YarnCoarseGrainedExecutorBackend --driver-url spark://CoarseGrainedScheduler@0cddd7a95d84:37323 --executor-id 1 --hostname 0cddd7a95d84 --cores 1 --app-id application_1681926456357_0017 --resourceProfileId 0 --user-class-path file:/tmp/hadoop-jovyan/nm-local-dir/usercache/jovyan/appcache/application_1681926456357_0017/container_1681926456357_0017_01_000002/__app__.jar\n",
      "Configured Capacity: 211271204864 (196.76 GB)\n",
      "Present Capacity: 160701632512 (149.67 GB)\n",
      "DFS Remaining: 156911575040 (146.14 GB)\n",
      "DFS Used: 3790057472 (3.53 GB)\n",
      "DFS Used%: 2.36%\n",
      "Replicated Blocks:\n",
      "\tUnder replicated blocks: 0\n",
      "\tBlocks with corrupt replicas: 0\n",
      "\tMissing blocks: 0\n",
      "\tMissing blocks (with replication factor 1): 0\n",
      "\tLow redundancy blocks with highest priority to recover: 0\n",
      "\tPending deletion blocks: 0\n",
      "Erasure Coded Block Groups: \n",
      "\tLow redundancy block groups: 0\n",
      "\tBlock groups with corrupt internal blocks: 0\n",
      "\tMissing block groups: 0\n",
      "\tLow redundancy blocks with highest priority to recover: 0\n",
      "\tPending deletion blocks: 0\n",
      "\n",
      "-------------------------------------------------\n",
      "Live datanodes (1):\n",
      "\n",
      "Name: 127.0.0.1:9866 (localhost)\n",
      "Hostname: 0cddd7a95d84\n",
      "Decommission Status : Normal\n",
      "Configured Capacity: 211271204864 (196.76 GB)\n",
      "DFS Used: 3790057472 (3.53 GB)\n",
      "Non DFS Used: 41909628928 (39.03 GB)\n",
      "DFS Remaining: 156911575040 (146.14 GB)\n",
      "DFS Used%: 1.79%\n",
      "DFS Remaining%: 74.27%\n",
      "Configured Cache Capacity: 0 (0 B)\n",
      "Cache Used: 0 (0 B)\n",
      "Cache Remaining: 0 (0 B)\n",
      "Cache Used%: 100.00%\n",
      "Cache Remaining%: 0.00%\n",
      "Xceivers: 0\n",
      "Last contact: Fri Apr 21 17:40:13 UTC 2023\n",
      "Last Block Report: Fri Apr 21 14:32:13 UTC 2023\n",
      "Num of Blocks: 272\n",
      "\n",
      "\n",
      "chmod: changing permissions of '/home/jovyan/jupyter.log': Operation not permitted\n",
      "chmod: changing permissions of '/home/jovyan/nginx.log': Operation not permitted\n",
      "chmod: changing permissions of '/home/jovyan/error.log': Operation not permitted\n",
      "chmod: changing permissions of '/home/jovyan/access.log': Operation not permitted\n"
     ]
    }
   ],
   "source": [
    "import tqdm.notebook as tqdm\n",
    "import json\n",
    "\n",
    "\n",
    "!/home/jovyan/start-hadoop.sh;"
   ]
  },
  {
   "cell_type": "code",
   "execution_count": 73,
   "id": "3633d719-6227-4799-8f96-a87e969bf955",
   "metadata": {
    "tags": []
   },
   "outputs": [],
   "source": [
    "import findspark\n",
    "findspark.init()\n",
    "\n",
    "import pyspark\n",
    "sc = pyspark.SparkContext(appName='jupyter')\n",
    "\n",
    "from pyspark.sql import SparkSession\n",
    "from pyspark.sql.functions import countDistinct\n",
    "se = SparkSession(sc)"
   ]
  },
  {
   "cell_type": "code",
   "execution_count": 6,
   "id": "c6331c57-567f-44de-91c1-88892d9895f6",
   "metadata": {
    "tags": []
   },
   "outputs": [
    {
     "name": "stdout",
     "output_type": "stream",
     "text": [
      "Filesystem                Size   Used  Available  Use%\n",
      "hdfs://localhost:9000  196.8 G  3.8 G    145.6 G    2%\n"
     ]
    }
   ],
   "source": [
    "!hdfs dfs -df -h"
   ]
  },
  {
   "cell_type": "code",
   "execution_count": 10,
   "id": "81f32577-383a-401f-b842-311b7ceabe97",
   "metadata": {
    "tags": []
   },
   "outputs": [
    {
     "name": "stdout",
     "output_type": "stream",
     "text": [
      "Found 3 items\n",
      "drwxrwx---   - root   supergroup          0 2023-04-19 14:53 /tmp\n",
      "drwxr-xr-x   - jovyan supergroup          0 2023-04-19 14:53 /user\n",
      "drwxr-xr-x   - jovyan supergroup          0 2023-04-19 22:00 /wiki\n"
     ]
    }
   ],
   "source": [
    "!hdfs dfs -ls /."
   ]
  },
  {
   "cell_type": "code",
   "execution_count": 11,
   "id": "0996ba5e-f82f-4cee-acf2-abaa92aa8c94",
   "metadata": {
    "tags": []
   },
   "outputs": [],
   "source": [
    "!mkdir -p ~/.kaggle"
   ]
  },
  {
   "cell_type": "code",
   "execution_count": 54,
   "id": "7c8b17f4-e935-470f-aafb-23eebc3fe6e4",
   "metadata": {
    "tags": []
   },
   "outputs": [],
   "source": [
    "!cat kaggle.json > ~/.kaggle/kaggle.json"
   ]
  },
  {
   "cell_type": "code",
   "execution_count": 57,
   "id": "06541440-e09e-4cf9-945d-382b8687d418",
   "metadata": {
    "tags": []
   },
   "outputs": [
    {
     "name": "stdout",
     "output_type": "stream",
     "text": [
      "Requirement already satisfied: urllib3 in /opt/conda/lib/python3.10/site-packages (1.24.3)\n",
      "Collecting urllib3\n",
      "  Using cached urllib3-1.26.15-py2.py3-none-any.whl (140 kB)\n",
      "Requirement already satisfied: kaggle==1.5.3 in /opt/conda/lib/python3.10/site-packages (1.5.3)\n",
      "Requirement already satisfied: certifi in /opt/conda/lib/python3.10/site-packages (from kaggle==1.5.3) (2022.12.7)\n",
      "Requirement already satisfied: tqdm in /opt/conda/lib/python3.10/site-packages (from kaggle==1.5.3) (4.65.0)\n",
      "Requirement already satisfied: python-dateutil in /opt/conda/lib/python3.10/site-packages (from kaggle==1.5.3) (2.8.2)\n",
      "Requirement already satisfied: requests in /opt/conda/lib/python3.10/site-packages (from kaggle==1.5.3) (2.28.2)\n",
      "Requirement already satisfied: python-slugify in /opt/conda/lib/python3.10/site-packages (from kaggle==1.5.3) (8.0.1)\n",
      "Requirement already satisfied: six>=1.10 in /opt/conda/lib/python3.10/site-packages (from kaggle==1.5.3) (1.16.0)\n",
      "Requirement already satisfied: text-unidecode>=1.3 in /opt/conda/lib/python3.10/site-packages (from python-slugify->kaggle==1.5.3) (1.3)\n",
      "Requirement already satisfied: idna<4,>=2.5 in /opt/conda/lib/python3.10/site-packages (from requests->kaggle==1.5.3) (3.4)\n",
      "Requirement already satisfied: charset-normalizer<4,>=2 in /opt/conda/lib/python3.10/site-packages (from requests->kaggle==1.5.3) (2.1.1)\n",
      "Downloading page_views_sample.csv.zip to /home/jovyan/work\n",
      "100%|███████████████████████████████████████▊| 148M/149M [00:06<00:00, 27.9MB/s]\n",
      "100%|████████████████████████████████████████| 149M/149M [00:06<00:00, 24.0MB/s]\n",
      "Downloading documents_topics.csv.zip to /home/jovyan/work\n",
      " 99%|███████████████████████████████████████▋| 120M/121M [00:05<00:00, 28.4MB/s]\n",
      "100%|████████████████████████████████████████| 121M/121M [00:05<00:00, 22.7MB/s]\n"
     ]
    }
   ],
   "source": [
    "!chmod 600 ~/.kaggle/kaggle.json\n",
    "!pip install -U urllib3 kaggle==1.5.3\n",
    "!kaggle competitions download -c outbrain-click-prediction -f page_views_sample.csv.zip\n",
    "!kaggle competitions download -c outbrain-click-prediction -f documents_topics.csv.zip"
   ]
  },
  {
   "cell_type": "code",
   "execution_count": 67,
   "id": "f780c892-d55a-411d-b62d-21844087e76f",
   "metadata": {
    "tags": []
   },
   "outputs": [],
   "source": [
    "# !unzip '*.zip'\n",
    "# !rm -rf *.zip"
   ]
  },
  {
   "cell_type": "code",
   "execution_count": 69,
   "id": "9a3845e4-ed0a-4b4e-bb5f-ff1c8b728d9a",
   "metadata": {
    "tags": []
   },
   "outputs": [
    {
     "name": "stdout",
     "output_type": "stream",
     "text": [
      "put: `page_views_sample.csv': File exists\n",
      "put: `documents_topics.csv': File exists\n"
     ]
    }
   ],
   "source": [
    "!hdfs dfs -put page_views_sample.csv\n",
    "!hdfs dfs -put documents_topics.csv"
   ]
  },
  {
   "cell_type": "code",
   "execution_count": 75,
   "id": "9e34a646-6fe5-437d-921a-96909a2bb923",
   "metadata": {
    "tags": []
   },
   "outputs": [
    {
     "name": "stderr",
     "output_type": "stream",
     "text": [
      "                                                                                \r"
     ]
    }
   ],
   "source": [
    "page_views_sample = se.read.csv(\"page_views_sample.csv\", header=True)\n",
    "documents_topics = se.read.csv(\"documents_topics.csv\", header=True)"
   ]
  },
  {
   "cell_type": "markdown",
   "id": "4dd03da4-846d-4516-971b-5893ddf8739b",
   "metadata": {},
   "source": [
    "# Solution\n",
    "## 1. Top 10 most visited document_ids in the page_views_sample log"
   ]
  },
  {
   "cell_type": "code",
   "execution_count": 76,
   "id": "a1470102-a0c6-4dcb-97ba-e997030fe0de",
   "metadata": {
    "tags": []
   },
   "outputs": [
    {
     "name": "stderr",
     "output_type": "stream",
     "text": [
      "                                                                                \r"
     ]
    }
   ],
   "source": [
    "first = page_views_sample \\\n",
    "            .groupBy(\"document_id\") \\\n",
    "            .count() \\\n",
    "            .orderBy(\"count\", ascending=False) \\\n",
    "            .limit(10) \\\n",
    "            .rdd.map(lambda row: int(row.document_id)) \\\n",
    "            .collect()"
   ]
  },
  {
   "cell_type": "markdown",
   "id": "06726137-4ce9-4dd1-ae3c-b5cabde19a6f",
   "metadata": {},
   "source": [
    "## 2. How many users have at least 2 different traffic_sources in the page_views_sample log (note the value is not a count, it's an encoded enum)"
   ]
  },
  {
   "cell_type": "code",
   "execution_count": 77,
   "id": "118f7c96-a427-4513-a522-9abe00503e87",
   "metadata": {
    "tags": []
   },
   "outputs": [
    {
     "name": "stderr",
     "output_type": "stream",
     "text": [
      "                                                                                \r"
     ]
    }
   ],
   "source": [
    "second = page_views_sample \\\n",
    "            .groupBy(\"uuid\") \\\n",
    "            .agg(countDistinct(\"traffic_source\").alias(\"distinct_traffic_sources\")) \\\n",
    "            .where(\"distinct_traffic_sources >= 2\") \\\n",
    "            .count()"
   ]
  },
  {
   "cell_type": "markdown",
   "id": "5ff1e2a9-627b-4e60-a4dd-864ae808d6cc",
   "metadata": {},
   "source": [
    "## 3*. Top 10 most visited topic_ids in page_views_sample log (use documents_topics table)"
   ]
  },
  {
   "cell_type": "code",
   "execution_count": 78,
   "id": "025e8c95-efe7-4330-82e8-46c8e9626d16",
   "metadata": {
    "tags": []
   },
   "outputs": [
    {
     "name": "stderr",
     "output_type": "stream",
     "text": [
      "                                                                                \r"
     ]
    }
   ],
   "source": [
    "third = page_views_sample \\\n",
    "            .join(documents_topics, on=\"document_id\", how=\"inner\") \\\n",
    "            .groupBy(\"topic_id\") \\\n",
    "            .count() \\\n",
    "            .orderBy(\"count\", ascending=False) \\\n",
    "            .limit(10) \\\n",
    "            .rdd.map(lambda row: int(row.topic_id)) \\\n",
    "            .collect()"
   ]
  },
  {
   "cell_type": "markdown",
   "id": "76feecf7-336c-45de-a8f2-c83b5d371adf",
   "metadata": {},
   "source": [
    "# Finish"
   ]
  },
  {
   "cell_type": "code",
   "execution_count": 79,
   "id": "9f6f19cb-43d8-4351-851e-d04735ecf26f",
   "metadata": {
    "tags": []
   },
   "outputs": [
    {
     "name": "stdout",
     "output_type": "stream",
     "text": [
      "1.0\n",
      "Well done!\n"
     ]
    }
   ],
   "source": [
    "with open(\"result.json\", \"w\") as f:\n",
    "    json.dump(\n",
    "        {\n",
    "            \"top_10_documents\": first,\n",
    "            \"users\": second,\n",
    "            \"top_10_topics\": third,\n",
    "        }, f\n",
    "    )\n",
    "\n",
    "!curl -F file=@result.json \"51.250.54.133:80/MDS-LSML1/m_shishonkov/w4/1\""
   ]
  },
  {
   "cell_type": "code",
   "execution_count": null,
   "id": "6045f143-5ff6-418b-b0ad-8fe79ca0168d",
   "metadata": {},
   "outputs": [],
   "source": []
  }
 ],
 "metadata": {
  "kernelspec": {
   "display_name": "Python 3 (ipykernel)",
   "language": "python",
   "name": "python3"
  },
  "language_info": {
   "codemirror_mode": {
    "name": "ipython",
    "version": 3
   },
   "file_extension": ".py",
   "mimetype": "text/x-python",
   "name": "python",
   "nbconvert_exporter": "python",
   "pygments_lexer": "ipython3",
   "version": "3.10.9"
  }
 },
 "nbformat": 4,
 "nbformat_minor": 5
}
